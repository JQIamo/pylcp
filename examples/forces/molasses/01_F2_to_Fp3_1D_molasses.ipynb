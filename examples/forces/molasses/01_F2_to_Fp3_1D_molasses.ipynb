{
 "cells": [
  {
   "cell_type": "markdown",
   "metadata": {},
   "source": [
    "author: @SteveEckel\n",
    "\n",
    "This example covers calculating the forces in a one-dimensional optical molasses\n",
    "using the optical bloch equations.  It reproduces Fig. 5 of Ungar, P. J., Weiss,\n",
    "D. S., Riis, E., & Chu, S. (1989). Optical molasses and multilevel atoms:\n",
    "theory. Journal of the Optical Society of America B, 6(11), 2058.\n",
    "http://doi.org/10.1364/JOSAB.6.002058"
   ]
  },
  {
   "cell_type": "code",
   "execution_count": 1,
   "metadata": {},
   "outputs": [],
   "source": [
    "import numpy as np\n",
    "import matplotlib.pyplot as plt\n",
    "import pylcp\n",
    "import pylcp.tools\n",
    "import time\n",
    "plt.style.use('paper')"
   ]
  },
  {
   "cell_type": "markdown",
   "metadata": {},
   "source": [
    "### Set up the problem"
   ]
  },
  {
   "cell_type": "code",
   "execution_count": 3,
   "metadata": {},
   "outputs": [],
   "source": [
    "laser_det = 0.\n",
    "det = -2.73\n",
    "beta = 1.25\n",
    "\n",
    "laserBeams = {}\n",
    "laserBeams['$\\\\sigma^+\\\\sigma^+$'] = pylcp.laserBeams([\n",
    "    {'kvec':np.array([0., 0., 1.]), 'pol':np.array([0., 0., 1.]),\n",
    "     'pol_coord':'spherical', 'delta':laser_det, 'beta':beta},\n",
    "    {'kvec':np.array([0., 0., -1.]), 'pol':np.array([0., 0., 1.]),\n",
    "     'pol_coord':'spherical', 'delta':laser_det, 'beta':beta},\n",
    "    ], beam_type=pylcp.infinitePlaneWaveBeam)\n",
    "\n",
    "laserBeams['$\\\\sigma^+\\\\sigma^-$'] = pylcp.laserBeams([\n",
    "    {'kvec':np.array([0., 0., 1.]), 'pol':np.array([0., 0., 1.]),\n",
    "     'pol_coord':'spherical', 'delta':laser_det, 'beta':beta},\n",
    "    {'kvec':np.array([0., 0., -1.]), 'pol':np.array([1., 0., 0.]),\n",
    "     'pol_coord':'spherical', 'delta':laser_det, 'beta':beta},\n",
    "    ], beam_type=pylcp.infinitePlaneWaveBeam)\n",
    "\n",
    "phi = [0, np.pi/2]\n",
    "phi_keys = ['$\\phi=0$', '$\\phi=\\pi/2$']\n",
    "for phi_i, key_beam in zip(phi, phi_keys):\n",
    "    laserBeams[key_beam] = pylcp.laserBeams([\n",
    "        {'kvec':np.array([0., 0., 1.]), 'pol':np.array([1., 0., 0.]),\n",
    "         'pol_coord':'cartesian', 'delta':0, 'beta':beta},\n",
    "        {'kvec':np.array([0., 0., -1.]),\n",
    "         'pol':np.array([np.cos(phi_i), np.sin(phi_i), 0.]),\n",
    "         'pol_coord':'cartesian', 'delta':0, 'beta':beta}\n",
    "        ], beam_type=pylcp.infinitePlaneWaveBeam)\n",
    "\n",
    "# Hamiltonian for F=2->F=3\n",
    "Hg, Bgq = pylcp.hamiltonians.singleF(F=2, gF=0, muB=1)\n",
    "He, Beq = pylcp.hamiltonians.singleF(F=3, gF=1/3, muB=1)\n",
    "dijq = pylcp.hamiltonians.dqij_two_bare_hyperfine(2, 3)\n",
    "hamiltonian = pylcp.hamiltonian(Hg, det*np.eye(7)+He, Bgq, Beq, dijq)\n",
    "\n",
    "obe_F2_F3 = {}\n",
    "\n",
    "magField = lambda R: np.zeros(R.shape)"
   ]
  },
  {
   "cell_type": "markdown",
   "metadata": {},
   "source": [
    "### First, make Fig. 6 from Unager."
   ]
  },
  {
   "cell_type": "code",
   "execution_count": 4,
   "metadata": {},
   "outputs": [
    {
     "name": "stdout",
     "output_type": "stream",
     "text": [
      "Running $\\sigma^+\\sigma^+$...\n",
      "Completed in 1:15.                                                                               \n",
      "Total computation time for $\\sigma^+\\sigma^+$ is 75.793\n",
      "Running $\\sigma^+\\sigma^-$...\n",
      "Completed in 3:12.                                                                               \n",
      "Total computation time for $\\sigma^+\\sigma^-$ is 192.931\n",
      "Running $\\phi=0$...\n",
      "Completed in 2:07.                                                                               \n",
      "Total computation time for $\\phi=0$ is 127.123\n",
      "Running $\\phi=\\pi/2$...\n",
      "Completed in 2:07.                                                                               \n",
      "Total computation time for $\\phi=\\pi/2$ is 127.871\n"
     ]
    },
    {
     "data": {
      "image/png": "[encoded data removed]",
      "text/plain": [
       "<Figure size 487.5x412.5 with 1 Axes>"
      ]
     },
     "metadata": {
      "needs_background": "light"
     },
     "output_type": "display_data"
    }
   ],
   "source": [
    "v = np.arange(0.0, 0.05, 0.0025)\n",
    "keys_of_interest = ['$\\\\sigma^+\\\\sigma^+$', '$\\\\sigma^+\\\\sigma^-$',\n",
    "                    '$\\phi=0$', '$\\phi=\\pi/2$']\n",
    "\n",
    "for key_i in keys_of_interest:\n",
    "    print('Running %s' % key_i + '...')\n",
    "    obe_F2_F3[key_i] = pylcp.obe(laserBeams[key_i], magField, hamiltonian,\n",
    "                                 transform_into_re_im=True)\n",
    "\n",
    "    tic=time.time()\n",
    "    obe_F2_F3[key_i].generate_force_profile(\n",
    "        [np.zeros(v.shape), np.zeros(v.shape), np.zeros(v.shape)],\n",
    "        [np.zeros(v.shape), np.zeros(v.shape), v],\n",
    "        name='molasses', deltat_tmax=2*np.pi*1000, deltat_v=4, itermax=1000,\n",
    "        rel=1e-6, abs=1e-10, progress_bar=True\n",
    "    )\n",
    "    toc=time.time()\n",
    "    print('Total computation time for %s is %.3f' % (key_i, toc-tic))\n",
    "\n",
    "fig, ax = plt.subplots(1, 1, num=\"Forces; F=2 to F=3\")\n",
    "for key_i in keys_of_interest:\n",
    "    ax.plot(v, obe_F2_F3[key_i].profile['molasses'].F[2], label=key_i)"
   ]
  },
  {
   "cell_type": "markdown",
   "metadata": {},
   "source": [
    "### Now, make Fig. 8 from Unager."
   ]
  },
  {
   "cell_type": "code",
   "execution_count": null,
   "metadata": {},
   "outputs": [],
   "source": [
    "dets = [-1.0, -1.37, -2.73]\n",
    "betas = [0.5, 1.25, 2.5]\n",
    "\n",
    "key_i = '$\\\\sigma^+\\\\sigma^-$'\n",
    "\n",
    "fig, ax = plt.subplots(2, 1, num=\"Forces vs. detuning and intensity\",\n",
    "                        figsize=(3.25, 2*2.75))\n",
    "\n",
    "for det in dets:\n",
    "    for beam in laserBeams[key_i].beam_vector:\n",
    "        beam.delta = det\n",
    "\n",
    "    obe = pylcp.obe(laserBeams[key_i], magField, hamiltonian)\n",
    "\n",
    "    obe.generate_force_profile(\n",
    "        [np.zeros(v.shape), np.zeros(v.shape), np.zeros(v.shape)],\n",
    "        [np.zeros(v.shape), np.zeros(v.shape), v],\n",
    "        name='molasses', deltat_tmax=2*np.pi*1000, deltat_v=4, itermax=1000,\n",
    "        rel=1e-6, abs=1e-10, progress_bar=True\n",
    "    )\n",
    "\n",
    "    ax[0].plot(v, obe.profile['molasses'].F[2], label='$\\delta = %f' % det)\n",
    "\n",
    "for beta in betas:\n",
    "    for beam in laserBeams[key_i].beam_vector:\n",
    "        beam.beta = beta\n",
    "\n",
    "    obe = pylcp.obe(laserBeams[key_i], magField, hamiltonian)\n",
    "\n",
    "    obe.generate_force_profile(\n",
    "        [np.zeros(v.shape), np.zeros(v.shape), np.zeros(v.shape)],\n",
    "        [np.zeros(v.shape), np.zeros(v.shape), v],\n",
    "        name='molasses', deltat_tmax=2*np.pi*1000, deltat_v=4, itermax=1000,\n",
    "        rel=1e-6, abs=1e-10, progress_bar=True\n",
    "    )\n",
    "\n",
    "    ax[1].plot(v, obe.profile['molasses'].F[2], label='$\\beta = %f' % beta)\n",
    "\n",
    "# Reset the key back to the default value:\n",
    "for beams in laserBeams[key_i].beam_vector:\n",
    "    beam.beta = 1.25"
   ]
  },
  {
   "cell_type": "markdown",
   "metadata": {},
   "source": [
    "### Now, make Fig. 9 from Unager."
   ]
  },
  {
   "cell_type": "code",
   "execution_count": null,
   "metadata": {},
   "outputs": [],
   "source": [
    "keys_of_interest = ['$\\\\sigma^+\\\\sigma^+$', '$\\\\sigma^+\\\\sigma^-$']\n",
    "\n",
    "v = np.concatenate((np.arange(0.01, 0.2, 0.01), np.arange(0.2, 3.5, 0.1)))\n",
    "\n",
    "fig, ax = plt.subplots(1, 1, num=\"Force to Doppler velocity\",\n",
    "                       figsize=(3.25, 2.75))\n",
    "\n",
    "for key in keys_of_interest:\n",
    "    obe = pylcp.obe(laserBeams[key], magField, hamiltonian)\n",
    "\n",
    "    obe.generate_force_profile(\n",
    "        [np.zeros(v.shape), np.zeros(v.shape), np.zeros(v.shape)],\n",
    "        [np.zeros(v.shape), np.zeros(v.shape), v],\n",
    "        name='molasses', deltat_tmax=2*np.pi*1000, deltat_v=4, itermax=1000,\n",
    "        rel=1e-6, abs=1e-10, progress_bar=True\n",
    "    )\n",
    "\n",
    "    ax.plot(v, obe.profile['molasses'].F[2], label=key)"
   ]
  }
 ],
 "metadata": {
  "kernelspec": {
   "display_name": "Python 3",
   "language": "python",
   "name": "python3"
  },
  "language_info": {
   "codemirror_mode": {
    "name": "ipython",
    "version": 3
   },
   "file_extension": ".py",
   "mimetype": "text/x-python",
   "name": "python",
   "nbconvert_exporter": "python",
   "pygments_lexer": "ipython3",
   "version": "3.7.6"
  }
 },
 "nbformat": 4,
 "nbformat_minor": 4
}
