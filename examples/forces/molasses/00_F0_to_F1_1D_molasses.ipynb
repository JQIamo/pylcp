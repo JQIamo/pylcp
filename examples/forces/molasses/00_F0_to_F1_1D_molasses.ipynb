{
 "cells": [
  {
   "cell_type": "markdown",
   "metadata": {},
   "source": [
    "author: @SteveEckel\n",
    "\n",
    "This example covers calculating the forces in a one-dimensional optical molasses\n",
    "using the optical bloch equations.  This example does the boring thing and\n",
    "checks that everything is working on the $F=0\\rightarrow F=1$ transition, which of course\n",
    "has no sub-Doppler effect.\n",
    "\n",
    "It first checks the force along the $\\hat{z}$-direction.  One should look to see that\n",
    "things agree with what one expects whether or not one puts the detuning on\n",
    "the lasers or on the Hamilonian.  One should also look at whether the force\n",
    "depends on transforming the OBEs into the real/imaginary components."
   ]
  },
  {
   "cell_type": "code",
   "execution_count": 3,
   "metadata": {},
   "outputs": [],
   "source": [
    "import numpy as np\n",
    "import matplotlib.pyplot as plt\n",
    "import pylcp\n",
    "import pylcp.tools\n",
    "import time\n",
    "#from pstats import SortKey\n",
    "from scipy.optimize import fsolve\n",
    "#plt.style.use('paper')"
   ]
  },
  {
   "cell_type": "markdown",
   "metadata": {},
   "source": [
    "### Define the multiple laser beam configurations to start:\n",
    "Can play with how we divide up the rotating frame a bit.  Answers should\n",
    "of course be independent (speed may not be)"
   ]
  },
  {
   "cell_type": "code",
   "execution_count": 4,
   "metadata": {},
   "outputs": [],
   "source": [
    "laser_det = 0.\n",
    "ham_det = -2.\n",
    "beta = 1.25\n",
    "\n",
    "laserBeams = {}\n",
    "laserBeams['$\\\\sigma^+\\\\sigma^+$'] = pylcp.laserBeams([\n",
    "    {'kvec':np.array([0., 0., 1.]), 'pol':np.array([0., 0., 1.]),\n",
    "     'pol_coord':'spherical', 'delta':laser_det, 'beta':beta},\n",
    "    {'kvec':np.array([0., 0., -1.]), 'pol':np.array([0., 0., 1.]),\n",
    "     'pol_coord':'spherical', 'delta':laser_det, 'beta':beta},\n",
    "    ], beam_type=pylcp.infinitePlaneWaveBeam)\n",
    "\n",
    "laserBeams['$\\\\sigma^+\\\\sigma^-$'] = pylcp.laserBeams([\n",
    "    {'kvec':np.array([0., 0., 1.]), 'pol':np.array([0., 0., 1.]),\n",
    "     'pol_coord':'spherical', 'delta':laser_det, 'beta':beta},\n",
    "    {'kvec':np.array([0., 0., -1.]), 'pol':np.array([1., 0., 0.]),\n",
    "     'pol_coord':'spherical', 'delta':laser_det, 'beta':beta},\n",
    "    ], beam_type=pylcp.infinitePlaneWaveBeam)\n",
    "\n",
    "laserBeams['$\\\\pi_x\\\\pi_x$'] = pylcp.laserBeams([\n",
    "    {'kvec':np.array([0., 0., 1.]), 'pol':np.array([1., 0., 0.]),\n",
    "     'pol_coord':'cartesian', 'delta':laser_det, 'beta':beta},\n",
    "    {'kvec':np.array([0., 0., -1.]), 'pol':np.array([1., 0., 0.]),\n",
    "     'pol_coord':'cartesian', 'delta':laser_det, 'beta':beta},\n",
    "    ], beam_type=pylcp.infinitePlaneWaveBeam)\n",
    "\n",
    "laserBeams['$\\\\pi_x\\\\pi_y$'] = pylcp.laserBeams([\n",
    "    {'kvec':np.array([0., 0., 1.]), 'pol':np.array([1., 0., 0.]),\n",
    "     'pol_coord':'cartesian', 'delta':laser_det, 'beta':beta},\n",
    "    {'kvec':np.array([0., 0., -1.]), 'pol':np.array([0., 1., 0.]),\n",
    "     'pol_coord':'cartesian', 'delta':laser_det, 'beta':beta},\n",
    "    ], beam_type=pylcp.infinitePlaneWaveBeam)\n",
    "\n",
    "laserBeams['$\\\\sigma^+\\\\sigma^-$'].total_electric_field_gradient(np.array([0., 0., 0.]), 0.)\n",
    "magField = lambda R: np.zeros(R.shape)\n",
    "\n",
    "# Hamiltonian for F=0->F=1\n",
    "Hg, Bgq = pylcp.hamiltonians.singleF(F=0, gF=0, muB=1)\n",
    "He, Beq = pylcp.hamiltonians.singleF(F=1, gF=1, muB=1)\n",
    "dijq = pylcp.hamiltonians.dqij_two_bare_hyperfine(0, 1)\n",
    "ham_F0_to_F1 = pylcp.hamiltonian(Hg, He - ham_det*np.eye(3), Bgq, Beq, dijq)"
   ]
  },
  {
   "cell_type": "markdown",
   "metadata": {},
   "source": [
    "### Check to see that the rate equations and OBE agree for $F=0\\rightarrow F'=1$, two-state solution:"
   ]
  },
  {
   "cell_type": "code",
   "execution_count": 5,
   "metadata": {},
   "outputs": [
    {
     "name": "stdout",
     "output_type": "stream",
     "text": [
      "Working on $\\sigma^+\\sigma^+$:\n",
      "Completed in 12.63 s.                                              \n",
      "Working on $\\sigma^+\\sigma^-$:\n",
      "Completed in 41.94 s.                                               \n",
      "Working on $\\pi_x\\pi_x$:\n",
      "Completed in 24.66 s.                                               \n",
      "Working on $\\pi_x\\pi_y$:\n",
      "Completed in 21.68 s.                                               \n"
     ]
    }
   ],
   "source": [
    "obe={}\n",
    "rateeq={}\n",
    "\n",
    "# Define a v axis:\n",
    "v = np.arange(-5.0, 5.1, 0.25)\n",
    "\n",
    "for jj, key in enumerate(laserBeams.keys()):\n",
    "    print('Working on %s:' % key)\n",
    "    rateeq[key] = pylcp.rateeq(laserBeams[key], magField, ham_F0_to_F1)\n",
    "    obe[key] = pylcp.obe(laserBeams[key], magField, ham_F0_to_F1,\n",
    "                         transform_into_re_im=True, include_mag_forces=True)\n",
    "\n",
    "    # Generate a rateeq model of what's going on:\n",
    "    rateeq[key].generate_force_profile(\n",
    "        [np.zeros(v.shape), np.zeros(v.shape), np.zeros(v.shape)],\n",
    "        [np.zeros(v.shape), np.zeros(v.shape), v],\n",
    "        name='molasses'\n",
    "    )\n",
    "\n",
    "    obe[key].generate_force_profile(\n",
    "        [np.zeros(v.shape), np.zeros(v.shape), np.zeros(v.shape)],\n",
    "        [np.zeros(v.shape), np.zeros(v.shape), v],\n",
    "        name='molasses', deltat_tmax=2*np.pi*100, deltat_v=4, itermax=1000,\n",
    "        progress_bar=True,\n",
    "    )"
   ]
  },
  {
   "cell_type": "markdown",
   "metadata": {},
   "source": [
    "Plot 'er up:"
   ]
  },
  {
   "cell_type": "code",
   "execution_count": 7,
   "metadata": {},
   "outputs": [
    {
     "name": "stderr",
     "output_type": "stream",
     "text": [
      "No handles with labels found to put in legend.\n"
     ]
    },
    {
     "ename": "KeyError",
     "evalue": "'$\\\\sigma^+\\\\sigma^+$'",
     "output_type": "error",
     "traceback": [
      "\u001b[1;31m---------------------------------------------------------------------------\u001b[0m",
      "\u001b[1;31mKeyError\u001b[0m                                  Traceback (most recent call last)",
      "\u001b[1;32m<ipython-input-7-8d646410ebca>\u001b[0m in \u001b[0;36m<module>\u001b[1;34m\u001b[0m\n\u001b[0;32m     14\u001b[0m \u001b[0mtypes\u001b[0m \u001b[1;33m=\u001b[0m \u001b[1;33m[\u001b[0m\u001b[1;34m'-'\u001b[0m\u001b[1;33m,\u001b[0m \u001b[1;34m'--'\u001b[0m\u001b[1;33m,\u001b[0m \u001b[1;34m'-.'\u001b[0m\u001b[1;33m]\u001b[0m\u001b[1;33m\u001b[0m\u001b[1;33m\u001b[0m\u001b[0m\n\u001b[0;32m     15\u001b[0m \u001b[1;32mfor\u001b[0m \u001b[0mq\u001b[0m \u001b[1;32min\u001b[0m \u001b[0mrange\u001b[0m\u001b[1;33m(\u001b[0m\u001b[1;36m3\u001b[0m\u001b[1;33m)\u001b[0m\u001b[1;33m:\u001b[0m\u001b[1;33m\u001b[0m\u001b[1;33m\u001b[0m\u001b[0m\n\u001b[1;32m---> 16\u001b[1;33m     ax[1].plot(v, obe[key].profile['molasses'].fq['g->e'][2, :, q, 0], types[q],\n\u001b[0m\u001b[0;32m     17\u001b[0m             linewidth=0.5, color='C0', label='$+k$, $q=%d$'%(q-1))\n\u001b[0;32m     18\u001b[0m     ax[1].plot(v, obe[key].profile['molasses'].fq['g->e'][2, :, q, 1], types[q],\n",
      "\u001b[1;31mKeyError\u001b[0m: '$\\\\sigma^+\\\\sigma^+$'"
     ]
    },
    {
     "data": {
      "image/png": "[encoded data removed]",
      "text/plain": [
       "<Figure size 468x198 with 2 Axes>"
      ]
     },
     "metadata": {
      "needs_background": "light"
     },
     "output_type": "display_data"
    }
   ],
   "source": [
    "fig, ax = plt.subplots(1, 2, num='Optical Molasses F=0->F1', figsize=(6.5, 2.75))\n",
    "for jj, key in enumerate(laserBeams.keys()):\n",
    "    ax[0].plot(obe[key].profile['molasses'].V[2],\n",
    "               obe[key].profile['molasses'].F[2],\n",
    "               label=key, linewidth=0.5, color='C%d'%jj)\n",
    "    ax[0].plot(rateeq[key].profile['molasses'].V[2],\n",
    "               rateeq[key].profile['molasses'].F[2], '--',\n",
    "               linewidth=0.5, color='C%d'%jj)\n",
    "ax[0].legend(fontsize=6)\n",
    "ax[0].set_xlabel('$v/(\\Gamma/k)$')\n",
    "ax[0].set_ylabel('$F/(\\hbar k \\Gamma)$')\n",
    "\n",
    "key = '$\\\\sigma^+\\\\sigma^+$'\n",
    "types = ['-', '--', '-.']\n",
    "for q in range(3):\n",
    "    ax[1].plot(v, obe[key].profile['molasses'].fq['g->e'][2, :, q, 0], types[q],\n",
    "            linewidth=0.5, color='C0', label='$+k$, $q=%d$'%(q-1))\n",
    "    ax[1].plot(v, obe[key].profile['molasses'].fq['g->e'][2, :, q, 1], types[q],\n",
    "            linewidth=0.5, color='C1', label='$-k$, $q=%d$'%(q-1))\n",
    "ax[1].plot(v, obe[key].profile['molasses'].F[2], 'k-',\n",
    "           linewidth=0.75)\n",
    "ax[1].legend(fontsize=6)\n",
    "ax[1].set_xlabel('$v/(\\Gamma/k)$')\n",
    "fig.subplots_adjust(wspace=0.15)\n",
    "\n"
   ]
  },
  {
   "cell_type": "markdown",
   "metadata": {},
   "source": [
    "### Run a simulation at resonance to see what the coherences and such are doing."
   ]
  },
  {
   "cell_type": "code",
   "execution_count": 6,
   "metadata": {},
   "outputs": [
    {
     "data": {
      "text/plain": [
       "<matplotlib.legend.Legend at 0x1fa9dfa4a48>"
      ]
     },
     "execution_count": 6,
     "metadata": {},
     "output_type": "execute_result"
    },
    {
     "data": {
      "image/png": "[encoded data removed]",
      "text/plain": [
       "<Figure size 450x396 with 4 Axes>"
      ]
     },
     "metadata": {
      "needs_background": "light"
     },
     "output_type": "display_data"
    }
   ],
   "source": [
    "v_i=-(ham_det+laser_det)\n",
    "key = '$\\\\sigma^+\\\\sigma^-$'\n",
    "\n",
    "obe[key] = pylcp.obe(laserBeams[key], magField, ham_F0_to_F1,\n",
    "                     transform_into_re_im=True)\n",
    "\n",
    "obe[key].set_initial_position_and_velocity(\n",
    "    np.array([0., 0., 0.]), np.array([0., 0., v_i])\n",
    "    )\n",
    "rho0 = np.zeros((obe[key].hamiltonian.n**2,), dtype='complex128')\n",
    "rho0[0] = 1.\n",
    "\n",
    "if v_i==0 or np.abs(2*np.pi*20/v_i)>500:\n",
    "    t_max = 500\n",
    "else:\n",
    "    t_max = 2*np.pi*20/np.abs(v_i)\n",
    "\n",
    "obe[key].set_initial_rho_from_rateeq()\n",
    "obe[key].evolve_density(t_span=[0, t_max], t_eval=np.linspace(0, t_max, 1001),)\n",
    "\n",
    "f, flaser, flaser_q, f_mag = obe[key].force(obe[key].sol.r, obe[key].sol.t,\n",
    "                                            obe[key].sol.rho, return_details=True)\n",
    "\n",
    "fig, ax = plt.subplots(2, 2, num='OBE F=0->F1', figsize=(6.25, 5.5))\n",
    "ax[0, 0].plot(obe[key].sol.t, np.real(obe[key].sol.rho[0, 0]), label='$\\\\rho_{00}$')\n",
    "ax[0, 0].plot(obe[key].sol.t, np.real(obe[key].sol.rho[1, 1]), label='$\\\\rho_{11}$')\n",
    "ax[0, 0].plot(obe[key].sol.t, np.real(obe[key].sol.rho[2, 2]), label='$\\\\rho_{22}$')\n",
    "ax[0, 0].plot(obe[key].sol.t, np.real(obe[key].sol.rho[3, 3]), label='$\\\\rho_{33}$')\n",
    "ax[0, 0].legend(fontsize=6)\n",
    "\n",
    "ax[0, 1].plot(obe[key].sol.t, np.abs(obe[key].sol.rho[0, 1]), label='$|\\\\rho_{01}|$')\n",
    "ax[0, 1].plot(obe[key].sol.t, np.abs(obe[key].sol.rho[0, 2]), label='$|\\\\rho_{02}|$')\n",
    "ax[0, 1].plot(obe[key].sol.t, np.abs(obe[key].sol.rho[0, 3]), label='$|\\\\rho_{03}|$')\n",
    "ax[0, 1].plot(obe[key].sol.t, np.abs(obe[key].sol.rho[1, 3]), label='$|\\\\rho_{13}|$')\n",
    "ax[0, 1].legend(fontsize=6)\n",
    "\n",
    "ax[1, 0].plot(obe[key].sol.t, flaser['g->e'][2, 0], '-', linewidth=0.75)\n",
    "ax[1, 0].plot(obe[key].sol.t, flaser['g->e'][2, 1], '-', linewidth=0.75)\n",
    "ax[1, 0].plot(obe[key].sol.t, f[2], 'k-', linewidth=0.5)\n",
    "\n",
    "ax[1, 1].plot(obe[key].sol.t, obe[key].sol.v[-1], '-', label='$z$')\n",
    "ax[1, 1].plot(obe[key].sol.t, obe[key].sol.r[-1], '--', label='$v_z$')\n",
    "ax[1, 1].legend(fontsize=6)\n",
    "#ax.plot(v, F_rateeq_F0_to_F1, v, F_obe)"
   ]
  },
  {
   "cell_type": "markdown",
   "metadata": {},
   "source": [
    "### Finally, let's run along x and y just to make sure that everything is Kosher."
   ]
  },
  {
   "cell_type": "code",
   "execution_count": 7,
   "metadata": {},
   "outputs": [
    {
     "name": "stdout",
     "output_type": "stream",
     "text": [
      "Working on $\\sigma^+\\sigma^+$ along x.\n",
      "Completed in 9.30 s.                                               \n",
      "Working on $\\sigma^+\\sigma^-$ along x.\n",
      "Completed in 9.34 s.                                               \n",
      "Working on $\\sigma^+\\sigma^+$ along y.\n",
      "Completed in 11.35 s.                                              \n",
      "Working on $\\sigma^+\\sigma^-$ along y.\n",
      "Completed in 10.14 s.                                              \n"
     ]
    }
   ],
   "source": [
    "laserBeams = {}\n",
    "laserBeams['x'] = {}\n",
    "laserBeams['x']['$\\\\sigma^+\\\\sigma^+$'] = pylcp.laserBeams([\n",
    "    {'kvec':np.array([ 1., 0., 0.]), 'pol':+1, 'delta':laser_det, 'beta':beta},\n",
    "    {'kvec':np.array([-1., 0., 0.]), 'pol':-1, 'delta':laser_det, 'beta':beta},\n",
    "    ])\n",
    "laserBeams['x']['$\\\\sigma^+\\\\sigma^-$'] = pylcp.laserBeams([\n",
    "    {'kvec':np.array([ 1., 0., 0.]), 'pol':+1, 'delta':laser_det, 'beta':beta},\n",
    "    {'kvec':np.array([-1., 0., 0.]), 'pol':+1, 'delta':laser_det, 'beta':beta},\n",
    "    ])\n",
    "laserBeams['y'] = {}\n",
    "laserBeams['y']['$\\\\sigma^+\\\\sigma^+$'] = pylcp.laserBeams([\n",
    "    {'kvec':np.array([0.,  1., 0.]), 'pol':+1, 'delta':laser_det, 'beta':beta},\n",
    "    {'kvec':np.array([0., -1., 0.]), 'pol':-1, 'delta':laser_det, 'beta':beta},\n",
    "    ])\n",
    "laserBeams['y']['$\\\\sigma^+\\\\sigma^-$'] = pylcp.laserBeams([\n",
    "    {'kvec':np.array([0.,  1., 0.]), 'pol':+1, 'delta':laser_det, 'beta':beta},\n",
    "    {'kvec':np.array([0., -1., 0.]), 'pol':+1, 'delta':laser_det, 'beta':beta},\n",
    "    ])\n",
    "\n",
    "obe = {}\n",
    "rateeq = {}\n",
    "for coord_key in laserBeams:\n",
    "    obe[coord_key] = {}\n",
    "    rateeq[coord_key] = {}\n",
    "    for pol_key in laserBeams[coord_key]:\n",
    "        print('Working on %s along %s.' % (pol_key, coord_key))\n",
    "        rateeq[coord_key][pol_key] = pylcp.rateeq(laserBeams[coord_key][pol_key],\n",
    "                                                  magField, ham_F0_to_F1)\n",
    "        obe[coord_key][pol_key] = pylcp.obe(laserBeams[coord_key][pol_key],\n",
    "                                            magField, ham_F0_to_F1,\n",
    "                                            transform_into_re_im=False,\n",
    "                                            include_mag_forces=True)\n",
    "\n",
    "        if coord_key is 'x':\n",
    "            V = [v, np.zeros(v.shape), np.zeros(v.shape)]\n",
    "        elif coord_key is 'y':\n",
    "            V = [np.zeros(v.shape), v, np.zeros(v.shape)]\n",
    "        R = np.zeros((3,)+v.shape)\n",
    "        # Generate a rateeq model of what's going on:\n",
    "        rateeq[coord_key][pol_key].generate_force_profile(\n",
    "            R, V, name='molasses'\n",
    "        )\n",
    "\n",
    "        obe[coord_key][pol_key].generate_force_profile(\n",
    "            R, V, name='molasses', deltat_tmax=2*np.pi*100, deltat_v=4,\n",
    "            itermax=1000, progress_bar=True\n",
    "        )"
   ]
  },
  {
   "cell_type": "markdown",
   "metadata": {},
   "source": [
    "Plot 'er up:"
   ]
  },
  {
   "cell_type": "code",
   "execution_count": 9,
   "metadata": {},
   "outputs": [
    {
     "data": {
      "text/plain": [
       "Text(0, 0.5, '$F/(\\\\hbar k \\\\Gamma)$')"
      ]
     },
     "execution_count": 9,
     "metadata": {},
     "output_type": "execute_result"
    },
    {
     "data": {
      "image/png": "[encoded data removed]",
      "text/plain": [
       "<Figure size 468x198 with 2 Axes>"
      ]
     },
     "metadata": {
      "needs_background": "light"
     },
     "output_type": "display_data"
    }
   ],
   "source": [
    "fig, ax = plt.subplots(1, 2, num='Optical Molasses F=0->F1', figsize=(6.5, 2.75))\n",
    "for ii, coord_key in enumerate(laserBeams.keys()):\n",
    "    for jj, pol_key in enumerate(laserBeams[coord_key].keys()):\n",
    "        ax[ii].plot(obe[coord_key][pol_key].profile['molasses'].V[ii],\n",
    "                   obe[coord_key][pol_key].profile['molasses'].F[ii],\n",
    "                   label=pol_key, linewidth=0.5, color='C%d'%jj)\n",
    "        ax[ii].plot(rateeq[coord_key][pol_key].profile['molasses'].V[ii],\n",
    "                    rateeq[coord_key][pol_key].profile['molasses'].F[ii], '--',\n",
    "                    linewidth=0.5, color='C%d'%jj)\n",
    "ax[1].legend(fontsize=6)\n",
    "ax[0].set_xlabel('$v_x/(\\Gamma/k)$')\n",
    "ax[1].set_xlabel('$v_y/(\\Gamma/k)$')\n",
    "ax[1].set_ylabel('$F/(\\hbar k \\Gamma)$')"
   ]
  },
  {
   "cell_type": "code",
   "execution_count": null,
   "metadata": {},
   "outputs": [],
   "source": []
  }
 ],
 "metadata": {
  "kernelspec": {
   "display_name": "Python 3",
   "language": "python",
   "name": "python3"
  },
  "language_info": {
   "codemirror_mode": {
    "name": "ipython",
    "version": 3
   },
   "file_extension": ".py",
   "mimetype": "text/x-python",
   "name": "python",
   "nbconvert_exporter": "python",
   "pygments_lexer": "ipython3",
   "version": "3.7.6"
  }
 },
 "nbformat": 4,
 "nbformat_minor": 4
}
