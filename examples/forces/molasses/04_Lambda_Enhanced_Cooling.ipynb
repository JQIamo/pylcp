{
 "cells": [
  {
   "cell_type": "markdown",
   "metadata": {},
   "source": [
    "author: spe\n",
    "\n",
    "This example covers calculating the forces in a one-dimensional lambda\n",
    "enhanced cooling, as in PRA 87 063411 (2013).\n"
   ]
  },
  {
   "cell_type": "code",
   "execution_count": 1,
   "metadata": {},
   "outputs": [],
   "source": [
    "import numpy as np\n",
    "import matplotlib.pyplot as plt\n",
    "import pylcp\n",
    "#from pylcp.common import printProgressBar\n",
    "import pylcp.tools\n",
    "import time\n",
    "plt.style.use('paper')\n"
   ]
  },
  {
   "cell_type": "markdown",
   "metadata": {},
   "source": [
    "Let's define the three level problem just as we did in the basic example."
   ]
  },
  {
   "cell_type": "code",
   "execution_count": 2,
   "metadata": {},
   "outputs": [
    {
     "name": "stdout",
     "output_type": "stream",
     "text": [
      "[[(<g|H_0|g> 1x1) None (<g|d_q|e> 1x1)]\n",
      " [None (<r|H_0|r> 1x1) (<r|d_q|e> 1x1)]\n",
      " [(<e|d_q|g> 1x1) (<e|d_q|r> 1x1) (<e|H_0|e> 1x1)]]\n"
     ]
    }
   ],
   "source": [
    "# First, define the lasers (functionalized for later):\n",
    "def return_three_level_lasers(Ige, Ire):\n",
    "    laserBeams = {}\n",
    "    laserBeams['g->e'] = pylcp.laserBeams([\n",
    "        {'kvec':np.array([1., 0., 0.]), 'pol':np.array([0., 1., 0.]),\n",
    "         'pol_coord':'spherical', 'delta':0., 'beta':Ige},\n",
    "        {'kvec':np.array([-1., 0., 0.]), 'pol':np.array([0., 1., 0.]),\n",
    "         'pol_coord':'spherical', 'delta':0., 'beta':Ige}])\n",
    "    laserBeams['r->e'] = pylcp.laserBeams([\n",
    "        {'kvec':np.array([1., 0., 0.]), 'pol':np.array([0., 1., 0.]),\n",
    "         'pol_coord':'spherical', 'delta':0., 'beta':Ire},\n",
    "        {'kvec':np.array([-1., 0., 0.]), 'pol':np.array([0., 1., 0.]),\n",
    "         'pol_coord':'spherical', 'delta':0., 'beta':Ire}\n",
    "        ])\n",
    "    return laserBeams\n",
    "\n",
    "# Second, magnetic field:\n",
    "magField = lambda R: np.zeros(R.shape)\n",
    "\n",
    "# Now define the Hamiltonian (functionaized for later):\n",
    "H0 = np.array([[1.]])\n",
    "mu_q = np.zeros((3, 1, 1))\n",
    "d_q = np.zeros((3, 1, 1))\n",
    "d_q[1, 0, 0,] = 1/np.sqrt(2)\n",
    "\n",
    "def return_three_level_hamiltonian(Delta, delta):\n",
    "    hamiltonian = pylcp.hamiltonian()\n",
    "    hamiltonian.add_H_0_block('g', 0.*H0)\n",
    "    hamiltonian.add_H_0_block('r', delta*H0)\n",
    "    hamiltonian.add_H_0_block('e', Delta*H0)\n",
    "    hamiltonian.add_d_q_block('g','e', d_q)\n",
    "    hamiltonian.add_d_q_block('r','e', d_q)\n",
    "\n",
    "    return hamiltonian\n",
    "\n",
    "hamiltonian = return_three_level_hamiltonian(-5., 1.)\n",
    "hamiltonian.print_structure()\n"
   ]
  },
  {
   "cell_type": "markdown",
   "metadata": {},
   "source": [
    "Let's look at an individual solution first:"
   ]
  },
  {
   "cell_type": "code",
   "execution_count": 3,
   "metadata": {},
   "outputs": [
    {
     "ename": "NameError",
     "evalue": "name 'obe' is not defined",
     "output_type": "error",
     "traceback": [
      "\u001b[1;31m---------------------------------------------------------------------------\u001b[0m",
      "\u001b[1;31mNameError\u001b[0m                                 Traceback (most recent call last)",
      "\u001b[1;32m<ipython-input-3-f5fa8ff5478d>\u001b[0m in \u001b[0;36m<module>\u001b[1;34m\u001b[0m\n\u001b[0;32m      2\u001b[0m \u001b[0mhamiltonian\u001b[0m \u001b[1;33m=\u001b[0m \u001b[0mreturn_three_level_hamiltonian\u001b[0m\u001b[1;33m(\u001b[0m\u001b[1;36m4.5\u001b[0m\u001b[1;33m,\u001b[0m \u001b[1;36m0.1\u001b[0m\u001b[1;33m)\u001b[0m\u001b[1;33m\u001b[0m\u001b[1;33m\u001b[0m\u001b[0m\n\u001b[0;32m      3\u001b[0m \u001b[1;33m\u001b[0m\u001b[0m\n\u001b[1;32m----> 4\u001b[1;33m obe.set_initial_position_and_velocity(np.array([0., 0., 0.]),\n\u001b[0m\u001b[0;32m      5\u001b[0m                                       np.array([1.0, 0., 0.]))\n\u001b[0;32m      6\u001b[0m \u001b[0mobe\u001b[0m\u001b[1;33m.\u001b[0m\u001b[0mset_initial_rho_equally\u001b[0m\u001b[1;33m(\u001b[0m\u001b[1;33m)\u001b[0m\u001b[1;33m\u001b[0m\u001b[1;33m\u001b[0m\u001b[0m\n",
      "\u001b[1;31mNameError\u001b[0m: name 'obe' is not defined"
     ]
    }
   ],
   "source": [
    "laserBeams = return_three_level_lasers(2*3.4**2, 0.02*2*3.4**2)\n",
    "hamiltonian = return_three_level_hamiltonian(4.5, 0.1)\n",
    "\n",
    "obe.set_initial_position_and_velocity(np.array([0., 0., 0.]),\n",
    "                                      np.array([1.0, 0., 0.]))\n",
    "obe.set_initial_rho_equally()\n",
    "obe.evolve_density([0, 2*np.pi*100])\n",
    "f, f_laser, f_laser_q = obe.force_from_sol(return_q=True)\n",
    "(t, rho) = obe.reshape_sol()\n",
    "\n",
    "fig, ax  = plt.subplots(1, 2, figsize=(6.25, 2.75))\n",
    "ax[0].plot(t, rho[0, 0])\n",
    "ax[0].plot(t, rho[1, 1])\n",
    "ax[0].plot(t, rho[2, 2])\n",
    "\n",
    "ax[1].plot(t, f_laser['g->e'][0][0], linewidth=0.5)\n",
    "ax[1].plot(t, f_laser['g->e'][0][1], linewidth=0.5)\n",
    "\n",
    "ax[1].plot(t, f_laser['r->e'][0][0], linewidth=0.5)\n",
    "ax[1].plot(t, f_laser['r->e'][0][1], linewidth=0.5)\n"
   ]
  },
  {
   "cell_type": "markdown",
   "metadata": {},
   "source": [
    "Rather than making a force profile, we are first going to solve at small\n",
    "velocities and determine the damping coefficent, to compare to Fig. 4/6.  Note\n",
    "that they fix $\\Delta_2$ and change $\\Delta_1$ and that $\\Delta_2$ is the strong"
   ]
  },
  {
   "cell_type": "code",
   "execution_count": 4,
   "metadata": {},
   "outputs": [
    {
     "ename": "NameError",
     "evalue": "name 'printProgressBar' is not defined",
     "output_type": "error",
     "traceback": [
      "\u001b[1;31m---------------------------------------------------------------------------\u001b[0m",
      "\u001b[1;31mNameError\u001b[0m                                 Traceback (most recent call last)",
      "\u001b[1;32m<ipython-input-4-2649ce57a110>\u001b[0m in \u001b[0;36m<module>\u001b[1;34m\u001b[0m\n\u001b[0;32m     26\u001b[0m \u001b[1;33m\u001b[0m\u001b[0m\n\u001b[0;32m     27\u001b[0m         \u001b[0mavgtime\u001b[0m \u001b[1;33m=\u001b[0m \u001b[1;33m(\u001b[0m\u001b[0mtime\u001b[0m\u001b[1;33m.\u001b[0m\u001b[0mtime\u001b[0m\u001b[1;33m(\u001b[0m\u001b[1;33m)\u001b[0m\u001b[1;33m-\u001b[0m\u001b[0mtic\u001b[0m\u001b[1;33m)\u001b[0m\u001b[1;33m/\u001b[0m\u001b[1;33m(\u001b[0m\u001b[0mit\u001b[0m\u001b[1;33m.\u001b[0m\u001b[0miterindex\u001b[0m\u001b[1;33m+\u001b[0m\u001b[1;36m1\u001b[0m\u001b[1;33m)\u001b[0m\u001b[1;33m\u001b[0m\u001b[1;33m\u001b[0m\u001b[0m\n\u001b[1;32m---> 28\u001b[1;33m         printProgressBar(it.iterindex+1, it.itersize, prefix = 'Progress:',\n\u001b[0m\u001b[0;32m     29\u001b[0m                          \u001b[0msuffix\u001b[0m \u001b[1;33m=\u001b[0m \u001b[1;34m'complete'\u001b[0m\u001b[1;33m,\u001b[0m \u001b[0mdecimals\u001b[0m \u001b[1;33m=\u001b[0m \u001b[1;36m1\u001b[0m\u001b[1;33m,\u001b[0m \u001b[0mlength\u001b[0m \u001b[1;33m=\u001b[0m \u001b[1;36m40\u001b[0m\u001b[1;33m,\u001b[0m\u001b[1;33m\u001b[0m\u001b[1;33m\u001b[0m\u001b[0m\n\u001b[0;32m     30\u001b[0m                          remaining_time = (it.itersize-it.iterindex)*avgtime)\n",
      "\u001b[1;31mNameError\u001b[0m: name 'printProgressBar' is not defined"
     ]
    }
   ],
   "source": [
    "Delta2 = 4.5\n",
    "deltas = np.arange(-9., 6., 0.1)\n",
    "Delta1s = Delta2 + deltas\n",
    "Ires = np.array([2*3.4**2, 2*2.1**2])\n",
    "Iges = 0.02*Ires\n",
    "\n",
    "dv = 0.005\n",
    "\n",
    "alphas = []\n",
    "for (Ige, Ire) in zip(Iges, Ires):\n",
    "    it = np.nditer([deltas, Delta1s, None, None])\n",
    "    tic = time.time()\n",
    "    for (delta, Delta1, alpha, iterations) in it:\n",
    "        laserBeams = return_three_level_lasers(Ige, Ire)\n",
    "        hamiltonian = return_three_level_hamiltonian(Delta1, delta)\n",
    "\n",
    "        obe = pylcp.obe(laserBeams, magField, hamiltonian,\n",
    "                            transform_into_re_im=True)\n",
    "\n",
    "        obe.set_initial_position_and_velocity(np.array([0., 0., 0.]),\n",
    "                                              np.array([dv, 0., 0.]))\n",
    "        obe.set_initial_rho_equally()\n",
    "        ans = obe.find_equilibrium_force(deltat=2*np.pi*1000, itermax=50)\n",
    "        alpha[...] = -ans[0][0]/dv\n",
    "        iterations[...] = ans[-1]\n",
    "\n",
    "        avgtime = (time.time()-tic)/(it.iterindex+1)\n",
    "        printProgressBar(it.iterindex+1, it.itersize, prefix = 'Progress:',\n",
    "                         suffix = 'complete', decimals = 1, length = 40,\n",
    "                         remaining_time = (it.itersize-it.iterindex)*avgtime)\n",
    "\n",
    "    alphas.append(it.operands[2])\n",
    "\n",
    "fig, ax = plt.subplots(1, 1)\n",
    "for ii, alpha in enumerate(alphas):\n",
    "    ax.plot(deltas, alpha, label='$\\Omega_2=%.2f$' % np.sqrt(Ires[ii]/2),\n",
    "            linewidth=0.75)\n",
    "ax.set_xlabel('$\\\\delta/\\Gamma$')\n",
    "ax.set_ylabel('$\\\\alpha/\\hbar k^2$')\n",
    "ax.legend(fontsize=8)\n",
    "\n",
    "#fig.savefig('lambda_enhanced_cooling_alpha.pdf')\n"
   ]
  },
  {
   "cell_type": "markdown",
   "metadata": {},
   "source": [
    "Let's take a look at force profiles like Fig. 7.  They divide by the thermal\n",
    "velocity at 200 uK rather than the Doppler velocity.  So the first step is to f\n",
    "figure out what the thermal velocity actually is:\n",
    "\n",
    "import scipy.constants as cts\n",
    "Li = pylcp.atom.atom('7Li')\n",
    "vLi = np.sqrt(cts.k*200e-6/Li.mass)/(Li.transition[1].lam/2/np.pi*Li.state[2].gamma)\n",
    "\n",
    "That works out to be 0.12.  Then the ranges of th plots are 4 times that.  I\n",
    "think there might be a factor of 2 I am missing somewhere.\n"
   ]
  },
  {
   "cell_type": "code",
   "execution_count": null,
   "metadata": {},
   "outputs": [
    {
     "name": "stdout",
     "output_type": "stream",
     "text": [
      "Completed in 22:40.                                                 \n",
      "Completed in 23:11.                                                 \n",
      "Completed in 12:02.                                                 \n",
      "Completed in 16:14.                                                 \n",
      "Completed in 14:40.                                                 \n",
      "Progress: |█████████████████████████████-| 99.5%; time left: 10.04 s\r"
     ]
    }
   ],
   "source": [
    "Delta2 = 4.5\n",
    "deltas = np.array([-0.5, -0.1, 0.3, 0.6, 0.8, 2.0])\n",
    "Delta1s = Delta2 + deltas\n",
    "Ire = 2*3.4**2\n",
    "Ige = 0.02*Ire\n",
    "\n",
    "obe = {}\n",
    "v = np.arange(-1, 1.005, 0.005)\n",
    "for Delta1, delta in zip(Delta1s, deltas):\n",
    "    laserBeams = return_three_level_lasers(Ige, Ire)\n",
    "    hamiltonian = return_three_level_hamiltonian(Delta1, delta)\n",
    "\n",
    "    obe[delta] = pylcp.obe(laserBeams, magField, hamiltonian,\n",
    "                        transform_into_re_im=True)\n",
    "\n",
    "    obe[delta].generate_force_profile(\n",
    "        [np.zeros(v.shape), np.zeros(v.shape), np.zeros(v.shape)],\n",
    "        [v, np.zeros(v.shape), np.zeros(v.shape)],\n",
    "        name='molasses', deltat_v=4, deltat_tmax=2*np.pi*5000, itermax=2000,\n",
    "        rel=1e-8, abs=1e-10, progress_bar=True, initial_rho='equally'\n",
    "    )\n",
    "    obe[delta].laserBeams['g->e'].beam_vector[1].kvec\n",
    "    obe[delta].profile['molasses'].f['g->e'].shape\n",
    "\n",
    "fig, ax = plt.subplots(3, 2, figsize=(6.5, 2.75*3))\n",
    "for ii, delta in enumerate(deltas):\n",
    "    ax[int(ii/2), ii%2].plot(v, obe[delta].profile['molasses'].F[0], '-',\n",
    "                             linewidth=0.75, label='$\\delta=%.1f$'%delta)\n",
    "    ax[int(ii/2), ii%2].legend(fontsize=7)\n",
    "    ax[int(ii/2), ii%2].set_ylim((-0.05, 0.05))\n",
    "[ax_i.set_xlabel('$v/(\\Gamma/k)$') for ax_i in ax[-1, :]]\n",
    "[ax_i.set_ylabel('$F/(\\hbar k \\Gamma)$') for ax_i in ax[:, 0]]\n",
    "[ax_i.set_yticklabels([]) for ax_i in ax[:, 1]]\n",
    "fig.subplots_adjust(left=0.09, bottom=0.05)\n",
    "#fig.savefig('lambda_enhanced_cooling_force_profiles.pdf')\n"
   ]
  },
  {
   "cell_type": "code",
   "execution_count": null,
   "metadata": {},
   "outputs": [],
   "source": []
  }
 ],
 "metadata": {
  "kernelspec": {
   "display_name": "Python 3",
   "language": "python",
   "name": "python3"
  },
  "language_info": {
   "codemirror_mode": {
    "name": "ipython",
    "version": 3
   },
   "file_extension": ".py",
   "mimetype": "text/x-python",
   "name": "python",
   "nbconvert_exporter": "python",
   "pygments_lexer": "ipython3",
   "version": "3.7.6"
  }
 },
 "nbformat": 4,
 "nbformat_minor": 4
}
