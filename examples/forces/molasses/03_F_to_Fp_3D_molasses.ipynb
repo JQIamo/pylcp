{
 "cells": [
  {
   "cell_type": "markdown",
   "metadata": {},
   "source": [
    "author: spe\n",
    "\n",
    "This example covers calculating the forces in a one-dimensional optical molasses\n",
    "using the optical bloch equations.  It reproduces Figs. 3-5 of Devlin, J. A. and\n",
    "Tarbutt, M. R. (2016) ‘Three-dimensional Doppler, polarization-gradient, and\n",
    "magneto-optical forces for atoms and molecules with dark states’, New Journal of\n",
    "Physics, 18(12), p. 123017. doi: 10.1088/1367-2630/18/12/123017."
   ]
  },
  {
   "cell_type": "code",
   "execution_count": 1,
   "metadata": {},
   "outputs": [],
   "source": [
    "import numpy as np\n",
    "import matplotlib.pyplot as plt\n",
    "import pylcp\n",
    "import pylcp.tools\n",
    "import copy\n",
    "import time\n",
    "import cProfile, pstats, io\n",
    "#plt.style.use('paper')"
   ]
  },
  {
   "cell_type": "markdown",
   "metadata": {},
   "source": [
    "Figure 4:"
   ]
  },
  {
   "cell_type": "code",
   "execution_count": 3,
   "metadata": {},
   "outputs": [],
   "source": [
    "det = -2.5\n",
    "beta = 2.0\n",
    "\n",
    "laserBeams = {}\n",
    "\n",
    "laserBeams['$\\\\sigma^+\\\\sigma^-$'] = pylcp.tools.standard_six_beam_MOT(beta, det)\n",
    "laserBeams['lin$\\perp$lin'] = []\n",
    "laserBeams['lin$\\perp$lin'].append(\n",
    "    pylcp.laserBeam(np.array([0., 0., 1.]), pol=np.array([1., 0., 0.]),\n",
    "                    beta=beta, delta=det, pol_coord='cartesian')\n",
    ")\n",
    "laserBeams['lin$\\perp$lin'].append(\n",
    "    pylcp.laserBeam(np.array([0., 0., -1.]), pol=np.array([0., 1., 0.]),\n",
    "                    beta=beta, delta=det, pol_coord='cartesian')\n",
    ")\n",
    "laserBeams['lin$\\perp$lin'].append(\n",
    "    pylcp.laserBeam(np.array([0., 1., 0.]), pol=np.array([0., 0., 1.]),\n",
    "                    beta=beta, delta=det, pol_coord='cartesian')\n",
    ")\n",
    "laserBeams['lin$\\perp$lin'].append(\n",
    "    pylcp.laserBeam(np.array([0., -1., 0.]), pol=np.array([1., 0., 0.]),\n",
    "                    beta=beta, delta=det, pol_coord='cartesian')\n",
    ")\n",
    "laserBeams['lin$\\perp$lin'].append(\n",
    "    pylcp.laserBeam(np.array([1., 0., 0.]), pol=np.array([0., 1., 0.]),\n",
    "                    beta=beta, delta=det, pol_coord='cartesian')\n",
    ")\n",
    "laserBeams['lin$\\perp$lin'].append(\n",
    "    pylcp.laserBeam(np.array([-1., 0., 0.]), pol=np.array([0., 0., 1.]),\n",
    "                    beta=beta, delta=det, pol_coord='cartesian')\n",
    ")\n",
    "\n",
    "hamiltonian = {}\n",
    "for Fg, Fe in zip([1, 1, 1, 2], [2, 1, 0, 1]):\n",
    "    Hg, Bgq = pylcp.hamiltonians.singleF(F=Fg, gF=0, muB=1)\n",
    "    He, Beq = pylcp.hamiltonians.singleF(F=Fe, gF=0, muB=1)\n",
    "    dijq = pylcp.hamiltonians.dqij_two_bare_hyperfine(Fg, Fe)\n",
    "    hamiltonian['Fg%d;Fe%d'%(Fg,Fe)] = pylcp.hamiltonian(Hg, He, Bgq,\n",
    "                                                          Beq, dijq)\n",
    "\n",
    "magField = lambda R: np.zeros(R.shape)\n"
   ]
  },
  {
   "cell_type": "markdown",
   "metadata": {},
   "source": [
    "Figure 4:"
   ]
  },
  {
   "cell_type": "code",
   "execution_count": 4,
   "metadata": {},
   "outputs": [
    {
     "name": "stdout",
     "output_type": "stream",
     "text": [
      "Working on Fg1;Fe2 w/ $\\sigma^+\\sigma^-$:\n"
     ]
    },
    {
     "name": "stderr",
     "output_type": "stream",
     "text": [
      "C:\\Users\\sheik\\anaconda3\\lib\\site-packages\\scipy\\integrate\\_ivp\\common.py:41: UserWarning: The following arguments have no effect for a chosen solver: `use_jit`.\n",
      "  .format(\", \".join(\"`{}`\".format(x) for x in extraneous)))\n",
      "C:\\Users\\sheik\\anaconda3\\lib\\site-packages\\scipy\\integrate\\_ivp\\common.py:41: UserWarning: The following arguments have no effect for a chosen solver: `use_jit`.\n",
      "  .format(\", \".join(\"`{}`\".format(x) for x in extraneous)))\n",
      "C:\\Users\\sheik\\anaconda3\\lib\\site-packages\\scipy\\integrate\\_ivp\\common.py:41: UserWarning: The following arguments have no effect for a chosen solver: `use_jit`.\n",
      "  .format(\", \".join(\"`{}`\".format(x) for x in extraneous)))\n"
     ]
    },
    {
     "ename": "AttributeError",
     "evalue": "'NoneType' object has no attribute 'rho'",
     "output_type": "error",
     "traceback": [
      "\u001b[1;31m---------------------------------------------------------------------------\u001b[0m",
      "\u001b[1;31mAttributeError\u001b[0m                            Traceback (most recent call last)",
      "\u001b[1;32m<ipython-input-4-79ec99c17f51>\u001b[0m in \u001b[0;36m<module>\u001b[1;34m\u001b[0m\n\u001b[0;32m     38\u001b[0m                 \u001b[0mrs\u001b[0m\u001b[1;33m,\u001b[0m \u001b[0mvs\u001b[0m\u001b[1;33m,\u001b[0m \u001b[0mname\u001b[0m\u001b[1;33m=\u001b[0m\u001b[1;34m'molasses_3D_v%.2f'\u001b[0m\u001b[1;33m%\u001b[0m\u001b[0mvmag\u001b[0m\u001b[1;33m,\u001b[0m \u001b[0mdeltat_v\u001b[0m\u001b[1;33m=\u001b[0m\u001b[1;36m8\u001b[0m\u001b[1;33m,\u001b[0m\u001b[1;33m\u001b[0m\u001b[1;33m\u001b[0m\u001b[0m\n\u001b[0;32m     39\u001b[0m                 \u001b[0mdeltat_tmax\u001b[0m\u001b[1;33m=\u001b[0m\u001b[1;36m2\u001b[0m\u001b[1;33m*\u001b[0m\u001b[0mnp\u001b[0m\u001b[1;33m.\u001b[0m\u001b[0mpi\u001b[0m\u001b[1;33m*\u001b[0m\u001b[1;36m1000\u001b[0m\u001b[1;33m,\u001b[0m \u001b[0mitermax\u001b[0m\u001b[1;33m=\u001b[0m\u001b[1;36m10\u001b[0m\u001b[1;33m,\u001b[0m\u001b[1;33m\u001b[0m\u001b[1;33m\u001b[0m\u001b[0m\n\u001b[1;32m---> 40\u001b[1;33m                 \u001b[0mrel\u001b[0m\u001b[1;33m=\u001b[0m\u001b[1;36m1e-8\u001b[0m\u001b[1;33m,\u001b[0m \u001b[0mabs\u001b[0m\u001b[1;33m=\u001b[0m\u001b[1;36m1e-10\u001b[0m\u001b[1;33m,\u001b[0m \u001b[0mprogress_bar\u001b[0m\u001b[1;33m=\u001b[0m\u001b[1;32mTrue\u001b[0m\u001b[1;33m,\u001b[0m \u001b[0muse_jit\u001b[0m\u001b[1;33m=\u001b[0m\u001b[1;32mTrue\u001b[0m\u001b[1;33m\u001b[0m\u001b[1;33m\u001b[0m\u001b[0m\n\u001b[0m\u001b[0;32m     41\u001b[0m             )\n\u001b[0;32m     42\u001b[0m \u001b[1;33m\u001b[0m\u001b[0m\n",
      "\u001b[1;32m~\\Documents\\GitHub\\pylcp\\obe.py\u001b[0m in \u001b[0;36mgenerate_force_profile\u001b[1;34m(self, R, V, **kwargs)\u001b[0m\n\u001b[0;32m    950\u001b[0m                     \u001b[0mkwargs\u001b[0m\u001b[1;33m[\u001b[0m\u001b[1;34m'deltat'\u001b[0m\u001b[1;33m]\u001b[0m \u001b[1;33m=\u001b[0m \u001b[0mnp\u001b[0m\u001b[1;33m.\u001b[0m\u001b[0mmin\u001b[0m\u001b[1;33m(\u001b[0m\u001b[1;33m[\u001b[0m\u001b[1;36m2\u001b[0m\u001b[1;33m*\u001b[0m\u001b[0mnp\u001b[0m\u001b[1;33m.\u001b[0m\u001b[0mpi\u001b[0m\u001b[1;33m*\u001b[0m\u001b[0mdeltat_r\u001b[0m\u001b[1;33m/\u001b[0m\u001b[0mrabs\u001b[0m\u001b[1;33m,\u001b[0m \u001b[0mdeltat_tmax\u001b[0m\u001b[1;33m]\u001b[0m\u001b[1;33m)\u001b[0m\u001b[1;33m\u001b[0m\u001b[1;33m\u001b[0m\u001b[0m\n\u001b[0;32m    951\u001b[0m \u001b[1;33m\u001b[0m\u001b[0m\n\u001b[1;32m--> 952\u001b[1;33m             \u001b[0mF\u001b[0m\u001b[1;33m,\u001b[0m \u001b[0mF_laser\u001b[0m\u001b[1;33m,\u001b[0m \u001b[0mF_laser_q\u001b[0m\u001b[1;33m,\u001b[0m \u001b[0mF_mag\u001b[0m\u001b[1;33m,\u001b[0m \u001b[0mNeq\u001b[0m\u001b[1;33m,\u001b[0m \u001b[0miterations\u001b[0m \u001b[1;33m=\u001b[0m \u001b[0mself\u001b[0m\u001b[1;33m.\u001b[0m\u001b[0mfind_equilibrium_force\u001b[0m\u001b[1;33m(\u001b[0m\u001b[1;33m**\u001b[0m\u001b[0mkwargs\u001b[0m\u001b[1;33m)\u001b[0m\u001b[1;33m\u001b[0m\u001b[1;33m\u001b[0m\u001b[0m\n\u001b[0m\u001b[0;32m    953\u001b[0m \u001b[1;33m\u001b[0m\u001b[0m\n\u001b[0;32m    954\u001b[0m             self.profile[name].store_data(it.multi_index, Neq, F, F_laser, F_mag,\n",
      "\u001b[1;32m~\\Documents\\GitHub\\pylcp\\obe.py\u001b[0m in \u001b[0;36mfind_equilibrium_force\u001b[1;34m(self, **kwargs)\u001b[0m\n\u001b[0;32m    892\u001b[0m             \u001b[0mf_laser_avg_q\u001b[0m\u001b[1;33m[\u001b[0m\u001b[0mkey\u001b[0m\u001b[1;33m]\u001b[0m \u001b[1;33m=\u001b[0m \u001b[0mnp\u001b[0m\u001b[1;33m.\u001b[0m\u001b[0mmean\u001b[0m\u001b[1;33m(\u001b[0m\u001b[0mf_laser_q\u001b[0m\u001b[1;33m[\u001b[0m\u001b[0mkey\u001b[0m\u001b[1;33m]\u001b[0m\u001b[1;33m,\u001b[0m \u001b[0maxis\u001b[0m\u001b[1;33m=\u001b[0m\u001b[1;36m3\u001b[0m\u001b[1;33m)\u001b[0m\u001b[1;33m\u001b[0m\u001b[1;33m\u001b[0m\u001b[0m\n\u001b[0;32m    893\u001b[0m \u001b[1;33m\u001b[0m\u001b[0m\n\u001b[1;32m--> 894\u001b[1;33m         \u001b[0mNeq\u001b[0m \u001b[1;33m=\u001b[0m \u001b[0mnp\u001b[0m\u001b[1;33m.\u001b[0m\u001b[0mreal\u001b[0m\u001b[1;33m(\u001b[0m\u001b[0mnp\u001b[0m\u001b[1;33m.\u001b[0m\u001b[0mdiagonal\u001b[0m\u001b[1;33m(\u001b[0m\u001b[0mnp\u001b[0m\u001b[1;33m.\u001b[0m\u001b[0mmean\u001b[0m\u001b[1;33m(\u001b[0m\u001b[0mself\u001b[0m\u001b[1;33m.\u001b[0m\u001b[0msol\u001b[0m\u001b[1;33m.\u001b[0m\u001b[0mrho\u001b[0m\u001b[1;33m,\u001b[0m \u001b[0maxis\u001b[0m\u001b[1;33m=\u001b[0m\u001b[1;36m2\u001b[0m\u001b[1;33m)\u001b[0m\u001b[1;33m)\u001b[0m\u001b[1;33m)\u001b[0m\u001b[1;33m\u001b[0m\u001b[1;33m\u001b[0m\u001b[0m\n\u001b[0m\u001b[0;32m    895\u001b[0m         \u001b[1;32mreturn\u001b[0m \u001b[1;33m(\u001b[0m\u001b[0mf_avg\u001b[0m\u001b[1;33m,\u001b[0m \u001b[0mf_laser_avg\u001b[0m\u001b[1;33m,\u001b[0m \u001b[0mf_laser_avg_q\u001b[0m\u001b[1;33m,\u001b[0m \u001b[0mf_mag\u001b[0m\u001b[1;33m,\u001b[0m \u001b[0mNeq\u001b[0m\u001b[1;33m,\u001b[0m \u001b[0mii\u001b[0m\u001b[1;33m)\u001b[0m\u001b[1;33m\u001b[0m\u001b[1;33m\u001b[0m\u001b[0m\n\u001b[0;32m    896\u001b[0m \u001b[1;33m\u001b[0m\u001b[0m\n",
      "\u001b[1;31mAttributeError\u001b[0m: 'NoneType' object has no attribute 'rho'"
     ]
    }
   ],
   "source": [
    "ham_key='Fg1;Fe2'\n",
    "laser_key='$\\\\sigma^+\\\\sigma^-$'\n",
    "Nrandom = 32\n",
    "\n",
    "\"\"\"vmags = np.concatenate((np.arange(0.001, 0.01, 0.001),\n",
    "                        np.arange(0.01, 0.1, 0.005),\n",
    "                        np.arange(0.1, 1.0, 0.05)))\"\"\"\n",
    "vmags = np.arange(0.001, 0.102, 0.25)\n",
    "\n",
    "obe={}\n",
    "F_avg={}\n",
    "\n",
    "tic=time.time()\n",
    "for ham_key in hamiltonian.keys():\n",
    "    if not ham_key in obe.keys():\n",
    "        obe[ham_key] = {}\n",
    "        F_avg[ham_key] = {}\n",
    "\n",
    "    for laser_key in laserBeams.keys():\n",
    "        print('Working on %s w/ %s:' % (ham_key, laser_key))\n",
    "        F_avg[ham_key][laser_key] = np.zeros(vmags.shape)\n",
    "\n",
    "        for ii, vmag in enumerate(vmags):\n",
    "            rs = np.random.random(size=(3, Nrandom))*2*np.pi\n",
    "            phi = np.random.random(size=(Nrandom,))*2*np.pi\n",
    "            theta = np.arccos(2*np.random.random(size=(Nrandom,))-1)\n",
    "\n",
    "            vs = np.array([vmag*np.sin(theta)*np.cos(phi),\n",
    "                           vmag*np.sin(theta)*np.sin(phi),\n",
    "                           vmag*np.cos(theta)])\n",
    "\n",
    "            obe[ham_key][laser_key] = pylcp.obe(\n",
    "                laserBeams[laser_key], magField, hamiltonian[ham_key],\n",
    "                transform_into_re_im=True\n",
    "            )\n",
    "\n",
    "            obe[ham_key][laser_key].generate_force_profile(\n",
    "                rs, vs, name='molasses_3D_v%.2f'%vmag, deltat_v=8,\n",
    "                deltat_tmax=2*np.pi*1000, itermax=10,\n",
    "                rel=1e-8, abs=1e-10, progress_bar=True, use_jit=True\n",
    "            )\n",
    "\n",
    "            F_avg[ham_key][laser_key][ii] = np.mean(np.sum(\n",
    "                obe[ham_key][laser_key].profile['molasses_3D_v%.2f'%vmag].F*\n",
    "                vs/vmag,\n",
    "                axis=0))\n",
    "\n",
    "toc=time.time()\n",
    "print('Total computation time is %.2f s.' % (toc-tic))\n"
   ]
  },
  {
   "cell_type": "code",
   "execution_count": 5,
   "metadata": {},
   "outputs": [
    {
     "ename": "KeyError",
     "evalue": "'lin$\\\\perp$lin'",
     "output_type": "error",
     "traceback": [
      "\u001b[1;31m---------------------------------------------------------------------------\u001b[0m",
      "\u001b[1;31mKeyError\u001b[0m                                  Traceback (most recent call last)",
      "\u001b[1;32m<ipython-input-5-c2175e99396d>\u001b[0m in \u001b[0;36m<module>\u001b[1;34m\u001b[0m\n\u001b[0;32m      2\u001b[0m \u001b[1;32mfor\u001b[0m \u001b[0mii\u001b[0m\u001b[1;33m,\u001b[0m \u001b[0mham_key\u001b[0m \u001b[1;32min\u001b[0m \u001b[0menumerate\u001b[0m\u001b[1;33m(\u001b[0m\u001b[0mhamiltonian\u001b[0m\u001b[1;33m.\u001b[0m\u001b[0mkeys\u001b[0m\u001b[1;33m(\u001b[0m\u001b[1;33m)\u001b[0m\u001b[1;33m)\u001b[0m\u001b[1;33m:\u001b[0m\u001b[1;33m\u001b[0m\u001b[1;33m\u001b[0m\u001b[0m\n\u001b[0;32m      3\u001b[0m     \u001b[1;32mfor\u001b[0m \u001b[0mlaser_key\u001b[0m \u001b[1;32min\u001b[0m \u001b[0mlaserBeams\u001b[0m\u001b[1;33m.\u001b[0m\u001b[0mkeys\u001b[0m\u001b[1;33m(\u001b[0m\u001b[1;33m)\u001b[0m\u001b[1;33m:\u001b[0m\u001b[1;33m\u001b[0m\u001b[1;33m\u001b[0m\u001b[0m\n\u001b[1;32m----> 4\u001b[1;33m         \u001b[0max\u001b[0m\u001b[1;33m[\u001b[0m\u001b[0mint\u001b[0m\u001b[1;33m(\u001b[0m\u001b[0mii\u001b[0m\u001b[1;33m/\u001b[0m\u001b[1;36m2\u001b[0m\u001b[1;33m)\u001b[0m\u001b[1;33m,\u001b[0m \u001b[0mii\u001b[0m\u001b[1;33m%\u001b[0m\u001b[1;36m2\u001b[0m\u001b[1;33m]\u001b[0m\u001b[1;33m.\u001b[0m\u001b[0mplot\u001b[0m\u001b[1;33m(\u001b[0m\u001b[0mvmags\u001b[0m\u001b[1;33m,\u001b[0m \u001b[0mF_avg\u001b[0m\u001b[1;33m[\u001b[0m\u001b[0mham_key\u001b[0m\u001b[1;33m]\u001b[0m\u001b[1;33m[\u001b[0m\u001b[0mlaser_key\u001b[0m\u001b[1;33m]\u001b[0m\u001b[1;33m,\u001b[0m \u001b[0mlinewidth\u001b[0m\u001b[1;33m=\u001b[0m\u001b[1;36m0.75\u001b[0m\u001b[1;33m)\u001b[0m\u001b[1;33m\u001b[0m\u001b[1;33m\u001b[0m\u001b[0m\n\u001b[0m\u001b[0;32m      5\u001b[0m \u001b[1;33m\u001b[0m\u001b[0m\n\u001b[0;32m      6\u001b[0m \u001b[0max\u001b[0m\u001b[1;33m[\u001b[0m\u001b[1;36m1\u001b[0m\u001b[1;33m,\u001b[0m \u001b[1;36m0\u001b[0m\u001b[1;33m]\u001b[0m\u001b[1;33m.\u001b[0m\u001b[0mset_xlabel\u001b[0m\u001b[1;33m(\u001b[0m\u001b[1;34m'$v/(\\Gamma/k)$'\u001b[0m\u001b[1;33m)\u001b[0m\u001b[1;33m\u001b[0m\u001b[1;33m\u001b[0m\u001b[0m\n",
      "\u001b[1;31mKeyError\u001b[0m: 'lin$\\\\perp$lin'"
     ]
    },
    {
     "data": {
      "image/png": "[encoded data removed]",
      "text/plain": [
       "<Figure size 468x288 with 4 Axes>"
      ]
     },
     "metadata": {
      "needs_background": "light"
     },
     "output_type": "display_data"
    }
   ],
   "source": [
    "fig, ax = plt.subplots(2, 2, figsize=(6.5, 4.0))\n",
    "for ii, ham_key in enumerate(hamiltonian.keys()):\n",
    "    for laser_key in laserBeams.keys():\n",
    "        ax[int(ii/2), ii%2].plot(vmags, F_avg[ham_key][laser_key], linewidth=0.75)\n",
    "\n",
    "ax[1, 0].set_xlabel('$v/(\\Gamma/k)$')\n",
    "ax[1, 1].set_xlabel('$v/(\\Gamma/k)$')\n",
    "ax[0, 1].set_ylabel('$F/(\\hbar k \\Gamma)$')\n",
    "ax[0, 1].set_ylabel('$F/(\\hbar k \\Gamma)$')\n",
    "\n",
    "fig.savefig(\"03_F_to_Fp_3D_molasses.pdf\")\n"
   ]
  },
  {
   "cell_type": "code",
   "execution_count": null,
   "metadata": {},
   "outputs": [],
   "source": []
  }
 ],
 "metadata": {
  "kernelspec": {
   "display_name": "Python 3",
   "language": "python",
   "name": "python3"
  },
  "language_info": {
   "codemirror_mode": {
    "name": "ipython",
    "version": 3
   },
   "file_extension": ".py",
   "mimetype": "text/x-python",
   "name": "python",
   "nbconvert_exporter": "python",
   "pygments_lexer": "ipython3",
   "version": "3.7.6"
  }
 },
 "nbformat": 4,
 "nbformat_minor": 4
}
