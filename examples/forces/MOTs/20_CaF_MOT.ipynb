{
 "cells": [
  {
   "cell_type": "markdown",
   "metadata": {},
   "source": [
    "@author: spe\n",
    "\n",
    "This example covers calculating the forces in a standard, six-beam CaF MOT.\n",
    "The goal is to reproduce the figures in PRA 92 053401 (2015)."
   ]
  },
  {
   "cell_type": "code",
   "execution_count": null,
   "metadata": {},
   "outputs": [],
   "source": [
    "import numpy as np\n",
    "import matplotlib.pyplot as plt\n",
    "import scipy.constants as cts\n",
    "import pylcp\n",
    "import pylcp.tools\n",
    "plt.style.use('paper')"
   ]
  },
  {
   "cell_type": "markdown",
   "metadata": {},
   "source": [
    "Define the Hamiltonian first."
   ]
  },
  {
   "cell_type": "code",
   "execution_count": null,
   "metadata": {},
   "outputs": [],
   "source": [
    "Gamma = 8.3 # MHz\n",
    "\n",
    "# CaF numbers: Journal of Molecular Spectroscopy, 86 (2), 365 (1981)\n",
    "H0_X, Bq_X, U_X, Xbasis = pylcp.hamiltonians.XFmolecules.Xstate(\n",
    "    N=1, Lambda=0, B=0, b=109.1893/Gamma, c=40.1190/Gamma,\n",
    "    cc=2.876e-2/Gamma, gamma=39.65891/Gamma,\n",
    "    muB=cts.value('Bohr magneton in Hz/T')/1e6*1e-4/Gamma, return_basis=True\n",
    "    )\n",
    "E_X = np.unique(np.diag(H0_X))\n",
    "H0_A, Bq_A, Abasis = pylcp.hamiltonians.XFmolecules.Astate(\n",
    "    P=+1, Ahfs=2.4/Gamma, q=0, p=0, gJ=2*-0.021,\n",
    "    muB=cts.value('Bohr magneton in Hz/T')/1e6*1e-4/Gamma, return_basis=True\n",
    "    )\n",
    "E_A = np.unique(np.diag(H0_A))\n",
    "\n",
    "dijq = pylcp.hamiltonians.XFmolecules.dipoleXandAstates(\n",
    "    Xbasis, Abasis, I1=1/2, S=1/2, UX=U_X\n",
    "    )\n",
    "\n",
    "hamiltonian = pylcp.hamiltonian(H0_X, H0_A, Bq_X, Bq_A, dijq)"
   ]
  },
  {
   "cell_type": "markdown",
   "metadata": {},
   "source": [
    "There are some small things to consider.  First, they use total power in each\n",
    "beam rather than saturation intensity.  In the paper, they assume unclipped\n",
    "Gaussian beams of w=12 mm 1/e^2 radius and use powers of 5, 15, 40 and 100 mW.\n",
    "The relationship between intensity and power is given by I = 2 P/pi w^2.\n",
    "Moreover, I_sat = 2 pi**2 hbar c Gamma/lambda**2.  They also assume 20 G/cm.\n",
    "Given that we define muB above in terms of linewidth/G, it should be just as\n",
    "simple as plugging in 2 G/mm in the magField."
   ]
  },
  {
   "cell_type": "code",
   "execution_count": null,
   "metadata": {},
   "outputs": [],
   "source": [
    "omega = 2*np.pi*(cts.c/606e-9)\n",
    "Isat = cts.hbar*omega**3*(2*np.pi*Gamma*1e6)/(12*np.pi*cts.c**2)\n",
    "#print(\"I_sat = \", Isat*1e-4*1e3)\n",
    "P = np.array([0.005, 0.015, 0.040, 0.1])\n",
    "betas = 2.*P/(np.pi*0.012**2)/Isat\n",
    "\n",
    "# The detunings used in the PRAs:\n",
    "dets = np.array([-0.25, -0.5, -1, -2])\n",
    "\n",
    "# A litle helper function to make the MOT:\n",
    "def six_beam_CaF_MOT(beta, det):\n",
    "    laserBeams = pylcp.laserBeams()\n",
    "    for ii, Eg_i in enumerate(E_X):\n",
    "        if ii<3:\n",
    "            laserBeams += pylcp.tools.standard_six_beam_MOT(\n",
    "                beta=beta, delta=(E_A[-1] - Eg_i)+det, pol=+1\n",
    "                )\n",
    "        else:\n",
    "            laserBeams += pylcp.tools.standard_six_beam_MOT(\n",
    "                beta=beta, delta=(E_A[-1] - Eg_i)+det, pol=-1\n",
    "                )\n",
    "\n",
    "    return laserBeams\n",
    "\n",
    "# Make the magnetic field:\n",
    "magField = lambda R: pylcp.tools.quadrupoleField3D(R, 2)\n",
    "\n",
    "# Make the axis:\n",
    "z = np.linspace(1e-10, 20., 101)\n",
    "v = np.linspace(0., 4., 101)\n",
    "\n",
    "# Start the figure:\n",
    "fig, ax = plt.subplots(2, 2, figsize=(6.25, 4), num=\"Forces in CaF MOT\")\n",
    "for ii, beta_i in enumerate(betas):\n",
    "    laserBeams = six_beam_CaF_MOT(beta_i, dets[2])\n",
    "    trap = pylcp.trap_rateeq(laserBeams, magField, hamiltonian)\n",
    "    trap.generate_force_profile(\n",
    "        [np.zeros(z.shape), np.zeros(z.shape), z],\n",
    "        [np.zeros(z.shape), np.zeros(z.shape), np.zeros(z.shape)],\n",
    "        name='Fz')\n",
    "    trap.generate_force_profile(\n",
    "        [np.zeros(v.shape), np.zeros(v.shape), 1e-3*np.ones(v.shape)],\n",
    "        [np.zeros(v.shape), np.zeros(v.shape), v],\n",
    "        name='Fv')\n",
    "    ax[0, 0].plot(z, trap.profile['Fz'].F[2], color='C{0:d}'.format(ii))\n",
    "    ax[0, 1].plot(v, trap.profile['Fv'].F[2], color='C{0:d}'.format(ii))\n",
    "\n",
    "for ii, det_i in enumerate(dets):\n",
    "    laserBeams = six_beam_CaF_MOT(betas[2], det_i)\n",
    "    trap = pylcp.trap_rateeq(laserBeams, magField, hamiltonian)\n",
    "    trap.generate_force_profile(\n",
    "        [np.zeros(z.shape), np.zeros(z.shape), z],\n",
    "        [np.zeros(z.shape), np.zeros(z.shape), np.zeros(z.shape)],\n",
    "        name='Fz')\n",
    "    trap.generate_force_profile(\n",
    "        [np.zeros(v.shape), np.zeros(v.shape), 1e-3*np.ones(v.shape)],\n",
    "        [np.zeros(v.shape), np.zeros(v.shape), v],\n",
    "        name='Fv')\n",
    "    ax[1, 0].plot(z, trap.profile['Fz'].F[2], color='C{0:d}'.format(ii))\n",
    "    ax[1, 1].plot(v, trap.profile['Fv'].F[2], color='C{0:d}'.format(ii))"
   ]
  },
  {
   "cell_type": "markdown",
   "metadata": {},
   "source": [
    "Next, make the two color MOT of CaF (Fig. 4)"
   ]
  },
  {
   "cell_type": "code",
   "execution_count": null,
   "metadata": {},
   "outputs": [],
   "source": [
    "laserBeams = six_beam_CaF_MOT(betas[2], dets[2])\n",
    "laserBeams += pylcp.tools.standard_six_beam_MOT(\n",
    "    beta=betas[2], delta=(E_A[-1] - E_X[0]) + 2, pol=-1\n",
    "    )\n",
    "\n",
    "fig, ax = plt.subplots(2, 1, figsize=(3.25, 4),\n",
    "                       num=\"Forces in two-color CaF MOT\")\n",
    "\n",
    "trap = pylcp.trap_rateeq(laserBeams, magField, hamiltonian)\n",
    "trap.generate_force_profile(\n",
    "    [np.zeros(z.shape), np.zeros(z.shape), z],\n",
    "    [np.zeros(z.shape), np.zeros(z.shape), np.zeros(z.shape)],\n",
    "    name='Fz')\n",
    "trap.generate_force_profile(\n",
    "    [np.zeros(v.shape), np.zeros(v.shape), 1e-3*np.ones(v.shape)],\n",
    "    [np.zeros(v.shape), np.zeros(v.shape), v],\n",
    "    name='Fv')\n",
    "ax[0].plot(z, trap.profile['Fz'].F[2])\n",
    "ax[1].plot(v, trap.profile['Fv'].F[2])"
   ]
  }
 ],
 "metadata": {
  "kernelspec": {
   "display_name": "Python 3",
   "language": "python",
   "name": "python3"
  },
  "language_info": {
   "codemirror_mode": {
    "name": "ipython",
    "version": 3
   },
   "file_extension": ".py",
   "mimetype": "text/x-python",
   "name": "python",
   "nbconvert_exporter": "python",
   "pygments_lexer": "ipython3",
   "version": "3.7.6"
  }
 },
 "nbformat": 4,
 "nbformat_minor": 4
}
