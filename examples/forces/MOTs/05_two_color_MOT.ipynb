{
 "cells": [
  {
   "cell_type": "markdown",
   "metadata": {},
   "source": [
    "@author: spe\n",
    "\n",
    "This example covers calculating the forces in a two-color type-II\n",
    "three-dimensional MOT.  This example is based on Fig. 1 of PRA 92 053401."
   ]
  },
  {
   "cell_type": "code",
   "execution_count": 1,
   "metadata": {},
   "outputs": [],
   "source": [
    "import numpy as np\n",
    "import matplotlib.pyplot as plt\n",
    "import scipy.constants as cts\n",
    "import pylcp\n",
    "import pylcp.tools\n",
    "#plt.style.use('paper')"
   ]
  },
  {
   "cell_type": "markdown",
   "metadata": {},
   "source": [
    "Let's build the example of $F=2 \\rightarrow F'=1$ with $g_l=1$ and $g_u=0$:"
   ]
  },
  {
   "cell_type": "code",
   "execution_count": 2,
   "metadata": {},
   "outputs": [
    {
     "data": {
      "text/plain": [
       "[<matplotlib.lines.Line2D at 0x1e5c0462548>]"
      ]
     },
     "execution_count": 2,
     "metadata": {},
     "output_type": "execute_result"
    },
    {
     "data": {
      "image/png": "[encoded data removed]",
      "text/plain": [
       "<Figure size 450x198 with 2 Axes>"
      ]
     },
     "metadata": {
      "needs_background": "light"
     },
     "output_type": "display_data"
    }
   ],
   "source": [
    "# Case 1: F=1 -> F=2\n",
    "Hg, Bgq = pylcp.hamiltonians.singleF(F=2, gF=0.5, muB=1)\n",
    "He, Beq = pylcp.hamiltonians.singleF(F=1, gF=0, muB=1)\n",
    "\n",
    "dijq = pylcp.hamiltonians.dqij_two_bare_hyperfine(2, 1)\n",
    "\n",
    "# Define the full Hamiltonian:\n",
    "hamiltonian = pylcp.hamiltonian(Hg, He, Bgq, Beq, dijq)\n",
    "\n",
    "# Define the magnetic field:\n",
    "magField = lambda R: pylcp.tools.quadrupoleField3D(R, 1)\n",
    "\n",
    "# Define the detunings:\n",
    "dets = np.linspace(-5, 5, 101)\n",
    "beta = 3.6\n",
    "\n",
    "# The red detuned beams are constant in this calculation, so let's make that\n",
    "# collections once:\n",
    "r_beams = pylcp.tools.standard_six_beam_MOT(delta=-1, beta=beta, pol=+1)\n",
    "\n",
    "it = np.nditer([dets, None, None])\n",
    "for (det_i, omega_i, beta_i) in it:\n",
    "    # Make the blue-detued beams:\n",
    "    b_beams = pylcp.tools.standard_six_beam_MOT(delta=det_i, beta=beta, pol=-1)\n",
    "    all_beams = pylcp.laserBeams(b_beams.beam_vector + r_beams.beam_vector)\n",
    "\n",
    "    trap = pylcp.trap_rateeq(all_beams, magField, hamiltonian)\n",
    "    omega_i[...] = trap.trapping_frequencies(axes=[2], eps=0.02)\n",
    "    beta_i[...] = trap.damping_coeff(axes=[2], eps=0.02)\n",
    "\n",
    "fig, ax = plt.subplots(1, 2, figsize=(6.25, 2.75))\n",
    "ax[0].plot(dets, it.operands[1])\n",
    "ax[1].plot(dets, it.operands[2])"
   ]
  },
  {
   "cell_type": "code",
   "execution_count": null,
   "metadata": {},
   "outputs": [],
   "source": []
  }
 ],
 "metadata": {
  "kernelspec": {
   "display_name": "Python 3",
   "language": "python",
   "name": "python3"
  },
  "language_info": {
   "codemirror_mode": {
    "name": "ipython",
    "version": 3
   },
   "file_extension": ".py",
   "mimetype": "text/x-python",
   "name": "python",
   "nbconvert_exporter": "python",
   "pygments_lexer": "ipython3",
   "version": "3.7.6"
  }
 },
 "nbformat": 4,
 "nbformat_minor": 4
}
