{
 "cells": [
  {
   "cell_type": "markdown",
   "metadata": {},
   "source": [
    "@author: spe\n",
    "\n",
    "This example covers calculating the forces in a type-I, three-dimensional MOT\n",
    "in a variety of different ways and comparing the various results."
   ]
  },
  {
   "cell_type": "code",
   "execution_count": null,
   "metadata": {},
   "outputs": [],
   "source": [
    "import numpy as np\n",
    "import matplotlib.pyplot as plt\n",
    "import scipy.constants as cts\n",
    "import pylcp\n",
    "import pylcp.tools\n",
    "plt.style.use('paper')\n",
    "\n",
    "# %% Set up a coordinate system and laser parameters:\n",
    "x = np.arange(-30, 30, 0.4)\n",
    "v = np.arange(-30, 30, 0.4)\n",
    "\n",
    "X, V = np.meshgrid(x, v)\n",
    "\n",
    "# Define the three-vectors used in the calculation:\n",
    "Rvec = [X, np.zeros(X.shape), np.zeros(X.shape)]\n",
    "Vvec = [V, np.zeros(V.shape), np.zeros(V.shape)]\n",
    "\n",
    "# Laser beams:\n",
    "det = -4.0\n",
    "alpha = 0.7\n",
    "beta = 5.0\n",
    "nb = 2.0\n",
    "\n",
    "# Define the laser beams:\n",
    "laserBeams = pylcp.laserBeams([{'kvec':[1, 0, 0], 'beta': beta, 'pol':-1, 'delta':det},\n",
    "                               {'kvec':[-1, 0, 0], 'beta': beta, 'pol':-1, 'delta':det}])\n",
    "\n",
    "# Actual linear gradient:\n",
    "linGrad = lambda R: np.array([-alpha*R[0], np.zeros(R[1].shape),\n",
    "                              np.zeros(R[2].shape)])"
   ]
  },
  {
   "cell_type": "markdown",
   "metadata": {},
   "source": [
    "Let's start with $F=0\\rightarrow F=1$ atom as a comparison case."
   ]
  },
  {
   "cell_type": "code",
   "execution_count": null,
   "metadata": {},
   "outputs": [],
   "source": [
    "# Define the atomic Hamiltonian:\n",
    "Hg, muq_g = pylcp.hamiltonians.singleF(F=0, muB=1)\n",
    "He, muq_e = pylcp.hamiltonians.singleF(F=1, muB=1)\n",
    "\n",
    "d_q = pylcp.hamiltonians.dqij_two_bare_hyperfine(0, 1)\n",
    "\n",
    "ham = pylcp.hamiltonian(Hg, He, muq_g, muq_e, d_q)\n",
    "trap = pylcp.trap_rateeq(laserBeams, linGrad, ham, svd_eps=1e-10)\n",
    "trap.generate_force_profile(Rvec, Vvec, name='Fx')\n",
    "F = trap.profile['Fx'].F[0]"
   ]
  },
  {
   "cell_type": "markdown",
   "metadata": {},
   "source": [
    "Let's consider a more complicated atom F=1 to F=2 atom and solve for the\n",
    "force using the rate equations."
   ]
  },
  {
   "cell_type": "code",
   "execution_count": null,
   "metadata": {},
   "outputs": [],
   "source": [
    "# Define the atomic Hamiltonian:\n",
    "Hg, muq_g = pylcp.hamiltonians.singleF(F=1, gF=1/2, muB=1)\n",
    "He, muq_e = pylcp.hamiltonians.singleF(F=2, gF=3/4, muB=1)\n",
    "\n",
    "dijq =  pylcp.hamiltonians.dqij_two_bare_hyperfine(1, 2)\n",
    "\n",
    "ham = pylcp.hamiltonian(Hg, He, muq_g, muq_e, dijq)\n",
    "trap = pylcp.trap_rateeq(laserBeams, linGrad, ham, svd_eps=1e-10)\n",
    "trap.generate_force_profile(Rvec, Vvec, name='Fx')\n",
    "F2 = trap.profile['Fx'].F[0]\n",
    "\n",
    "# Now plot it up:\n",
    "fig, ax = plt.subplots(nrows=1, ncols=2, num=\"Force F=2->F=3\", figsize=(6.5,2.75))\n",
    "im1 = ax[1].imshow(F2,extent=(np.amin(X[0,:]), np.amax(X[0,:]),\n",
    "                              np.amin(V[:,0]), np.amax(V[:,0])),\n",
    "                   origin='bottom',\n",
    "                   aspect='auto')\n",
    "cb1 = plt.colorbar(im1)\n",
    "cb1.set_label('$a/a_0$')\n",
    "ax[1].set_xlabel('$x/(v_0^2/a_0)$')\n",
    "ax[1].set_ylabel('$v/v_0$')\n",
    "\n",
    "ax[0].plot(x, F2[int(np.ceil(F.shape[0]/2)),:],'-',color='C0')\n",
    "ax[0].plot(x, F[int(np.ceil(F.shape[0]/2)),:],'--',color='C1',linewidth=0.5)\n",
    "ax[0].set_ylabel('$F$')\n",
    "ax[0].set_xlabel('$x$')"
   ]
  },
  {
   "cell_type": "markdown",
   "metadata": {},
   "source": [
    "So why is the oppositely directly force dissappearing at large magnetic field?\n",
    "It turns out that we are getting an interesting effect when the non-cycling\n",
    "transition from other beam starts to affect the population in the cycling\n",
    "transition ground state."
   ]
  },
  {
   "cell_type": "code",
   "execution_count": null,
   "metadata": {},
   "outputs": [],
   "source": [
    "# Along the line v = delta - alpha x, we\n",
    "v_path = det - alpha*x\n",
    "\n",
    "trap.generate_force_profile([x, np.zeros(x.shape), np.zeros(x.shape)],\n",
    "                            [v_path, np.zeros(x.shape), np.zeros(x.shape)],\n",
    "                            name='res_path')\n",
    "\n",
    "# Plot up the  the scattering rates and equilbrium populations vs. x, adjusting\n",
    "# for the switch of basis at x=0\n",
    "fig, ax = plt.subplots(1,2,figsize=(6.5,2.75))\n",
    "for ii in range(3):\n",
    "    ax[0].plot(x[x<0], trap.profile['res_path'].Rijl['g->e'][x<0, 0, ii, ii],\n",
    "               color='C{0:d}'.format(ii), linewidth=0.5,\n",
    "               label='$m_F= {0:d}\\\\rightarrow {1:d}$'.format(ii-1,ii-2))\n",
    "    ax[0].plot(x[x>0], trap.profile['res_path'].Rijl['g->e'][x>0, 0, -1-ii, -1-ii],\n",
    "               color='C{0:d}'.format(ii), linewidth=0.5)\n",
    "\n",
    "for ii in range(3):\n",
    "    ax[0].plot(x[x<0], trap.profile['res_path'].Rijl['g->e'][x<0, 1, ii, ii+2],\n",
    "               '--', color='C{0:d}'.format(ii),\n",
    "               linewidth=0.5,\n",
    "               label='$m_F= {0:d}\\\\rightarrow {1:d}$'.format(ii-1,ii))\n",
    "    ax[0].plot(x[x>0], trap.profile['res_path'].Rijl['g->e'][x>0, 1, -1-ii, -1-ii-2],\n",
    "               '--', color='C{0:d}'.format(ii), linewidth=0.5)\n",
    "ax[0].legend()\n",
    "\n",
    "for ii in range(3):\n",
    "    ax[1].plot(x[x<0], trap.profile['res_path'].Neq[x<0, ii], '-',\n",
    "               color='C{0:d}'.format(ii), linewidth=0.5)\n",
    "    ax[1].plot(x[x>0], trap.profile['res_path'].Neq[x>0, ham.ns[0]-ii-1], '-',\n",
    "               color='C{0:d}'.format(ii),\n",
    "               linewidth=0.5, label='$m_F= {0:d}$'.format(ii-1))\n",
    "for ii in range(5):\n",
    "    ax[1].plot(x[x<0], trap.profile['res_path'].Neq[x<0, ham.ns[0]+ii],'--',\n",
    "               color='C{0:d}'.format(ii),\n",
    "               linewidth=0.5)\n",
    "    ax[1].plot(x[x>0], trap.profile['res_path'].Neq[x>0, -1-ii],'--',\n",
    "               color='C{0:d}'.format(ii),\n",
    "               linewidth=0.5, label='$m_F''= {0:d}$'.format(ii-2))\n",
    "\n",
    "ax[1].legend()\n",
    "\n",
    "# Plot up the scattering rates vs. velocity at a given field:\n",
    "Bmag = alpha*15\n",
    "delta = -4\n",
    "v = np.arange(-20,20,0.1)\n",
    "fijq = np.array([10, 30, 60])\n",
    "\n",
    "plt.figure()\n",
    "for ii in range(3):\n",
    "    plt.plot(v, beta/2*(fijq[ii]/60)/\\\n",
    "             (1+4*(delta + v - ((3/4-1/2)*(ii-1)*Bmag - 3/4*Bmag))**2),\n",
    "         '-', color='C{0:d}'.format(ii), linewidth=0.5,\n",
    "         label='${0:d}\\\\rightarrow{1:d}$'.format(ii-1,ii))\n",
    "    plt.plot(v, beta/2*(fijq[-1-ii]/60)/\\\n",
    "             (1+4*(delta - v - ((3/4-1/2)*(ii-1)*Bmag + 3/4*Bmag))**2),\n",
    "         '--', color='C{0:d}'.format(ii), linewidth=0.5,\n",
    "         label='${0:d}\\\\rightarrow{1:d}$'.format(ii-1,ii-2))\n",
    "plt.legend()\n",
    "plt.xlabel('$kv/\\Gamma$')\n",
    "plt.ylabel('$R_{sc}$')"
   ]
  }
 ],
 "metadata": {
  "kernelspec": {
   "display_name": "Python 3",
   "language": "python",
   "name": "python3"
  },
  "language_info": {
   "codemirror_mode": {
    "name": "ipython",
    "version": 3
   },
   "file_extension": ".py",
   "mimetype": "text/x-python",
   "name": "python",
   "nbconvert_exporter": "python",
   "pygments_lexer": "ipython3",
   "version": "3.7.6"
  }
 },
 "nbformat": 4,
 "nbformat_minor": 4
}
