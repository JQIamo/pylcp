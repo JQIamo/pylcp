{
 "cells": [
  {
   "cell_type": "markdown",
   "metadata": {},
   "source": [
    "@author: spe\n",
    "\n",
    "This example covers calculating the forces in a type-I, three-dimensional MOT\n",
    "in a variety of different ways and comparing the various results."
   ]
  },
  {
   "cell_type": "code",
   "execution_count": 5,
   "metadata": {},
   "outputs": [
    {
     "ename": "AttributeError",
     "evalue": "'list' object has no attribute 'astype'",
     "output_type": "error",
     "traceback": [
      "\u001b[1;31m---------------------------------------------------------------------------\u001b[0m",
      "\u001b[1;31mAttributeError\u001b[0m                            Traceback (most recent call last)",
      "\u001b[1;32m<ipython-input-5-cdc5b7e345bd>\u001b[0m in \u001b[0;36m<module>\u001b[1;34m\u001b[0m\n\u001b[0;32m     24\u001b[0m \u001b[1;31m# Define the laser beams:\u001b[0m\u001b[1;33m\u001b[0m\u001b[1;33m\u001b[0m\u001b[1;33m\u001b[0m\u001b[0m\n\u001b[0;32m     25\u001b[0m laserBeams = pylcp.laserBeams([{'kvec':[1, 0, 0], 'beta': beta, 'pol':-1, 'delta':det},\n\u001b[1;32m---> 26\u001b[1;33m                                {'kvec':[-1, 0, 0], 'beta': beta, 'pol':-1, 'delta':det}])\n\u001b[0m\u001b[0;32m     27\u001b[0m \u001b[1;33m\u001b[0m\u001b[0m\n\u001b[0;32m     28\u001b[0m \u001b[1;31m# Actual linear gradient:\u001b[0m\u001b[1;33m\u001b[0m\u001b[1;33m\u001b[0m\u001b[1;33m\u001b[0m\u001b[0m\n",
      "\u001b[1;32m~\\Documents\\GitHub\\pylcp\\fields.py\u001b[0m in \u001b[0;36m__init__\u001b[1;34m(self, laserbeamparams, beam_type)\u001b[0m\n\u001b[0;32m    550\u001b[0m             \u001b[1;32mfor\u001b[0m \u001b[0mlaserbeamparam\u001b[0m \u001b[1;32min\u001b[0m \u001b[0mlaserbeamparams\u001b[0m\u001b[1;33m:\u001b[0m\u001b[1;33m\u001b[0m\u001b[1;33m\u001b[0m\u001b[0m\n\u001b[0;32m    551\u001b[0m                 \u001b[1;32mif\u001b[0m \u001b[0misinstance\u001b[0m\u001b[1;33m(\u001b[0m\u001b[0mlaserbeamparam\u001b[0m\u001b[1;33m,\u001b[0m \u001b[0mdict\u001b[0m\u001b[1;33m)\u001b[0m\u001b[1;33m:\u001b[0m\u001b[1;33m\u001b[0m\u001b[1;33m\u001b[0m\u001b[0m\n\u001b[1;32m--> 552\u001b[1;33m                     \u001b[0mself\u001b[0m\u001b[1;33m.\u001b[0m\u001b[0mbeam_vector\u001b[0m\u001b[1;33m.\u001b[0m\u001b[0mappend\u001b[0m\u001b[1;33m(\u001b[0m\u001b[0mbeam_type\u001b[0m\u001b[1;33m(\u001b[0m\u001b[1;33m**\u001b[0m\u001b[0mlaserbeamparam\u001b[0m\u001b[1;33m)\u001b[0m\u001b[1;33m)\u001b[0m\u001b[1;33m\u001b[0m\u001b[1;33m\u001b[0m\u001b[0m\n\u001b[0m\u001b[0;32m    553\u001b[0m                 \u001b[1;32melif\u001b[0m \u001b[0misinstance\u001b[0m\u001b[1;33m(\u001b[0m\u001b[0mlaserbeamparam\u001b[0m\u001b[1;33m,\u001b[0m \u001b[0mlaserBeam\u001b[0m\u001b[1;33m)\u001b[0m\u001b[1;33m:\u001b[0m\u001b[1;33m\u001b[0m\u001b[1;33m\u001b[0m\u001b[0m\n\u001b[0;32m    554\u001b[0m                     \u001b[0mself\u001b[0m\u001b[1;33m.\u001b[0m\u001b[0mbeam_vector\u001b[0m\u001b[1;33m.\u001b[0m\u001b[0mappend\u001b[0m\u001b[1;33m(\u001b[0m\u001b[0mlaserbeamparam\u001b[0m\u001b[1;33m)\u001b[0m\u001b[1;33m\u001b[0m\u001b[1;33m\u001b[0m\u001b[0m\n",
      "\u001b[1;32m~\\Documents\\GitHub\\pylcp\\fields.py\u001b[0m in \u001b[0;36m__init__\u001b[1;34m(self, kvec, beta, pol, delta, phase, pol_coord, eps)\u001b[0m\n\u001b[0;32m    172\u001b[0m         \u001b[1;32mif\u001b[0m \u001b[1;32mnot\u001b[0m \u001b[0mpol\u001b[0m \u001b[1;32mis\u001b[0m \u001b[1;32mNone\u001b[0m\u001b[1;33m:\u001b[0m\u001b[1;33m\u001b[0m\u001b[1;33m\u001b[0m\u001b[0m\n\u001b[0;32m    173\u001b[0m             \u001b[1;32mif\u001b[0m \u001b[1;32mnot\u001b[0m \u001b[0mcallable\u001b[0m\u001b[1;33m(\u001b[0m\u001b[0mpol\u001b[0m\u001b[1;33m)\u001b[0m\u001b[1;33m:\u001b[0m\u001b[1;33m\u001b[0m\u001b[1;33m\u001b[0m\u001b[0m\n\u001b[1;32m--> 174\u001b[1;33m                 \u001b[0mpol\u001b[0m \u001b[1;33m=\u001b[0m \u001b[0mself\u001b[0m\u001b[1;33m.\u001b[0m\u001b[0m__parse_constant_polarization\u001b[0m\u001b[1;33m(\u001b[0m\u001b[0mpol\u001b[0m\u001b[1;33m,\u001b[0m \u001b[0mpol_coord\u001b[0m\u001b[1;33m)\u001b[0m\u001b[1;33m\u001b[0m\u001b[1;33m\u001b[0m\u001b[0m\n\u001b[0m\u001b[0;32m    175\u001b[0m \u001b[1;33m\u001b[0m\u001b[0m\n\u001b[0;32m    176\u001b[0m             \u001b[1;31m# Now, promote!\u001b[0m\u001b[1;33m\u001b[0m\u001b[1;33m\u001b[0m\u001b[1;33m\u001b[0m\u001b[0m\n",
      "\u001b[1;32m~\\Documents\\GitHub\\pylcp\\fields.py\u001b[0m in \u001b[0;36m__parse_constant_polarization\u001b[1;34m(self, pol, pol_coord)\u001b[0m\n\u001b[0;32m    203\u001b[0m \u001b[1;33m\u001b[0m\u001b[0m\n\u001b[0;32m    204\u001b[0m             \u001b[1;31m# Project onto the actual k-vector:\u001b[0m\u001b[1;33m\u001b[0m\u001b[1;33m\u001b[0m\u001b[1;33m\u001b[0m\u001b[0m\n\u001b[1;32m--> 205\u001b[1;33m             \u001b[0mself\u001b[0m\u001b[1;33m.\u001b[0m\u001b[0mpol\u001b[0m \u001b[1;33m=\u001b[0m \u001b[0mself\u001b[0m\u001b[1;33m.\u001b[0m\u001b[0mproject_pol\u001b[0m\u001b[1;33m(\u001b[0m\u001b[0mself\u001b[0m\u001b[1;33m.\u001b[0m\u001b[0mkvec\u001b[0m\u001b[1;33m(\u001b[0m\u001b[1;33m)\u001b[0m\u001b[1;33m,\u001b[0m \u001b[0minvert\u001b[0m\u001b[1;33m=\u001b[0m\u001b[1;32mTrue\u001b[0m\u001b[1;33m)\u001b[0m\u001b[1;33m.\u001b[0m\u001b[0mastype\u001b[0m\u001b[1;33m(\u001b[0m\u001b[1;34m'complex128'\u001b[0m\u001b[1;33m)\u001b[0m\u001b[1;33m\u001b[0m\u001b[1;33m\u001b[0m\u001b[0m\n\u001b[0m\u001b[0;32m    206\u001b[0m \u001b[1;33m\u001b[0m\u001b[0m\n\u001b[0;32m    207\u001b[0m         \u001b[1;32melif\u001b[0m \u001b[0misinstance\u001b[0m\u001b[1;33m(\u001b[0m\u001b[0mpol\u001b[0m\u001b[1;33m,\u001b[0m \u001b[0mnp\u001b[0m\u001b[1;33m.\u001b[0m\u001b[0mndarray\u001b[0m\u001b[1;33m)\u001b[0m\u001b[1;33m:\u001b[0m\u001b[1;33m\u001b[0m\u001b[1;33m\u001b[0m\u001b[0m\n",
      "\u001b[1;32m~\\Documents\\GitHub\\pylcp\\fields.py\u001b[0m in \u001b[0;36mproject_pol\u001b[1;34m(self, quant_axis, R, t, treat_nans, calculate_norm, invert)\u001b[0m\n\u001b[0;32m    316\u001b[0m             \u001b[0malpha\u001b[0m \u001b[1;33m=\u001b[0m \u001b[0mnp\u001b[0m\u001b[1;33m.\u001b[0m\u001b[0mzeros\u001b[0m\u001b[1;33m(\u001b[0m\u001b[0mcosbeta\u001b[0m\u001b[1;33m.\u001b[0m\u001b[0mshape\u001b[0m\u001b[1;33m)\u001b[0m\u001b[1;33m\u001b[0m\u001b[1;33m\u001b[0m\u001b[0m\n\u001b[0;32m    317\u001b[0m \u001b[1;33m\u001b[0m\u001b[0m\n\u001b[1;32m--> 318\u001b[1;33m         \u001b[0mquant_axis\u001b[0m \u001b[1;33m=\u001b[0m \u001b[0mquant_axis\u001b[0m\u001b[1;33m.\u001b[0m\u001b[0mastype\u001b[0m\u001b[1;33m(\u001b[0m\u001b[1;34m'float64'\u001b[0m\u001b[1;33m)\u001b[0m\u001b[1;33m\u001b[0m\u001b[1;33m\u001b[0m\u001b[0m\n\u001b[0m\u001b[0;32m    319\u001b[0m         \u001b[0mpol\u001b[0m \u001b[1;33m=\u001b[0m \u001b[0mpol\u001b[0m\u001b[1;33m.\u001b[0m\u001b[0mastype\u001b[0m\u001b[1;33m(\u001b[0m\u001b[1;34m'complex128'\u001b[0m\u001b[1;33m)\u001b[0m\u001b[1;33m\u001b[0m\u001b[1;33m\u001b[0m\u001b[0m\n\u001b[0;32m    320\u001b[0m \u001b[1;33m\u001b[0m\u001b[0m\n",
      "\u001b[1;31mAttributeError\u001b[0m: 'list' object has no attribute 'astype'"
     ]
    }
   ],
   "source": [
    "import numpy as np\n",
    "import matplotlib.pyplot as plt\n",
    "import scipy.constants as cts\n",
    "import pylcp\n",
    "import pylcp.tools\n",
    "#plt.style.use('paper')\n",
    "\n",
    "# %% Set up a coordinate system and laser parameters:\n",
    "x = np.arange(-30, 30, 0.4)\n",
    "v = np.arange(-30, 30, 0.4)\n",
    "\n",
    "X, V = np.meshgrid(x, v)\n",
    "\n",
    "# Define the three-vectors used in the calculation:\n",
    "Rvec = [X, np.zeros(X.shape), np.zeros(X.shape)]\n",
    "Vvec = [V, np.zeros(V.shape), np.zeros(V.shape)]\n",
    "\n",
    "# Laser beams:\n",
    "det = -4.0\n",
    "alpha = 0.7\n",
    "beta = 5.0\n",
    "nb = 2.0\n",
    "\n",
    "# Define the laser beams:\n",
    "laserBeams = pylcp.laserBeams([{'kvec':[1, 0, 0], 'beta': beta, 'pol':-1, 'delta':det},\n",
    "                               {'kvec':[-1, 0, 0], 'beta': beta, 'pol':-1, 'delta':det}])\n",
    "\n",
    "# Actual linear gradient:\n",
    "linGrad = lambda R: np.array([-alpha*R[0], np.zeros(R[1].shape),\n",
    "                              np.zeros(R[2].shape)])"
   ]
  },
  {
   "cell_type": "markdown",
   "metadata": {},
   "source": [
    "Let's start with $F=0\\rightarrow F=1$ atom as a comparison case."
   ]
  },
  {
   "cell_type": "code",
   "execution_count": 3,
   "metadata": {},
   "outputs": [
    {
     "ename": "NameError",
     "evalue": "name 'laserBeams' is not defined",
     "output_type": "error",
     "traceback": [
      "\u001b[1;31m---------------------------------------------------------------------------\u001b[0m",
      "\u001b[1;31mNameError\u001b[0m                                 Traceback (most recent call last)",
      "\u001b[1;32m<ipython-input-3-e00c1d591124>\u001b[0m in \u001b[0;36m<module>\u001b[1;34m\u001b[0m\n\u001b[0;32m      6\u001b[0m \u001b[1;33m\u001b[0m\u001b[0m\n\u001b[0;32m      7\u001b[0m \u001b[0mham\u001b[0m \u001b[1;33m=\u001b[0m \u001b[0mpylcp\u001b[0m\u001b[1;33m.\u001b[0m\u001b[0mhamiltonian\u001b[0m\u001b[1;33m(\u001b[0m\u001b[0mHg\u001b[0m\u001b[1;33m,\u001b[0m \u001b[0mHe\u001b[0m\u001b[1;33m,\u001b[0m \u001b[0mmuq_g\u001b[0m\u001b[1;33m,\u001b[0m \u001b[0mmuq_e\u001b[0m\u001b[1;33m,\u001b[0m \u001b[0md_q\u001b[0m\u001b[1;33m)\u001b[0m\u001b[1;33m\u001b[0m\u001b[1;33m\u001b[0m\u001b[0m\n\u001b[1;32m----> 8\u001b[1;33m \u001b[0mtrap\u001b[0m \u001b[1;33m=\u001b[0m \u001b[0mpylcp\u001b[0m\u001b[1;33m.\u001b[0m\u001b[0mtrap_rateeq\u001b[0m\u001b[1;33m(\u001b[0m\u001b[0mlaserBeams\u001b[0m\u001b[1;33m,\u001b[0m \u001b[0mlinGrad\u001b[0m\u001b[1;33m,\u001b[0m \u001b[0mham\u001b[0m\u001b[1;33m,\u001b[0m \u001b[0msvd_eps\u001b[0m\u001b[1;33m=\u001b[0m\u001b[1;36m1e-10\u001b[0m\u001b[1;33m)\u001b[0m\u001b[1;33m\u001b[0m\u001b[1;33m\u001b[0m\u001b[0m\n\u001b[0m\u001b[0;32m      9\u001b[0m \u001b[0mtrap\u001b[0m\u001b[1;33m.\u001b[0m\u001b[0mgenerate_force_profile\u001b[0m\u001b[1;33m(\u001b[0m\u001b[0mRvec\u001b[0m\u001b[1;33m,\u001b[0m \u001b[0mVvec\u001b[0m\u001b[1;33m,\u001b[0m \u001b[0mname\u001b[0m\u001b[1;33m=\u001b[0m\u001b[1;34m'Fx'\u001b[0m\u001b[1;33m)\u001b[0m\u001b[1;33m\u001b[0m\u001b[1;33m\u001b[0m\u001b[0m\n\u001b[0;32m     10\u001b[0m \u001b[0mF\u001b[0m \u001b[1;33m=\u001b[0m \u001b[0mtrap\u001b[0m\u001b[1;33m.\u001b[0m\u001b[0mprofile\u001b[0m\u001b[1;33m[\u001b[0m\u001b[1;34m'Fx'\u001b[0m\u001b[1;33m]\u001b[0m\u001b[1;33m.\u001b[0m\u001b[0mF\u001b[0m\u001b[1;33m[\u001b[0m\u001b[1;36m0\u001b[0m\u001b[1;33m]\u001b[0m\u001b[1;33m\u001b[0m\u001b[1;33m\u001b[0m\u001b[0m\n",
      "\u001b[1;31mNameError\u001b[0m: name 'laserBeams' is not defined"
     ]
    }
   ],
   "source": [
    "# Define the atomic Hamiltonian:\n",
    "Hg, muq_g = pylcp.hamiltonians.singleF(F=0, muB=1)\n",
    "He, muq_e = pylcp.hamiltonians.singleF(F=1, muB=1)\n",
    "\n",
    "d_q = pylcp.hamiltonians.dqij_two_bare_hyperfine(0, 1)\n",
    "\n",
    "ham = pylcp.hamiltonian(Hg, He, muq_g, muq_e, d_q)\n",
    "trap = pylcp.trap_rateeq(laserBeams, linGrad, ham, svd_eps=1e-10)\n",
    "trap.generate_force_profile(Rvec, Vvec, name='Fx')\n",
    "F = trap.profile['Fx'].F[0]"
   ]
  },
  {
   "cell_type": "markdown",
   "metadata": {},
   "source": [
    "Let's consider a more complicated atom F=1 to F=2 atom and solve for the\n",
    "force using the rate equations."
   ]
  },
  {
   "cell_type": "code",
   "execution_count": 4,
   "metadata": {},
   "outputs": [
    {
     "ename": "NameError",
     "evalue": "name 'laserBeams' is not defined",
     "output_type": "error",
     "traceback": [
      "\u001b[1;31m---------------------------------------------------------------------------\u001b[0m",
      "\u001b[1;31mNameError\u001b[0m                                 Traceback (most recent call last)",
      "\u001b[1;32m<ipython-input-4-7911566eefac>\u001b[0m in \u001b[0;36m<module>\u001b[1;34m\u001b[0m\n\u001b[0;32m      6\u001b[0m \u001b[1;33m\u001b[0m\u001b[0m\n\u001b[0;32m      7\u001b[0m \u001b[0mham\u001b[0m \u001b[1;33m=\u001b[0m \u001b[0mpylcp\u001b[0m\u001b[1;33m.\u001b[0m\u001b[0mhamiltonian\u001b[0m\u001b[1;33m(\u001b[0m\u001b[0mHg\u001b[0m\u001b[1;33m,\u001b[0m \u001b[0mHe\u001b[0m\u001b[1;33m,\u001b[0m \u001b[0mmuq_g\u001b[0m\u001b[1;33m,\u001b[0m \u001b[0mmuq_e\u001b[0m\u001b[1;33m,\u001b[0m \u001b[0mdijq\u001b[0m\u001b[1;33m)\u001b[0m\u001b[1;33m\u001b[0m\u001b[1;33m\u001b[0m\u001b[0m\n\u001b[1;32m----> 8\u001b[1;33m \u001b[0mtrap\u001b[0m \u001b[1;33m=\u001b[0m \u001b[0mpylcp\u001b[0m\u001b[1;33m.\u001b[0m\u001b[0mtrap_rateeq\u001b[0m\u001b[1;33m(\u001b[0m\u001b[0mlaserBeams\u001b[0m\u001b[1;33m,\u001b[0m \u001b[0mlinGrad\u001b[0m\u001b[1;33m,\u001b[0m \u001b[0mham\u001b[0m\u001b[1;33m,\u001b[0m \u001b[0msvd_eps\u001b[0m\u001b[1;33m=\u001b[0m\u001b[1;36m1e-10\u001b[0m\u001b[1;33m)\u001b[0m\u001b[1;33m\u001b[0m\u001b[1;33m\u001b[0m\u001b[0m\n\u001b[0m\u001b[0;32m      9\u001b[0m \u001b[0mtrap\u001b[0m\u001b[1;33m.\u001b[0m\u001b[0mgenerate_force_profile\u001b[0m\u001b[1;33m(\u001b[0m\u001b[0mRvec\u001b[0m\u001b[1;33m,\u001b[0m \u001b[0mVvec\u001b[0m\u001b[1;33m,\u001b[0m \u001b[0mname\u001b[0m\u001b[1;33m=\u001b[0m\u001b[1;34m'Fx'\u001b[0m\u001b[1;33m)\u001b[0m\u001b[1;33m\u001b[0m\u001b[1;33m\u001b[0m\u001b[0m\n\u001b[0;32m     10\u001b[0m \u001b[0mF2\u001b[0m \u001b[1;33m=\u001b[0m \u001b[0mtrap\u001b[0m\u001b[1;33m.\u001b[0m\u001b[0mprofile\u001b[0m\u001b[1;33m[\u001b[0m\u001b[1;34m'Fx'\u001b[0m\u001b[1;33m]\u001b[0m\u001b[1;33m.\u001b[0m\u001b[0mF\u001b[0m\u001b[1;33m[\u001b[0m\u001b[1;36m0\u001b[0m\u001b[1;33m]\u001b[0m\u001b[1;33m\u001b[0m\u001b[1;33m\u001b[0m\u001b[0m\n",
      "\u001b[1;31mNameError\u001b[0m: name 'laserBeams' is not defined"
     ]
    }
   ],
   "source": [
    "# Define the atomic Hamiltonian:\n",
    "Hg, muq_g = pylcp.hamiltonians.singleF(F=1, gF=1/2, muB=1)\n",
    "He, muq_e = pylcp.hamiltonians.singleF(F=2, gF=3/4, muB=1)\n",
    "\n",
    "dijq =  pylcp.hamiltonians.dqij_two_bare_hyperfine(1, 2)\n",
    "\n",
    "ham = pylcp.hamiltonian(Hg, He, muq_g, muq_e, dijq)\n",
    "trap = pylcp.trap_rateeq(laserBeams, linGrad, ham, svd_eps=1e-10)\n",
    "trap.generate_force_profile(Rvec, Vvec, name='Fx')\n",
    "F2 = trap.profile['Fx'].F[0]\n",
    "\n",
    "# Now plot it up:\n",
    "fig, ax = plt.subplots(nrows=1, ncols=2, num=\"Force F=2->F=3\", figsize=(6.5,2.75))\n",
    "im1 = ax[1].imshow(F2,extent=(np.amin(X[0,:]), np.amax(X[0,:]),\n",
    "                              np.amin(V[:,0]), np.amax(V[:,0])),\n",
    "                   origin='bottom',\n",
    "                   aspect='auto')\n",
    "cb1 = plt.colorbar(im1)\n",
    "cb1.set_label('$a/a_0$')\n",
    "ax[1].set_xlabel('$x/(v_0^2/a_0)$')\n",
    "ax[1].set_ylabel('$v/v_0$')\n",
    "\n",
    "ax[0].plot(x, F2[int(np.ceil(F.shape[0]/2)),:],'-',color='C0')\n",
    "ax[0].plot(x, F[int(np.ceil(F.shape[0]/2)),:],'--',color='C1',linewidth=0.5)\n",
    "ax[0].set_ylabel('$F$')\n",
    "ax[0].set_xlabel('$x$')"
   ]
  },
  {
   "cell_type": "markdown",
   "metadata": {},
   "source": [
    "So why is the oppositely directly force dissappearing at large magnetic field?\n",
    "It turns out that we are getting an interesting effect when the non-cycling\n",
    "transition from other beam starts to affect the population in the cycling\n",
    "transition ground state."
   ]
  },
  {
   "cell_type": "code",
   "execution_count": null,
   "metadata": {},
   "outputs": [],
   "source": [
    "# Along the line v = delta - alpha x, we\n",
    "v_path = det - alpha*x\n",
    "\n",
    "trap.generate_force_profile([x, np.zeros(x.shape), np.zeros(x.shape)],\n",
    "                            [v_path, np.zeros(x.shape), np.zeros(x.shape)],\n",
    "                            name='res_path')\n",
    "\n",
    "# Plot up the  the scattering rates and equilbrium populations vs. x, adjusting\n",
    "# for the switch of basis at x=0\n",
    "fig, ax = plt.subplots(1,2,figsize=(6.5,2.75))\n",
    "for ii in range(3):\n",
    "    ax[0].plot(x[x<0], trap.profile['res_path'].Rijl['g->e'][x<0, 0, ii, ii],\n",
    "               color='C{0:d}'.format(ii), linewidth=0.5,\n",
    "               label='$m_F= {0:d}\\\\rightarrow {1:d}$'.format(ii-1,ii-2))\n",
    "    ax[0].plot(x[x>0], trap.profile['res_path'].Rijl['g->e'][x>0, 0, -1-ii, -1-ii],\n",
    "               color='C{0:d}'.format(ii), linewidth=0.5)\n",
    "\n",
    "for ii in range(3):\n",
    "    ax[0].plot(x[x<0], trap.profile['res_path'].Rijl['g->e'][x<0, 1, ii, ii+2],\n",
    "               '--', color='C{0:d}'.format(ii),\n",
    "               linewidth=0.5,\n",
    "               label='$m_F= {0:d}\\\\rightarrow {1:d}$'.format(ii-1,ii))\n",
    "    ax[0].plot(x[x>0], trap.profile['res_path'].Rijl['g->e'][x>0, 1, -1-ii, -1-ii-2],\n",
    "               '--', color='C{0:d}'.format(ii), linewidth=0.5)\n",
    "ax[0].legend()\n",
    "\n",
    "for ii in range(3):\n",
    "    ax[1].plot(x[x<0], trap.profile['res_path'].Neq[x<0, ii], '-',\n",
    "               color='C{0:d}'.format(ii), linewidth=0.5)\n",
    "    ax[1].plot(x[x>0], trap.profile['res_path'].Neq[x>0, ham.ns[0]-ii-1], '-',\n",
    "               color='C{0:d}'.format(ii),\n",
    "               linewidth=0.5, label='$m_F= {0:d}$'.format(ii-1))\n",
    "for ii in range(5):\n",
    "    ax[1].plot(x[x<0], trap.profile['res_path'].Neq[x<0, ham.ns[0]+ii],'--',\n",
    "               color='C{0:d}'.format(ii),\n",
    "               linewidth=0.5)\n",
    "    ax[1].plot(x[x>0], trap.profile['res_path'].Neq[x>0, -1-ii],'--',\n",
    "               color='C{0:d}'.format(ii),\n",
    "               linewidth=0.5, label='$m_F''= {0:d}$'.format(ii-2))\n",
    "\n",
    "ax[1].legend()\n",
    "\n",
    "# Plot up the scattering rates vs. velocity at a given field:\n",
    "Bmag = alpha*15\n",
    "delta = -4\n",
    "v = np.arange(-20,20,0.1)\n",
    "fijq = np.array([10, 30, 60])\n",
    "\n",
    "plt.figure()\n",
    "for ii in range(3):\n",
    "    plt.plot(v, beta/2*(fijq[ii]/60)/\\\n",
    "             (1+4*(delta + v - ((3/4-1/2)*(ii-1)*Bmag - 3/4*Bmag))**2),\n",
    "         '-', color='C{0:d}'.format(ii), linewidth=0.5,\n",
    "         label='${0:d}\\\\rightarrow{1:d}$'.format(ii-1,ii))\n",
    "    plt.plot(v, beta/2*(fijq[-1-ii]/60)/\\\n",
    "             (1+4*(delta - v - ((3/4-1/2)*(ii-1)*Bmag + 3/4*Bmag))**2),\n",
    "         '--', color='C{0:d}'.format(ii), linewidth=0.5,\n",
    "         label='${0:d}\\\\rightarrow{1:d}$'.format(ii-1,ii-2))\n",
    "plt.legend()\n",
    "plt.xlabel('$kv/\\Gamma$')\n",
    "plt.ylabel('$R_{sc}$')"
   ]
  }
 ],
 "metadata": {
  "kernelspec": {
   "display_name": "Python 3",
   "language": "python",
   "name": "python3"
  },
  "language_info": {
   "codemirror_mode": {
    "name": "ipython",
    "version": 3
   },
   "file_extension": ".py",
   "mimetype": "text/x-python",
   "name": "python",
   "nbconvert_exporter": "python",
   "pygments_lexer": "ipython3",
   "version": "3.7.6"
  }
 },
 "nbformat": 4,
 "nbformat_minor": 4
}
