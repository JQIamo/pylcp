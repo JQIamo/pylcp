{
 "cells": [
  {
   "cell_type": "markdown",
   "metadata": {},
   "source": [
    "author: @SteveEckel\n",
    "\n",
    "This script shows examples about how to solve for the dynamics of a 1D MOT and\n",
    "calculate things like the capture velocity.  We will deal specifically with a 1D MOT.\n",
    "We can compare results to those of 1 D. Haubrich, A. Höpe, and D. Meschede, “A simple model for optical capture of atoms in strong magnetic quadrupole fields” _Optics Communications_ __102__, 225 (1993).  http://dx.doi.org/10.1016/0030-4018(93)90387-K\n",
    "\n",
    "In this example, we will mostly focus on the heuristic force equation for an $F=0\\rightarrow F'=1$ atom in a magnetic field:\n",
    "\n",
    "$$\n",
    "F = \\frac{\\hbar k \\Gamma}{2}\\sum_{q,i} \\frac{\\beta_i (\\epsilon_q \\cdot \\hat{B}(r))^2}{1+\\sum_j\\beta_j + 4[\\Delta - \\mathbf{k}_i\\cdot \\mathbf{v} - q \\mu_B B(r)/\\hbar]^2/\\Gamma^2}\n",
    "$$\n",
    "\n",
    "where $F$ is the force, $\\Gamma$ is the decay, $q=-1,0,1$, $\\beta_i$ and $\\mathbf{k}_i$ are the intensity and wavevector of the $i$th laser beam (which can depend on time $t$ and position $\\mathbf{r}$.  This equation is encoded in `pylcp.heuristiceq`. \n",
    "\n",
    "We'll use the standard 3D MOT quadrupole field,\n",
    "\n",
    "$$\n",
    "\\mathbf{B} = B'\\left(-\\frac{1}{2}(x\\hat{x} + y\\hat{y})+z\\hat{z}\\right)\n",
    "$$\n",
    "\n",
    "where $B'$ is the magnetic field gradient."
   ]
  },
  {
   "cell_type": "code",
   "execution_count": 1,
   "metadata": {},
   "outputs": [],
   "source": [
    "import numpy as np\n",
    "import matplotlib.pyplot as plt\n",
    "from scipy.integrate import odeint\n",
    "from scipy.optimize import fsolve\n",
    "import scipy.constants as cts\n",
    "import pylcp\n",
    "import pylcp.atom as atom\n",
    "from pylcp.fields import conventional3DMOTBeams\n",
    "from pylcp.common import bisectFindChangeValue, progressBar\n",
    "#plt.style.use('paper')"
   ]
  },
  {
   "cell_type": "markdown",
   "metadata": {},
   "source": [
    "### Let's now set up the units:\n",
    "As with any problem in `pylcp`, the units that one chooses are arbitrary.  We will denote all explicit units with a subscript and all quantities where we have removed the units with an overbar, e.g. $\\bar{x} = x/x_0$.  Our choice in this script will be different from the default choices of $x_0=1/k$ and $t_0 =1/\\Gamma$.  Instead, let's choose units where the force is given by (along the $\\hat{z}$ axis):\n",
    "\n",
    "$$\n",
    "\\bar{\\mathbf{F}} = \\frac{\\hat{\\mathbf{k}}}{2}\\sum_{q,i}\\frac{\\beta_i (\\epsilon_q \\cdot \\hat{B}(r))^2}{1+\\sum_j\\beta_j + 4(\\delta - \\hat{\\mathbf{k}}_i\\cdot \\mathbf{\\bar{v}} - q \\bar{z})^2}\n",
    "$$\n",
    "\n",
    "where $\\delta = \\Delta/\\Gamma$.  This is equivalent the above equation by setting $k/\\Gamma=1$ and $\\mu_B B'/(\\hbar \\Gamma)=1$.  Or, in other words, we want a unit system that measures velocities in terms of $\\Gamma/k$, positions in terms of $\\hbar \\Gamma/\\mu_B B'$, and forces in terms of $\\hbar k \\Gamma$.\n",
    "\n",
    "Programmatically, it allows us to just specify the _unit_ vector for $\\mathbf{k}$ when we program `laserBeams`, set the magnetic field gradient parameter $\\alpha=1$, and set $\\Gamma=1$ ($\\hbar=1$ by default).\n",
    "\n",
    "So what are the length and time units of this system?  Well, the length unit is given by $x_0 = \\hbar \\Gamma/\\mu_B B'$ and $t_0$ is defined such that\n",
    "\n",
    "$$\n",
    "\\bar{v} = \\frac{k v}{\\Gamma}  = k \\frac{x_0}{\\Gamma t_0}\\bar{v}\n",
    "$$\n",
    "\n",
    "implying that\n",
    "\n",
    "$$\n",
    "t_0 = \\frac{k x_0}{\\Gamma}\n",
    "$$\n",
    "\n",
    "Plugging in the numbers,"
   ]
  },
  {
   "cell_type": "code",
   "execution_count": 2,
   "metadata": {},
   "outputs": [
    {
     "name": "stdout",
     "output_type": "stream",
     "text": [
      "0.2857142857142857 80553.65778435367 23015.33079552962 2.6525823848649224e-08 0.0006105006105006105\n"
     ]
    }
   ],
   "source": [
    "# 50 gauss/cm for Sr \n",
    "# mub on database\n",
    "# 0.43 cm for x0 30/1.4/50\n",
    "\n",
    "x0 = (6/1.4/15) # cm\n",
    "k = 2*np.pi/780E-7 # cm^{-1}\n",
    "kbar = k*x0\n",
    "\n",
    "gamma = 2*np.pi*6e6\n",
    "t0 = k*x0/gamma\n",
    "print(x0, k, kbar, 1/gamma, t0)"
   ]
  },
  {
   "cell_type": "markdown",
   "metadata": {},
   "source": [
    "Finally, we need the mass, which is defined through the prefactor to the force equation.  We'll factor out the magnitude of the $\\mathbf{k}$ vector because :\n",
    "\n",
    "$$\n",
    "\\ddot{\\mathbf{r}} = \\frac{\\mathbf{F}}{m} = \\frac{\\hbar k \\Gamma}{m}\\hat{\\mathbf{k}}\n",
    "$$\n",
    "\n",
    "Note that I neglected the sum, since that is dimensionless already.  I can now put in the units explicitly:\n",
    "\n",
    "$$\n",
    "\\frac{x_0}{t_0^2} \\ddot{\\bar{\\mathbf{r}}} = \\frac{\\hbar k \\Gamma }{m}\\hat{\\mathbf{k}}\n",
    "$$\n",
    "\n",
    "Rearranging,\n",
    "\n",
    "$$\n",
    "\\ddot{\\bar{\\mathbf{r}}} = \\frac{\\hbar k \\Gamma t_0^2}{m x_0} \\hat{\\mathbf{k}} = \\frac{\\hbar k^2 t_0}{m}\\hat{\\mathbf{k}} = \\frac{\\bar{\\mathbf{F}}}{\\bar{m}}\n",
    "$$\n",
    "\n",
    "where $\\bar{m} = m/(\\hbar k^2 t_0)$.\n",
    "\n",
    "Note that the mass of Rb atom is 86.909180527 u."
   ]
  },
  {
   "cell_type": "code",
   "execution_count": 3,
   "metadata": {},
   "outputs": [
    {
     "name": "stdout",
     "output_type": "stream",
     "text": [
      "0.03454474231473474\n"
     ]
    }
   ],
   "source": [
    "mass = 86.909180527*cts.value('atomic mass constant')/(cts.hbar*(k*1e2)**2*t0)\n",
    "print(mass)\n",
    "\n",
    "#print(pylcp.laserBeams.__doc__) # Use this to test"
   ]
  },
  {
   "cell_type": "markdown",
   "metadata": {},
   "source": [
    "### First, we define the simple problem:"
   ]
  },
  {
   "cell_type": "code",
   "execution_count": 4,
   "metadata": {},
   "outputs": [],
   "source": [
    "# Set up the laser beams with their appropriate characteristics\n",
    "\n",
    "det = -1.5\n",
    "alpha = 1.0\n",
    "beta = 1.0\n",
    "\n",
    "laserBeams = pylcp.laserBeams([\n",
    "    {'kvec':(np.array([0., 0.,  17.678])/(np.linalg.norm(np.array([0., 0.,  17.678])))), 'pol':+1, 'beta':beta, 'delta':det},\n",
    "    {'kvec':(np.array([0., 0.,  -17.678])/(np.linalg.norm(np.array([0., 0.,  -17.678])))), 'pol':+1, 'beta':beta, 'delta':det},\n",
    "    {'kvec':(np.array([10.825, -13.258, 4.419])/(np.linalg.norm(np.array([10.825, -13.258, 4.419])))), 'pol':-1, 'beta':beta, 'delta':det},\n",
    "    {'kvec':(np.array([10.825, 13.258, -4.419])/(np.linalg.norm(np.array([10.825, 13.258, -4.419])))), 'pol':-1, 'beta':beta, 'delta':det},\n",
    "    {'kvec':(np.array([-10.825, -13.258, 4.419])/(np.linalg.norm(np.array([-10.825, -13.258, 4.419])))), 'pol':-1, 'beta':beta, 'delta':det},\n",
    "    {'kvec':(np.array([-10.825, 13.258, -4.419])/(np.linalg.norm(np.array([-10.825, 13.258, -4.419])))), 'pol':-1, 'beta':beta, 'delta':det}],\n",
    "    beam_type=pylcp.gaussianBeam)\n",
    "#laserBeams = conventional3DMOTBeams(beta=beta, delta=det, beam_type=pylcp.gaussianBeam, wb=1)\n",
    "\n",
    "magField = pylcp.quadrupoleMagneticField(alpha)\n",
    "\n",
    "heuristic = pylcp.heuristiceq(laserBeams, magField, gamma=1, mass=mass)"
   ]
  },
  {
   "cell_type": "markdown",
   "metadata": {},
   "source": [
    "### Now compute the background force profile:"
   ]
  },
  {
   "cell_type": "code",
   "execution_count": 5,
   "metadata": {},
   "outputs": [],
   "source": [
    "# Create the forces\n",
    "\n",
    "dz = 0.1\n",
    "dv = 0.1\n",
    "z = np.arange(-20, 20+dz, dz)\n",
    "v = np.arange(-20, 20+dv, dv)\n",
    "\n",
    "Z, V = np.meshgrid(z, v)\n",
    "\n",
    "# Rfull = np.array([np.zeros(Z.shape), np.zeros(Z.shape), Z]) Changed when X = Y = 0\n",
    "# Vfull = np.array([np.zeros(Z.shape), np.zeros(Z.shape), V])\n",
    "\n",
    "Rfull = np.array([Z, Z, Z])\n",
    "Vfull = np.array([V, V, V])\n",
    "\n",
    "heuristic.generate_force_profile(Rfull, Vfull, name='Fz')"
   ]
  },
  {
   "cell_type": "markdown",
   "metadata": {},
   "source": [
    "Plot 'er up:"
   ]
  },
  {
   "cell_type": "code",
   "execution_count": 6,
   "metadata": {},
   "outputs": [
    {
     "data": {
      "image/png": "[encoded data removed]",
      "text/plain": [
       "<Figure size 288x198 with 2 Axes>"
      ]
     },
     "metadata": {
      "needs_background": "light"
     },
     "output_type": "display_data"
    }
   ],
   "source": [
    "fig, ax = plt.subplots(1, 1, figsize=(4, 2.75))\n",
    "plt.imshow(heuristic.profile['Fz'].F[2], origin='bottom',\n",
    "           extent=(np.amin(z)-dz/2, np.amax(z)-dz/2,\n",
    "                   np.amin(v)-dv/2, np.amax(v)-dv/2))\n",
    "cb1 = plt.colorbar()\n",
    "cb1.set_label('$F/(\\hbar k \\Gamma)$')\n",
    "ax.set_xlabel('$x/(\\hbar \\Gamma/\\mu_B B\\')$')\n",
    "ax.set_ylabel('$v/(\\Gamma/k)$')\n",
    "fig.subplots_adjust(left=0.12,right=0.9)\n",
    "\n",
    "#fig.savefig()"
   ]
  },
  {
   "cell_type": "code",
   "execution_count": 7,
   "metadata": {},
   "outputs": [
    {
     "data": {
      "text/plain": [
       "array([[0., 0., 0., ..., 0., 0., 0.],\n",
       "       [0., 0., 0., ..., 0., 0., 0.],\n",
       "       [0., 0., 0., ..., 0., 0., 0.],\n",
       "       ...,\n",
       "       [0., 0., 0., ..., 0., 0., 0.],\n",
       "       [0., 0., 0., ..., 0., 0., 0.],\n",
       "       [0., 0., 0., ..., 0., 0., 0.]])"
      ]
     },
     "execution_count": 7,
     "metadata": {},
     "output_type": "execute_result"
    }
   ],
   "source": [
    "heuristic.profile['Fz'].F[2] # Debug"
   ]
  },
  {
   "cell_type": "markdown",
   "metadata": {},
   "source": [
    "### Now, let's add in trajectories in phase space:\n",
    "\n",
    "The first thing to do is define a stop condition, when the velocity of the atom gets to be too small."
   ]
  },
  {
   "cell_type": "code",
   "execution_count": 8,
   "metadata": {},
   "outputs": [],
   "source": [
    "# Define when the program stops and also describes the trajectories. Sets the initial motion/velocity and then evolves the motion\n",
    "\n",
    "v0s = np.arange(1, 10.5, 1)\n",
    "\n",
    "# See solve_ivp documentation for event function discussion:\n",
    "def captured_condition(t, y, threshold=1e-5):\n",
    "    if np.linalg.norm(y[-6:-3])<threshold  and np.linalg.norm(y[-3:])<1e-3:\n",
    "        val = -1.\n",
    "    else:\n",
    "        val = 1.\n",
    "    \n",
    "    return val\n",
    "\n",
    "def lost_condition(t, y, threshold=1e-5):\n",
    "    if np.linalg.norm(y[-3:])>20.:\n",
    "        val = -1.\n",
    "    else:\n",
    "        val = 1.\n",
    "    \n",
    "    return val\n",
    "\n",
    "captured_condition.terminal=True\n",
    "lost_condition.terminal=True\n",
    "\n",
    "sols = []\n",
    "for v0 in v0s:\n",
    "    heuristic.set_initial_position_and_velocity(-19.*((np.array([1., 1., 1.])/(3**0.5))),\n",
    "                                                v0*(np.array([1., 1., 1.])/(3**0.5)))\n",
    "    heuristic.evolve_motion([0., 100.], events=[captured_condition, lost_condition], max_step=0.1)\n",
    "    \n",
    "    sols.append(heuristic.sol)"
   ]
  },
  {
   "cell_type": "markdown",
   "metadata": {},
   "source": [
    "Now, plot it up:"
   ]
  },
  {
   "cell_type": "code",
   "execution_count": 9,
   "metadata": {},
   "outputs": [
    {
     "data": {
      "text/plain": [
       "(-20, 20)"
      ]
     },
     "execution_count": 9,
     "metadata": {},
     "output_type": "execute_result"
    },
    {
     "data": {
      "image/png": "[encoded data removed]",
      "text/plain": [
       "<Figure size 288x198 with 2 Axes>"
      ]
     },
     "metadata": {
      "needs_background": "light"
     },
     "output_type": "display_data"
    }
   ],
   "source": [
    "# Phase diagrams are only useful right now in certain axises\n",
    "fig, ax = plt.subplots(1, 1, figsize=(4, 2.75))\n",
    "plt.imshow(heuristic.profile['Fz'].F[2], origin='bottom',\n",
    "           extent=(np.amin(z)-dz/2, np.amax(z)-dz/2,\n",
    "                   np.amin(v)-dv/2, np.amax(v)-dv/2))\n",
    "cb1 = plt.colorbar()\n",
    "cb1.set_label('$F/(\\hbar k \\Gamma)$')\n",
    "ax.set_xlabel('$x/(\\hbar \\Gamma/\\mu_B B\\')$')\n",
    "ax.set_ylabel('$v/(\\Gamma/k)$')\n",
    "fig.subplots_adjust(left=0.12,right=0.9)\n",
    "\n",
    "for sol in sols:\n",
    "    ax.plot(sol.r[2], sol.v[2], 'w-', linewidth=0.375)\n",
    "\n",
    "# Display the figure at the end of the thing.\n",
    "ax.set_xlim((-20, 20))\n",
    "ax.set_xlim((-20, 20))"
   ]
  },
  {
   "cell_type": "markdown",
   "metadata": {},
   "source": [
    "By having two conditions, we can tell if the atom was lost or captured:"
   ]
  },
  {
   "cell_type": "code",
   "execution_count": 10,
   "metadata": {},
   "outputs": [
    {
     "name": "stdout",
     "output_type": "stream",
     "text": [
      "captured\n",
      "captured\n",
      "captured\n",
      "lost\n",
      "lost\n",
      "lost\n",
      "lost\n",
      "lost\n",
      "lost\n",
      "lost\n"
     ]
    }
   ],
   "source": [
    "for sol in sols:\n",
    "    if len(sol.t_events[0]) == 1:\n",
    "        print('captured')\n",
    "    elif len(sol.t_events[1]) == 1:\n",
    "        print('lost')"
   ]
  },
  {
   "cell_type": "markdown",
   "metadata": {},
   "source": [
    "### Now, let's get even more fancy:\n",
    "\n",
    "Let's define a function that figures out if we were captured or not, then use that to find the capture velocity:"
   ]
  },
  {
   "cell_type": "code",
   "execution_count": 11,
   "metadata": {},
   "outputs": [
    {
     "data": {
      "text/plain": [
       "True"
      ]
     },
     "execution_count": 11,
     "metadata": {},
     "output_type": "execute_result"
    }
   ],
   "source": [
    "def iscaptured(v0, z0, eqn, captured_condition, lost_condition, tmax=1000, **kwargs):\n",
    "    eqn.set_initial_position_and_velocity(-19.*((np.array([1., 1., 1.])/(3**0.5))),\n",
    "                                                v0*(np.array([1., 1., 1.])/(3**0.5)))\n",
    "    eqn.evolve_motion([0., tmax], events=[captured_condition, lost_condition],\n",
    "                      **kwargs)\n",
    "    \n",
    "    return len(eqn.sol.t_events[0]) == 1\n",
    "\n",
    "iscaptured(1, -19., heuristic, captured_condition, lost_condition, tmax=1000, max_step=0.1)"
   ]
  },
  {
   "cell_type": "markdown",
   "metadata": {},
   "source": [
    "See if we can find out where it changes:"
   ]
  },
  {
   "cell_type": "code",
   "execution_count": 12,
   "metadata": {},
   "outputs": [
    {
     "data": {
      "text/plain": [
       "(3.0703125, 10)"
      ]
     },
     "execution_count": 12,
     "metadata": {},
     "output_type": "execute_result"
    }
   ],
   "source": [
    "bisectFindChangeValue(iscaptured, 1.,\n",
    "                      args=(-19., heuristic, captured_condition, lost_condition),\n",
    "                      kwargs={'tmax':1000, 'max_step':0.1},\n",
    "                      tol=1e-2\n",
    "                     )"
   ]
  },
  {
   "cell_type": "markdown",
   "metadata": {},
   "source": [
    "### Let's run the detuning and intensity:\n",
    "\n",
    "We will figure out how the capture velocity depends on and compare to this equation from the paper in the introduction:\n",
    "\n",
    "$$\n",
    "v_c = \\left(\\frac{a_0^2\\beta^2\\kappa}{(1+\\beta)^{3/2}}\\right)^{1/3}\\left(\\frac{8\\pi\\delta^2}{1+\\beta+4\\delta^2}\\right)^{1/3}\\zeta^{-2/3}\n",
    "$$\n",
    "\n",
    "where $a_0 = \\hbar k \\Gamma/(2 m)$, $\\zeta = \\mu_B B'/(\\hbar\\Gamma)$, and $\\kappa = 2\\pi/(\\lambda \\Gamma)=k/\\Gamma$ .  To compare, we need to express it in a way which connects with our formulae above.  The first thing to note is that $\\zeta = 1/x_0$.  We also need to multiple both sides by $k/\\Gamma$, so that we have $v_c/(\\Gamma/k)$ on the left side, which is our observable.  Then, we realize that\n",
    "\n",
    "$$\n",
    "\\frac{\\hbar k\\Gamma}{2m} = \\frac{1}{2\\bar{m}}\\frac{x_0}{t_0^2}~~~~~\\text{and}~~~~~\\frac{k}{\\Gamma} = \\frac{t_0}{x_0} \n",
    "$$\n",
    "\n",
    "Putting it all together:\n",
    "\n",
    "$$\n",
    "\\frac{v_c}{\\Gamma/k} = \\frac{t_0}{x_0}\\left(\\frac{1}{2\\bar{m}}\\right)^{2/3} \\frac{x_0^{2/3}}{t_0^{4/3}}\\frac{t_0^{1/3}}{x_0^{1/3}} x_0^{2/3}\\left(\\frac{\\beta^2}{(1+\\beta)^{3/2}}\\right)^{1/3}\\left(\\frac{8\\pi\\delta^2}{1+\\beta+4\\delta^2}\\right)^{1/3} = \\left(\\frac{1}{2\\bar{m}}\\right)^{2/3}\\left(\\frac{\\beta^2}{(1+\\beta)^{3/2}}\\right)^{1/3}\\left(\\frac{8\\pi\\delta^2}{1+\\beta+4\\delta^2}\\right)^{1/3}\n",
    "$$"
   ]
  },
  {
   "cell_type": "code",
   "execution_count": 15,
   "metadata": {},
   "outputs": [
    {
     "name": "stdout",
     "output_type": "stream",
     "text": [
      "Completed in 36.45 s.                                               \n"
     ]
    }
   ],
   "source": [
    "dets = -np.logspace(0., np.log10(2), 2)[::-1]\n",
    "betas = np.array([1.])\n",
    "\n",
    "DETS, BETAS = np.meshgrid(dets, betas)\n",
    "\n",
    "it = np.nditer([DETS, BETAS, None, None])\n",
    "\n",
    "progress = progressBar()\n",
    "for (det, beta, vc, iterations) in it:\n",
    "    laserBeams = pylcp.laserBeams([\n",
    "        {'kvec':(np.array([0., 0.,  17.678])/(np.linalg.norm(np.array([0., 0.,  17.678])))), 'pol':+1, 'beta':beta, 'delta':det},\n",
    "        {'kvec':(np.array([0., 0.,  -17.678])/(np.linalg.norm(np.array([0., 0.,  -17.678])))), 'pol':+1, 'beta':beta, 'delta':det},\n",
    "        {'kvec':(np.array([10.825, -13.258, 4.419])/(np.linalg.norm(np.array([10.825, -13.258, 4.419])))), 'pol':-1, 'beta':beta, 'delta':det},\n",
    "        {'kvec':(np.array([10.825, 13.258, -4.419])/(np.linalg.norm(np.array([10.825, 13.258, -4.419])))), 'pol':-1, 'beta':beta, 'delta':det},\n",
    "        {'kvec':(np.array([-10.825, -13.258, 4.419])/(np.linalg.norm(np.array([-10.825, -13.258, 4.419])))), 'pol':-1, 'beta':beta, 'delta':det},\n",
    "        {'kvec':(np.array([-10.825, 13.258, -4.419])/(np.linalg.norm(np.array([-10.825, 13.258, -4.419])))), 'pol':-1, 'beta':beta, 'delta':det}],\n",
    "        beam_type=pylcp.gaussianBeam)\n",
    "#    laserBeams = conventional3DMOTBeams(beta=beta, delta=det, beam_type=pylcp.gaussianBeam, wb=1)\n",
    "\n",
    "    heuristic = pylcp.heuristiceq(laserBeams, magField, gamma=1, mass=mass)\n",
    "    \n",
    "    vc[...], iterations[...] = bisectFindChangeValue(\n",
    "        iscaptured, 1.,\n",
    "        args=(-19, heuristic, captured_condition, lost_condition),\n",
    "        kwargs={'tmax':1000, 'max_step':0.1},\n",
    "        tol=1e-2\n",
    "    )\n",
    "\n",
    "    progress.update((it.iterindex+1)/it.itersize)"
   ]
  },
  {
   "cell_type": "code",
   "execution_count": 16,
   "metadata": {},
   "outputs": [],
   "source": [
    "def vc_from_paper(delta, beta, mbar):\n",
    "    return 1/(2*mbar)**(2./3.)*(beta**2/(1+beta)**(3./2.))**(1./3.)*(8*np.pi*delta**2/(1+beta+4*delta**2))**(1./3.)"
   ]
  },
  {
   "cell_type": "code",
   "execution_count": 17,
   "metadata": {},
   "outputs": [
    {
     "data": {
      "text/plain": [
       "Text(0, 0.5, '$v_c/(\\\\Gamma/k)$')"
      ]
     },
     "execution_count": 17,
     "metadata": {},
     "output_type": "execute_result"
    },
    {
     "data": {
      "image/png": "[encoded data removed]",
      "text/plain": [
       "<Figure size 432x288 with 1 Axes>"
      ]
     },
     "metadata": {
      "needs_background": "light"
     },
     "output_type": "display_data"
    }
   ],
   "source": [
    "fig, ax = plt.subplots(1, 1)\n",
    "for (beta, vc_vs_det) in zip(betas, it.operands[2]):\n",
    "    ax.plot(dets, vc_vs_det, label='$\\\\beta=%.1f$' % beta)\n",
    "ax.legend(fontsize=8)\n",
    "ax.set_xlabel('$\\Delta/\\Gamma$')\n",
    "ax.set_ylabel('$v_c/(\\Gamma/k)$')"
   ]
  },
  {
   "cell_type": "code",
   "execution_count": null,
   "metadata": {},
   "outputs": [],
   "source": []
  }
 ],
 "metadata": {
  "kernelspec": {
   "display_name": "Python 3",
   "language": "python",
   "name": "python3"
  },
  "language_info": {
   "codemirror_mode": {
    "name": "ipython",
    "version": 3
   },
   "file_extension": ".py",
   "mimetype": "text/x-python",
   "name": "python",
   "nbconvert_exporter": "python",
   "pygments_lexer": "ipython3",
   "version": "3.7.6"
  }
 },
 "nbformat": 4,
 "nbformat_minor": 4
}
