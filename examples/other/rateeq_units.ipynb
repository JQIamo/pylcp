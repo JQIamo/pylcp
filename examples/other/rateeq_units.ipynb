{
 "cells": [
  {
   "cell_type": "code",
   "execution_count": 1,
   "metadata": {},
   "outputs": [],
   "source": [
    "import numpy as np\n",
    "import matplotlib.pyplot as plt\n",
    "import scipy.constants as cts\n",
    "import pylcp\n",
    "import pylcp.atom as atom\n",
    "from pylcp.common import bisectFindChangeValue, progressBar\n",
    "import cProfile, pstats, io\n",
    "from pstats import SortKey\n",
    "savefigs = True"
   ]
  },
  {
   "cell_type": "markdown",
   "metadata": {},
   "source": [
    "### Let's now set up the units:\n",
    "\n",
    "Whatever units we use, let's run numbers that are realistic for a common atom, Rb.:"
   ]
  },
  {
   "cell_type": "code",
   "execution_count": 2,
   "metadata": {},
   "outputs": [
    {
     "name": "stdout",
     "output_type": "stream",
     "text": [
      "80528.75481555492 2.62348e-08 6066558.277246076 1.4598096126471075e-25\n"
     ]
    }
   ],
   "source": [
    "rb87 = atom('87Rb')\n",
    "\n",
    "klab = 2*np.pi*rb87.transition[1].k # Lab wavevector (without 2pi) in cm^{-1}\n",
    "taulab = rb87.state[2].tau  # Lifetime of 6P_{3/2} state (in seconds)\n",
    "gammalab = 1/taulab \n",
    "Bplab = 15 # About 15 G/cm is a typical gradient for Rb\n",
    "masslab = rb87.mass\n",
    "\n",
    "print(klab, taulab, gammalab/2/np.pi, masslab)"
   ]
  },
  {
   "cell_type": "markdown",
   "metadata": {},
   "source": [
    "Set up all three unit sytems in a reasonable function:"
   ]
  },
  {
   "cell_type": "code",
   "execution_count": 3,
   "metadata": {},
   "outputs": [
    {
     "name": "stdout",
     "output_type": "stream",
     "text": [
      "(813.6550657404823, 1.0, 1.0, 4.297436175809039e-05, 1.2417924532552691e-05, 2.62348e-08)\n",
      "(18933499.706654813, 23269.688230139665, 23269.688230139665, 23269.688230139665, 0.28896123233790394, 0.0006104756167800681)\n",
      "(0.034966307141434304, 1, 1, 1, 0.28896123233790394, 0.0006104756167800681)\n"
     ]
    }
   ],
   "source": [
    "def return_units(unit_system):\n",
    "    if unit_system == 'default':\n",
    "        # Now, here are our `natural' length and time scales:\n",
    "        x0 = 1/klab  # cm\n",
    "        t0 = taulab  # s\n",
    "\n",
    "        # And now our wavevector, decay rate, and magnetic field gradient in these units:\n",
    "        k = klab*x0\n",
    "        gamma = gammalab*t0\n",
    "        alpha = cts.value('Bohr magneton')*1e-4*Bplab*x0*t0/cts.hbar\n",
    "        mass = masslab*(x0*1e-2)**2/cts.hbar/t0\n",
    "        \n",
    "    elif unit_system == 'magnetic_gradient':\n",
    "        # Now, here are our `natural' length and time scales:\n",
    "        x0 = cts.hbar*gammalab/(cts.value('Bohr magneton')*1e-4*Bplab) # cm\n",
    "        t0 = klab*x0*taulab # s\n",
    "\n",
    "        # And now our wavevector, decay rate, and magnetic field gradient in these units:\n",
    "        k = klab*x0\n",
    "        gamma = gammalab*t0\n",
    "        alpha = 1.0*gamma     # The magnetic field gradient parameter\n",
    "        mass = masslab*(x0*1e-2)**2/cts.hbar/t0\n",
    "        \n",
    "    elif unit_system == 'hybrid':\n",
    "        x0 = cts.hbar*gammalab/(cts.value('Bohr magneton')*1e-4*Bplab) # cm\n",
    "        t0 = klab*x0/gammalab\n",
    "\n",
    "        k=1\n",
    "        gamma=1\n",
    "        alpha=1\n",
    "\n",
    "        mass = masslab/(cts.hbar*(klab*1e2)**2*t0)\n",
    "    else:\n",
    "        raise ValueError('Unit system %s not recognized', unit_system)\n",
    "        \n",
    "    return mass, k, gamma, alpha, x0, t0\n",
    "\n",
    "unit_systems = ['default', 'magnetic_gradient', 'hybrid']\n",
    "for unit_system in unit_systems:\n",
    "    print(return_units(unit_system))"
   ]
  },
  {
   "cell_type": "markdown",
   "metadata": {},
   "source": [
    "### Now test all three units\n",
    "\n",
    "To see if there (a) is a difference in performance and (b) is a difference of solution"
   ]
  },
  {
   "cell_type": "code",
   "execution_count": 7,
   "metadata": {},
   "outputs": [
    {
     "name": "stdout",
     "output_type": "stream",
     "text": [
      "Force profile for hybrid units:\n",
      "Completed in 13.93 s.                                               \n",
      "Trajectories for hybrid units:\n",
      "Completed in 5.70 s.                                                \n",
      "         3146856 function calls (3105913 primitive calls) in 5.707 seconds\n",
      "\n",
      "   Ordered by: internal time\n",
      "   List reduced from 183 to 20 due to restriction <20>\n",
      "\n",
      "   ncalls  tottime  percall  cumtime  percall filename:lineno(function)\n",
      "     4466    0.836    0.000    3.394    0.001 rateeq.py:212(__calc_pumping_rates)\n",
      "     4466    0.646    0.000    0.748    0.000 rateeq.py:352(force)\n",
      "   156312    0.566    0.000    0.566    0.000 {method 'reduce' of 'numpy.ufunc' objects}\n",
      "373801/332858    0.529    0.000    2.325    0.000 {built-in method numpy.core._multiarray_umath.implement_array_function}\n",
      "    26796    0.325    0.000    0.813    0.000 numeric.py:913(tensordot)\n",
      "     4466    0.274    0.000    1.265    0.000 fields.py:945(project_pol)\n",
      "    26796    0.233    0.000    0.730    0.000 fields.py:833(beta)\n",
      "    98254    0.146    0.000    0.509    0.000 fromnumeric.py:73(_wrapreduction)\n",
      "   119195    0.141    0.000    0.141    0.000 {built-in method numpy.array}\n",
      "     4466    0.132    0.000    5.455    0.001 rateeq.py:457(motion)\n",
      "     4466    0.128    0.000    0.252    0.000 hamiltonian.py:329(diag_static_field)\n",
      "     4466    0.128    0.000    0.515    0.000 rateeq.py:263(__add_pumping_rates_to_Rev)\n",
      "    84854    0.118    0.000    0.563    0.000 fromnumeric.py:2092(sum)\n",
      "    26796    0.111    0.000    0.111    0.000 {built-in method numpy.core._multiarray_umath.c_einsum}\n",
      "   175708    0.099    0.000    0.452    0.000 <__array_function__ internals>:2(dot)\n",
      "     4466    0.095    0.000    4.453    0.001 rateeq.py:278(construct_evolution_matrix)\n",
      "      744    0.066    0.000    5.585    0.008 rk.py:15(rk_step)\n",
      "    84854    0.062    0.000    0.688    0.000 <__array_function__ internals>:2(sum)\n",
      "     5213    0.058    0.000    0.102    0.000 linalg.py:2316(norm)\n",
      "    98254    0.052    0.000    0.052    0.000 fromnumeric.py:74(<dictcomp>)\n",
      "\n",
      "\n",
      "\n",
      "Force profile for default units:\n",
      "Completed in 11.02 s.                                               \n",
      "Trajectories for default units:\n",
      "Completed in 10:26.                                                \n",
      "         356713531 function calls (352067328 primitive calls) in 626.403 seconds\n",
      "\n",
      "   Ordered by: internal time\n",
      "   List reduced from 183 to 20 due to restriction <20>\n",
      "\n",
      "   ncalls  tottime  percall  cumtime  percall filename:lineno(function)\n",
      "   506858   89.732    0.000  373.404    0.001 rateeq.py:212(__calc_pumping_rates)\n",
      "   506858   73.707    0.000   85.377    0.000 rateeq.py:352(force)\n",
      " 17740032   63.775    0.000   63.775    0.000 {method 'reduce' of 'numpy.ufunc' objects}\n",
      "42395203/37749000   57.794    0.000  258.300    0.000 {built-in method numpy.core._multiarray_umath.implement_array_function}\n",
      "  3041148   36.561    0.000   91.337    0.000 numeric.py:913(tensordot)\n",
      "   506858   29.942    0.000  141.019    0.000 fields.py:945(project_pol)\n",
      "  3041148   25.580    0.000   79.848    0.000 fields.py:833(beta)\n",
      " 11150878   16.694    0.000   57.629    0.000 fromnumeric.py:73(_wrapreduction)\n",
      " 13480178   15.864    0.000   15.864    0.000 {built-in method numpy.array}\n",
      "   506858   14.210    0.000   57.746    0.000 rateeq.py:263(__add_pumping_rates_to_Rev)\n",
      "   506858   13.765    0.000  601.055    0.001 rateeq.py:457(motion)\n",
      "  9630302   12.853    0.000   62.793    0.000 fromnumeric.py:2092(sum)\n",
      "   506858   12.512    0.000   26.300    0.000 hamiltonian.py:329(diag_static_field)\n",
      "  3041148   12.403    0.000   12.403    0.000 {built-in method numpy.core._multiarray_umath.c_einsum}\n",
      " 19936453   11.239    0.000   49.850    0.000 <__array_function__ internals>:2(dot)\n",
      "   506858   11.026    0.000  488.767    0.001 rateeq.py:278(construct_evolution_matrix)\n",
      "  9630302    7.096    0.000   76.866    0.000 <__array_function__ internals>:2(sum)\n",
      "    84476    7.073    0.000  615.350    0.007 rk.py:15(rk_step)\n",
      "   591337    6.260    0.000   11.254    0.000 linalg.py:2316(norm)\n",
      " 11150878    6.081    0.000    6.081    0.000 fromnumeric.py:74(<dictcomp>)\n",
      "\n",
      "\n",
      "\n"
     ]
    },
    {
     "data": {
      "image/png": "[encoded data removed]",
      "text/plain": [
       "<Figure size 1462.5x412.5 with 3 Axes>"
      ]
     },
     "metadata": {
      "needs_background": "light"
     },
     "output_type": "display_data"
    }
   ],
   "source": [
    "units_to_test = ['hybrid', 'default', 'magnetic_gradient']\n",
    "atols = [\n",
    "    np.array([1e-6, 1e-6, 1e-6, 1e-6, 1e-3, 1e-3, 1e-3, 1e-3, 1e-3, 1e-3]),\n",
    "    np.array([1e-3, 1e-3, 1e-3, 1e-3, 1e-6, 1e-6, 1e-6, 1e-6, 1e-6, 1e-6])\n",
    "]\n",
    "rtols = [1e-6, 1e-3, 1e-3]\n",
    "max_step_for_units = [0.01, np.inf, np.inf]\n",
    "\n",
    "fig, ax = plt.subplots(1, len(units_to_test),\n",
    "                       figsize = (len(units_to_test)*3.25, 2.75))\n",
    "\n",
    "if not isinstance(ax, np.ndarray):\n",
    "    ax = [ax]\n",
    "\n",
    "for ii, (unit_system, max_step, atol, rtol) in enumerate(zip(units_to_test, max_step_for_units, atols, rtols)):\n",
    "    mass, k, gamma, alpha, x0, t0 = return_units(unit_system)\n",
    "    \n",
    "    # Define the atomic Hamiltonian:\n",
    "    Hg, mugq = pylcp.hamiltonians.singleF(F=0, muB=1)\n",
    "    He, mueq = pylcp.hamiltonians.singleF(F=1, muB=1)\n",
    "\n",
    "    dijq = pylcp.hamiltonians.dqij_two_bare_hyperfine(0, 1)\n",
    "\n",
    "    hamiltonian = pylcp.hamiltonian(Hg, He, mugq, mueq, dijq, mass=mass, gamma=gamma, k=k)\n",
    "\n",
    "    det = -2.*gamma\n",
    "    beta = 1.5\n",
    "\n",
    "    # Define the laser beams:\n",
    "    laserBeams = pylcp.conventional3DMOTBeams(\n",
    "        beta=beta, delta=det, wb=10./x0, k=k,\n",
    "        beam_type=pylcp.gaussianBeam\n",
    "    )\n",
    "    \n",
    "    magField = pylcp.quadrupoleMagneticField(alpha)\n",
    "    \n",
    "    rateeq = pylcp.rateeq(laserBeams, magField, hamiltonian,\n",
    "                          include_mag_forces=False)\n",
    "    \n",
    "    z = np.arange(-5, 5.0, 0.1)/x0\n",
    "    vz = np.arange(-10, 10, 0.2)\n",
    "    \n",
    "    dz = np.mean(np.diff(z))\n",
    "    dvz = np.mean(np.diff(vz))\n",
    "    \n",
    "    [Z, VZ] = np.meshgrid(z, vz)\n",
    "    \n",
    "    print('Force profile for %s units:' % unit_system)\n",
    "    rateeq.generate_force_profile(\n",
    "        np.array([np.zeros(Z.shape), np.zeros(Z.shape), Z]),\n",
    "        np.array([np.zeros(Z.shape), np.zeros(Z.shape), VZ]),\n",
    "        name='Fz_vs_z_and_vz',\n",
    "        progress_bar = True)\n",
    "    \n",
    "    ax[ii].imshow(\n",
    "        rateeq.profile['Fz_vs_z_and_vz'].F[2],\n",
    "        origin='bottom',\n",
    "        extent=((np.amin(z)-dz/2)*x0, (np.amax(z)-dz/2)*x0,\n",
    "                np.amin(vz)-dvz/2, np.amax(vz)-dvz/2),\n",
    "        aspect='auto'\n",
    "    )\n",
    "    \n",
    "    def captured_condition(t, y):\n",
    "        if(y[-4]<1e-5 and y[-1]<1e-3/x0):\n",
    "            val = -1.\n",
    "        else:\n",
    "            val = 1.\n",
    "\n",
    "        return val\n",
    "\n",
    "    def lost_condition(t, y):\n",
    "        if y[-1]>5./x0:\n",
    "            val = -1.\n",
    "        else:\n",
    "            val = 1.\n",
    "\n",
    "        return val\n",
    "\n",
    "    captured_condition.terminal=True\n",
    "    lost_condition.terminal=True\n",
    "\n",
    "    print('Trajectories for %s units:' % unit_system)\n",
    "    pr = cProfile.Profile()\n",
    "    for jj, v_i in enumerate([5.]):\n",
    "        rateeq.set_initial_position(np.array([0., 0., -5/x0]))\n",
    "        rateeq.set_initial_velocity(np.array([0., 0., v_i]))\n",
    "        rateeq.set_initial_pop(np.array([1., 0., 0., 0.]))\n",
    "        pr.enable()\n",
    "        rateeq.evolve_motion([0, 1e-2/t0],\n",
    "                             events=[captured_condition, lost_condition],\n",
    "                             max_step=max_step,\n",
    "                             atol=atol,\n",
    "                             rtol=rtol,\n",
    "                             progress_bar=True)\n",
    "        pr.disable()\n",
    "        ax[ii].plot(rateeq.sol.r[2]*x0, rateeq.sol.v[2], 'w-', linewidth=0.75)\n",
    "    \n",
    "    s = io.StringIO()\n",
    "    sortby = SortKey.TIME\n",
    "    ps = pstats.Stats(pr, stream=s).strip_dirs().sort_stats(sortby)\n",
    "    ps.sort_stats(sortby).print_stats(20)\n",
    "    print(s.getvalue())\n",
    "    \n",
    "    ax[ii].set_xlabel('$z$ (cm)')\n",
    "    if ii==0:\n",
    "        ax[ii].set_ylabel('$v_z/(\\Gamma/k)$')"
   ]
  },
  {
   "cell_type": "code",
   "execution_count": 5,
   "metadata": {},
   "outputs": [
    {
     "data": {
      "text/plain": [
       "array([0.00100092, 0.00100001, 0.00100006, 0.001     , 0.001     ,\n",
       "       0.001     , 0.0010051 , 0.001     , 0.001     , 0.00101097])"
      ]
     },
     "execution_count": 5,
     "metadata": {},
     "output_type": "execute_result"
    }
   ],
   "source": [
    "np.maximum(np.abs(np.concatenate((rateeq.sol.N[:, 10001], rateeq.sol.v[:, 10001], rateeq.sol.r[:, 10001]))),\n",
    "           np.abs(np.concatenate((rateeq.sol.N[:, 10000], rateeq.sol.v[:, 10000], rateeq.sol.r[:, 10000]))))"
   ]
  },
  {
   "cell_type": "code",
   "execution_count": null,
   "metadata": {},
   "outputs": [],
   "source": [
    "if isinstance(pol, int) or isinstance(pol, float):\n",
    "    if pol>0:\n",
    "        pol = np.array([1., -1j, 0.])/np.sqrt(2)\n",
    "    else:\n",
    "        pol = np.array([1., +1j, 0.])/np.sqrt(2)\n",
    "        \n",
    "        "
   ]
  },
  {
   "cell_type": "code",
   "execution_count": null,
   "metadata": {},
   "outputs": [],
   "source": []
  }
 ],
 "metadata": {
  "kernelspec": {
   "display_name": "Python 3",
   "language": "python",
   "name": "python3"
  },
  "language_info": {
   "codemirror_mode": {
    "name": "ipython",
    "version": 3
   },
   "file_extension": ".py",
   "mimetype": "text/x-python",
   "name": "python",
   "nbconvert_exporter": "python",
   "pygments_lexer": "ipython3",
   "version": "3.7.6"
  }
 },
 "nbformat": 4,
 "nbformat_minor": 4
}
