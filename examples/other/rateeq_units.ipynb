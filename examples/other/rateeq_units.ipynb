{
 "cells": [
  {
   "cell_type": "code",
   "execution_count": 1,
   "metadata": {},
   "outputs": [],
   "source": [
    "import numpy as np\n",
    "import matplotlib.pyplot as plt\n",
    "import scipy.constants as cts\n",
    "import pylcp\n",
    "import pylcp.atom as atom\n",
    "from pylcp.common import bisectFindChangeValue, progressBar\n",
    "import cProfile, pstats, io\n",
    "from pstats import SortKey\n",
    "savefigs = True"
   ]
  },
  {
   "cell_type": "markdown",
   "metadata": {},
   "source": [
    "### Let's now set up the units:\n",
    "\n",
    "Whatever units we use, let's run numbers that are realistic for a common atom, Rb.:"
   ]
  },
  {
   "cell_type": "code",
   "execution_count": 2,
   "metadata": {},
   "outputs": [
    {
     "name": "stdout",
     "output_type": "stream",
     "text": [
      "80528.75481555492 2.62348e-08 6066558.277246076 1.4598096126471075e-25\n"
     ]
    }
   ],
   "source": [
    "rb87 = atom('87Rb')\n",
    "\n",
    "klab = 2*np.pi*rb87.transition[1].k # Lab wavevector (without 2pi) in cm^{-1}\n",
    "taulab = rb87.state[2].tau  # Lifetime of 6P_{3/2} state (in seconds)\n",
    "gammalab = 1/taulab \n",
    "Bplab = 15 # About 15 G/cm is a typical gradient for Rb\n",
    "masslab = rb87.mass\n",
    "\n",
    "print(klab, taulab, gammalab/2/np.pi, masslab)"
   ]
  },
  {
   "cell_type": "markdown",
   "metadata": {},
   "source": [
    "Set up all three unit sytems in a reasonable function:"
   ]
  },
  {
   "cell_type": "code",
   "execution_count": 3,
   "metadata": {},
   "outputs": [
    {
     "name": "stdout",
     "output_type": "stream",
     "text": [
      "(813.6550657404823, 1.0, 1.0, 4.297436175809039e-05, 1.2417924532552691e-05, 2.62348e-08)\n",
      "(18933499.706654813, 23269.688230139665, 23269.688230139665, 23269.688230139665, 0.28896123233790394, 0.0006104756167800681)\n",
      "(0.034966307141434304, 1, 1, 1, 0.28896123233790394, 0.0006104756167800681)\n"
     ]
    }
   ],
   "source": [
    "def return_units(unit_system):\n",
    "    if unit_system == 'default':\n",
    "        # Now, here are our `natural' length and time scales:\n",
    "        x0 = 1/klab  # cm\n",
    "        t0 = taulab  # s\n",
    "\n",
    "        # And now our wavevector, decay rate, and magnetic field gradient in these units:\n",
    "        k = klab*x0\n",
    "        gamma = gammalab*t0\n",
    "        alpha = cts.value('Bohr magneton')*1e-4*Bplab*x0*t0/cts.hbar\n",
    "        mass = masslab*(x0*1e-2)**2/cts.hbar/t0\n",
    "        \n",
    "    elif unit_system == 'magnetic_gradient':\n",
    "        # Now, here are our `natural' length and time scales:\n",
    "        x0 = cts.hbar*gammalab/(cts.value('Bohr magneton')*1e-4*Bplab) # cm\n",
    "        t0 = klab*x0*taulab # s\n",
    "\n",
    "        # And now our wavevector, decay rate, and magnetic field gradient in these units:\n",
    "        k = klab*x0\n",
    "        gamma = gammalab*t0\n",
    "        alpha = 1.0*gamma     # The magnetic field gradient parameter\n",
    "        mass = masslab*(x0*1e-2)**2/cts.hbar/t0\n",
    "        \n",
    "    elif unit_system == 'hybrid':\n",
    "        x0 = cts.hbar*gammalab/(cts.value('Bohr magneton')*1e-4*Bplab) # cm\n",
    "        t0 = klab*x0/gammalab\n",
    "\n",
    "        k=1\n",
    "        gamma=1\n",
    "        alpha=1\n",
    "\n",
    "        mass = masslab/(cts.hbar*(klab*1e2)**2*t0)\n",
    "    else:\n",
    "        raise ValueError('Unit system %s not recognized', unit_system)\n",
    "        \n",
    "    return mass, k, gamma, alpha, x0, t0\n",
    "\n",
    "unit_systems = ['default', 'magnetic_gradient', 'hybrid']\n",
    "for unit_system in unit_systems:\n",
    "    print(return_units(unit_system))"
   ]
  },
  {
   "cell_type": "markdown",
   "metadata": {},
   "source": [
    "### Now test all three units\n",
    "\n",
    "To see if there (a) is a difference in performance and (b) is a difference of solution"
   ]
  },
  {
   "cell_type": "code",
   "execution_count": null,
   "metadata": {},
   "outputs": [
    {
     "name": "stdout",
     "output_type": "stream",
     "text": [
      "Force profile for magnetic_gradient units:\n",
      "Completed in 8.27 s.                                               \n",
      "Trajectories for magnetic_gradient units:\n",
      "Progress: |████--------------------------| 14.1%; time left: 44:39\r"
     ]
    }
   ],
   "source": [
    "units_to_test = ['magnetic_gradient', 'magnetic_gradient', 'hybrid']\n",
    "use_equilibrium_forces = [True, False, False]\n",
    "max_step_for_units = [np.inf, np.inf, np.inf]\n",
    "\n",
    "fig, ax = plt.subplots(1, len(units_to_test),\n",
    "                       figsize = (len(units_to_test)*3.25, 2.75))\n",
    "\n",
    "if not isinstance(ax, np.ndarray):\n",
    "    ax = [ax]\n",
    "\n",
    "for ii, (unit_system, max_step, use_equilibrium_force) in enumerate(zip(units_to_test, max_step_for_units, use_equilibrium_forces)):\n",
    "    mass, k, gamma, alpha, x0, t0 = return_units(unit_system)\n",
    "    \n",
    "    # Define the atomic Hamiltonian:\n",
    "    Hg, mugq = pylcp.hamiltonians.singleF(F=0, muB=1)\n",
    "    He, mueq = pylcp.hamiltonians.singleF(F=1, muB=1)\n",
    "\n",
    "    dijq = pylcp.hamiltonians.dqij_two_bare_hyperfine(0, 1)\n",
    "\n",
    "    hamiltonian = pylcp.hamiltonian(Hg, He, mugq, mueq, dijq, mass=mass, gamma=gamma, k=k)\n",
    "\n",
    "    det = -2.*gamma\n",
    "    beta = 1.5\n",
    "\n",
    "    # Define the laser beams:\n",
    "    laserBeams = pylcp.conventional3DMOTBeams(\n",
    "        beta=beta, delta=det, wb=10./x0, k=k,\n",
    "        beam_type=pylcp.gaussianBeam\n",
    "    )\n",
    "    \n",
    "    magField = pylcp.quadrupoleMagneticField(alpha)\n",
    "    \n",
    "    rateeq = pylcp.rateeq(laserBeams, magField, hamiltonian,\n",
    "                          include_mag_forces=False)\n",
    "    \n",
    "    z = np.arange(-5, 5.0, 0.1)/x0\n",
    "    vz = np.arange(-10, 10, 0.2)\n",
    "    \n",
    "    dz = np.mean(np.diff(z))\n",
    "    dvz = np.mean(np.diff(vz))\n",
    "    \n",
    "    [Z, VZ] = np.meshgrid(z, vz)\n",
    "    \n",
    "    print('Force profile for %s units:' % unit_system)\n",
    "    rateeq.generate_force_profile(\n",
    "        np.array([np.zeros(Z.shape), np.zeros(Z.shape), Z]),\n",
    "        np.array([np.zeros(Z.shape), np.zeros(Z.shape), VZ]),\n",
    "        name='Fz_vs_z_and_vz',\n",
    "        progress_bar = True)\n",
    "    \n",
    "    ax[ii].imshow(\n",
    "        rateeq.profile['Fz_vs_z_and_vz'].F[2],\n",
    "        origin='bottom',\n",
    "        extent=((np.amin(z)-dz/2)*x0, (np.amax(z)-dz/2)*x0,\n",
    "                np.amin(vz)-dvz/2, np.amax(vz)-dvz/2),\n",
    "        aspect='auto'\n",
    "    )\n",
    "    \n",
    "    def captured_condition(t, y):\n",
    "        if(y[-4]<1e-5 and y[-1]<1e-3/x0):\n",
    "            val = -1.\n",
    "        else:\n",
    "            val = 1.\n",
    "\n",
    "        return val\n",
    "\n",
    "    def lost_condition(t, y):\n",
    "        if y[-1]>5./x0:\n",
    "            val = -1.\n",
    "        else:\n",
    "            val = 1.\n",
    "\n",
    "        return val\n",
    "\n",
    "    captured_condition.terminal=True\n",
    "    lost_condition.terminal=True\n",
    "\n",
    "    print('Trajectories for %s units:' % unit_system)\n",
    "    pr = cProfile.Profile()\n",
    "    for jj, v_i in enumerate([5.]):\n",
    "        rateeq.set_initial_position(np.array([0., 0., -5/x0]))\n",
    "        rateeq.set_initial_velocity(np.array([0., 0., v_i]))\n",
    "        rateeq.set_initial_pop(np.array([1., 0., 0., 0.]))\n",
    "        pr.enable()\n",
    "        rateeq.evolve_motion(\n",
    "            [0, 1e-2/t0],\n",
    "             events=[captured_condition, lost_condition],\n",
    "             max_step=max_step,\n",
    "             progress_bar=True,\n",
    "             use_equilibrium_force=use_equilibrium_force\n",
    "        )\n",
    "        pr.disable()\n",
    "        ax[ii].plot(rateeq.sol.r[2]*x0, rateeq.sol.v[2], 'w-', linewidth=0.75)\n",
    "    \n",
    "    s = io.StringIO()\n",
    "    sortby = SortKey.TIME\n",
    "    ps = pstats.Stats(pr, stream=s).strip_dirs().sort_stats(sortby)\n",
    "    ps.sort_stats(sortby).print_stats(20)\n",
    "    print(s.getvalue())\n",
    "    \n",
    "    ax[ii].set_xlabel('$z$ (cm)')\n",
    "    if ii==0:\n",
    "        ax[ii].set_ylabel('$v_z/(\\Gamma/k)$')"
   ]
  },
  {
   "cell_type": "code",
   "execution_count": null,
   "metadata": {},
   "outputs": [],
   "source": [
    "np.maximum(np.abs(np.concatenate((rateeq.sol.N[:, 10001], rateeq.sol.v[:, 10001], rateeq.sol.r[:, 10001]))),\n",
    "           np.abs(np.concatenate((rateeq.sol.N[:, 10000], rateeq.sol.v[:, 10000], rateeq.sol.r[:, 10000]))))"
   ]
  },
  {
   "cell_type": "code",
   "execution_count": null,
   "metadata": {},
   "outputs": [],
   "source": [
    "if isinstance(pol, int) or isinstance(pol, float):\n",
    "    if pol>0:\n",
    "        pol = np.array([1., -1j, 0.])/np.sqrt(2)\n",
    "    else:\n",
    "        pol = np.array([1., +1j, 0.])/np.sqrt(2)\n",
    "        \n",
    "        "
   ]
  },
  {
   "cell_type": "code",
   "execution_count": null,
   "metadata": {},
   "outputs": [],
   "source": []
  }
 ],
 "metadata": {
  "kernelspec": {
   "display_name": "Python 3",
   "language": "python",
   "name": "python3"
  },
  "language_info": {
   "codemirror_mode": {
    "name": "ipython",
    "version": 3
   },
   "file_extension": ".py",
   "mimetype": "text/x-python",
   "name": "python",
   "nbconvert_exporter": "python",
   "pygments_lexer": "ipython3",
   "version": "3.7.6"
  }
 },
 "nbformat": 4,
 "nbformat_minor": 4
}
