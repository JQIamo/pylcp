{
 "cells": [
  {
   "cell_type": "markdown",
   "metadata": {},
   "source": [
    "author: @SteveEckel\n",
    "\n",
    "This example covers a two level, 1D optical molasses and compares results to\n",
    "P. D. Lett, et. al., _J. Opt. Soc. Am. B_ __6__, 2084 (1989)."
   ]
  },
  {
   "cell_type": "code",
   "execution_count": 1,
   "metadata": {},
   "outputs": [],
   "source": [
    "import numpy as np\n",
    "import matplotlib.pyplot as plt\n",
    "import pylcp\n",
    "import cProfile, pstats, io\n",
    "import lmfit\n",
    "from pylcp.common import progressBar\n",
    "plt.style.use('paper')\n",
    "savefigs = True"
   ]
  },
  {
   "cell_type": "markdown",
   "metadata": {},
   "source": [
    "### Let's start by defining the lasers, magnetic field, and Hamiltonian:\n",
    "\n",
    "Because we are dealing with a two state system, we keep the Hamiltonian and the geometry relatively simple.  Note that because we are also using the heuristic equation, we want to make sure that the detuning is not on the Hamiltonian, but on the lasers."
   ]
  },
  {
   "cell_type": "code",
   "execution_count": 2,
   "metadata": {},
   "outputs": [],
   "source": [
    "mass = 50\n",
    "# Make a method to return the lasers:\n",
    "def return_lasers(delta, beta):\n",
    "    return pylcp.laserBeams([\n",
    "        {'kvec':np.array([1., 0., 0.]), 'pol':np.array([0., 1., 0.]),\n",
    "         'pol_coord':'spherical', 'delta':delta, 'beta':beta},\n",
    "        {'kvec':np.array([-1., 0., 0.]), 'pol':np.array([0., 1., 0.]),\n",
    "         'pol_coord':'spherical', 'delta':delta, 'beta':beta},\n",
    "        ], beam_type=pylcp.infinitePlaneWaveBeam)\n",
    "\n",
    "# Now define a two level Hamiltonian, connected using pi-light.\n",
    "def return_hamiltonian(delta):\n",
    "    Hg = np.array([[0.]])\n",
    "    He = np.array([[-delta]])\n",
    "    mu_q = np.zeros((3, 1, 1))\n",
    "    d_q = np.zeros((3, 1, 1))\n",
    "    d_q[1, 0, 0] = 1.\n",
    "\n",
    "    return pylcp.hamiltonian(Hg, He, mu_q, mu_q, d_q, mass=mass)\n",
    "\n",
    "hamiltonian = return_hamiltonian(0.)\n",
    "\n",
    "magField = lambda R: np.zeros(R.shape)"
   ]
  },
  {
   "cell_type": "markdown",
   "metadata": {},
   "source": [
    "### Generate the equilibrium force profile:\n",
    "\n",
    "We'll do it for all three simultaneously."
   ]
  },
  {
   "cell_type": "code",
   "execution_count": 3,
   "metadata": {},
   "outputs": [
    {
     "ename": "NameError",
     "evalue": "name 'kwargs' is not defined",
     "output_type": "error",
     "traceback": [
      "\u001b[0;31m---------------------------------------------------------------------------\u001b[0m",
      "\u001b[0;31mNameError\u001b[0m                                 Traceback (most recent call last)",
      "\u001b[0;32m<ipython-input-3-d4f88351bb31>\u001b[0m in \u001b[0;36m<module>\u001b[0;34m\u001b[0m\n\u001b[1;32m      5\u001b[0m \u001b[0mhamiltonian\u001b[0m \u001b[0;34m=\u001b[0m \u001b[0mreturn_hamiltonian\u001b[0m\u001b[0;34m(\u001b[0m\u001b[0;36m0.\u001b[0m\u001b[0;34m)\u001b[0m\u001b[0;34m\u001b[0m\u001b[0;34m\u001b[0m\u001b[0m\n\u001b[1;32m      6\u001b[0m \u001b[0meqns\u001b[0m \u001b[0;34m=\u001b[0m \u001b[0;34m{\u001b[0m\u001b[0;34m}\u001b[0m\u001b[0;34m\u001b[0m\u001b[0;34m\u001b[0m\u001b[0m\n\u001b[0;32m----> 7\u001b[0;31m \u001b[0meqns\u001b[0m\u001b[0;34m[\u001b[0m\u001b[0;34m'obe'\u001b[0m\u001b[0;34m]\u001b[0m \u001b[0;34m=\u001b[0m \u001b[0mpylcp\u001b[0m\u001b[0;34m.\u001b[0m\u001b[0mobe\u001b[0m\u001b[0;34m(\u001b[0m\u001b[0mlaserBeams\u001b[0m\u001b[0;34m,\u001b[0m \u001b[0mmagField\u001b[0m\u001b[0;34m,\u001b[0m \u001b[0mhamiltonian\u001b[0m\u001b[0;34m)\u001b[0m\u001b[0;34m\u001b[0m\u001b[0;34m\u001b[0m\u001b[0m\n\u001b[0m\u001b[1;32m      8\u001b[0m \u001b[0meqns\u001b[0m\u001b[0;34m[\u001b[0m\u001b[0;34m'rateeq'\u001b[0m\u001b[0;34m]\u001b[0m \u001b[0;34m=\u001b[0m \u001b[0mpylcp\u001b[0m\u001b[0;34m.\u001b[0m\u001b[0mrateeq\u001b[0m\u001b[0;34m(\u001b[0m\u001b[0mlaserBeams\u001b[0m\u001b[0;34m,\u001b[0m \u001b[0mmagField\u001b[0m\u001b[0;34m,\u001b[0m \u001b[0mhamiltonian\u001b[0m\u001b[0;34m)\u001b[0m\u001b[0;34m\u001b[0m\u001b[0;34m\u001b[0m\u001b[0m\n\u001b[1;32m      9\u001b[0m \u001b[0meqns\u001b[0m\u001b[0;34m[\u001b[0m\u001b[0;34m'heuristiceq'\u001b[0m\u001b[0;34m]\u001b[0m \u001b[0;34m=\u001b[0m \u001b[0mpylcp\u001b[0m\u001b[0;34m.\u001b[0m\u001b[0mheuristiceq\u001b[0m\u001b[0;34m(\u001b[0m\u001b[0mlaserBeams\u001b[0m\u001b[0;34m,\u001b[0m \u001b[0mmagField\u001b[0m\u001b[0;34m)\u001b[0m\u001b[0;34m\u001b[0m\u001b[0;34m\u001b[0m\u001b[0m\n",
      "\u001b[0;32m~/GitHub/packages/pylcp/obe.py\u001b[0m in \u001b[0;36m__init__\u001b[0;34m(self, laserBeams, magField, hamitlonian, a, transform_into_re_im, use_sparse_matrices, include_mag_forces, r0, v0)\u001b[0m\n\u001b[1;32m    117\u001b[0m                  r0=np.array([0., 0., 0.]), v0=np.array([0., 0., 0.])):\n\u001b[1;32m    118\u001b[0m \u001b[0;34m\u001b[0m\u001b[0m\n\u001b[0;32m--> 119\u001b[0;31m         \u001b[0msuper\u001b[0m\u001b[0;34m(\u001b[0m\u001b[0;34m)\u001b[0m\u001b[0;34m.\u001b[0m\u001b[0m__init__\u001b[0m\u001b[0;34m(\u001b[0m\u001b[0;34m**\u001b[0m\u001b[0mkwargs\u001b[0m\u001b[0;34m)\u001b[0m\u001b[0;34m\u001b[0m\u001b[0;34m\u001b[0m\u001b[0m\n\u001b[0m\u001b[1;32m    120\u001b[0m \u001b[0;34m\u001b[0m\u001b[0m\n\u001b[1;32m    121\u001b[0m         \u001b[0;31m# Add the Hamiltonian:\u001b[0m\u001b[0;34m\u001b[0m\u001b[0;34m\u001b[0m\u001b[0;34m\u001b[0m\u001b[0m\n",
      "\u001b[0;31mNameError\u001b[0m: name 'kwargs' is not defined"
     ]
    }
   ],
   "source": [
    "delta = -2.\n",
    "beta = 1.5\n",
    "\n",
    "laserBeams = return_lasers(delta, beta)\n",
    "hamiltonian = return_hamiltonian(0.)\n",
    "eqns = {}\n",
    "eqns['obe'] = pylcp.obe(laserBeams, magField, hamiltonian)\n",
    "eqns['rateeq'] = pylcp.rateeq(laserBeams, magField, hamiltonian)\n",
    "eqns['heuristiceq'] = pylcp.heuristiceq(laserBeams, magField)\n",
    "\n",
    "extra_args = {}\n",
    "extra_args['obe'] = {'progress_bar':True, 'deltat_tmax':2*np.pi*100, 'deltat_v':4,\n",
    "                     'itermax':1000, 'rel':1e-4, 'abs':1e-6}\n",
    "extra_args['rateeq'] = {}\n",
    "extra_args['heuristiceq'] = {}\n",
    "\n",
    "v = np.arange(-10., 10.1, 0.1)\n",
    "\n",
    "for key in eqns:\n",
    "    eqns[key].generate_force_profile(np.zeros((3,) + v.shape),\n",
    "                                     [v, np.zeros(v.shape), np.zeros(v.shape)],\n",
    "                                     name='molasses', **extra_args[key])"
   ]
  },
  {
   "cell_type": "markdown",
   "metadata": {},
   "source": [
    "Plot up the equilibrium force profile:"
   ]
  },
  {
   "cell_type": "code",
   "execution_count": null,
   "metadata": {},
   "outputs": [],
   "source": [
    "fig, ax = plt.subplots(1, 1, figsize=(3.25, 2.))\n",
    "lbls = {'obe':'OBE', 'rateeq':'Rate Eq.', 'heuristiceq':'Heuristic Eq.'}\n",
    "styles = ['-','--','-.']\n",
    "for ii, key in enumerate(eqns):\n",
    "    ax.plot(v, eqns[key].profile['molasses'].F[0], styles[ii],\n",
    "            label=lbls[key], linewidth=1.25-0.25*ii)\n",
    "    #ax[1].plot(v, eqn.profile['molasses'].Neq)\n",
    "#ax.legend(fontsize=7)\n",
    "ax.set_xlabel('$v/(\\Gamma/k)$')\n",
    "ax.set_ylabel('$F/(\\hbar k \\Gamma)$')\n",
    "fig.subplots_adjust(bottom=0.2)\n",
    "fig.savefig('two_level_molasses_forces.pdf')"
   ]
  },
  {
   "cell_type": "markdown",
   "metadata": {},
   "source": [
    "For the rate equations and the OBEs, also plot up the equilibrium populations of the two states:"
   ]
  },
  {
   "cell_type": "code",
   "execution_count": null,
   "metadata": {},
   "outputs": [],
   "source": [
    "fig, ax = plt.subplots(1, 1)\n",
    "for key in ['rateeq', 'obe']:\n",
    "    #ax[0].plot(v, eqn[key].profile['molasses'].F[0])\n",
    "    ax.plot(v, eqns[key].profile['molasses'].Neq)"
   ]
  },
  {
   "cell_type": "markdown",
   "metadata": {},
   "source": [
    "### Let's next investigate the damping force\n",
    "We calculate the damping coefficient $\\beta$ as a function of $s_0$ and $\\delta$, and compare to the Lett expression for the damping."
   ]
  },
  {
   "cell_type": "code",
   "execution_count": null,
   "metadata": {},
   "outputs": [],
   "source": [
    "dv = 0.01\n",
    "\n",
    "deltas = np.linspace(-3, 0., 101)\n",
    "betas = np.array([0.01, 0.1, 1, 10])\n",
    "\n",
    "alphas = {}\n",
    "Deltas, Betas = np.meshgrid(deltas, betas)\n",
    "\n",
    "eqns = {'heuristiceq':pylcp.heuristiceq, 'rateeq':pylcp.rateeq, 'obe':pylcp.obe}\n",
    "\n",
    "extra_args['obe'] = {'deltat':2*np.pi*100, 'itermax':1000, 'rel':1e-4, 'abs':1e-6}\n",
    "extra_args['rateeq'] = {}\n",
    "extra_args['heuristiceq'] = {}\n",
    "\n",
    "for key in eqns:\n",
    "    it = np.nditer([Deltas, Betas, None])\n",
    "    progress = progressBar()\n",
    "    for (delta, beta, alpha) in it:\n",
    "        laserBeams = return_lasers(delta, beta)\n",
    "        hamiltonian = return_hamiltonian(0.)\n",
    "\n",
    "        # Next, generate the OBE or rate equations:\n",
    "        if key is 'heuristiceq':\n",
    "            eqn = eqns[key](laserBeams, magField)\n",
    "        else:\n",
    "            eqn = eqns[key](laserBeams, magField, hamiltonian)\n",
    "\n",
    "        eqn.set_initial_velocity(np.array([dv, 0., 0.]))\n",
    "        if key is 'obe':\n",
    "            eqn.set_initial_rho_equally()\n",
    "\n",
    "        alpha[...] = -eqn.find_equilibrium_force(**extra_args[key])[0]/dv\n",
    "        progress.update((it.iterindex+1)/it.itersize)\n",
    "    # Just update it to be sure.\n",
    "    progress.update(1.)\n",
    "\n",
    "    alphas[key] = it.operands[2]"
   ]
  },
  {
   "cell_type": "markdown",
   "metadata": {},
   "source": [
    "Plot it up:"
   ]
  },
  {
   "cell_type": "code",
   "execution_count": null,
   "metadata": {},
   "outputs": [],
   "source": [
    "fig, ax = plt.subplots(1, 1)\n",
    "for ii, key in enumerate(eqns):\n",
    "    for jj, alphas_i in enumerate(alphas[key]):\n",
    "        if ii==0:\n",
    "            kwargs = {'label':'$s=%.2f$'%betas[jj]}\n",
    "        else:\n",
    "            kwargs = {}\n",
    "        ax.plot(deltas, alphas_i, styles[ii], color='C%d'%jj, linewidth=1., **kwargs)\n",
    "        \n",
    "\n",
    "for ii, beta in enumerate(betas):\n",
    "    ax.plot(deltas, -4*beta*2*deltas/(1+2*beta+4*deltas**2)**2, 'k--',\n",
    "             linewidth=0.5)\n",
    "    \n",
    "ax.legend(loc='upper left')\n",
    "ax.set_xlabel('$\\Delta/\\Gamma$')\n",
    "ax.set_ylabel('$\\\\alpha/\\hbar k^2$')\n",
    "if savefigs:\n",
    "    fig.savefig('damping_force_1D_molasses.pdf')"
   ]
  },
  {
   "cell_type": "markdown",
   "metadata": {},
   "source": [
    "## Now, we want to simulate a whole bunch of atoms\n",
    "We'll run about $N_A=100$ for about $1000 \\Gamma t$ to\n",
    "generate some histograms and understand what velocities we obtain, etc.\n",
    "\n",
    "First choose the governing equation."
   ]
  },
  {
   "cell_type": "code",
   "execution_count": null,
   "metadata": {},
   "outputs": [],
   "source": [
    "beta = 1.\n",
    "delta = -1.5\n",
    "\n",
    "laserBeams = return_lasers(delta, beta)\n",
    "hamiltonian = return_hamiltonian(0.)\n",
    "\n",
    "#eqn = pylcp.heuristiceq(laserBeams, magField, mass=mass)\n",
    "eqn = pylcp.rateeq(laserBeams, magField, hamiltonian, include_mag_forces=False)\n",
    "#eqn = pylcp.obe(laserBeams, magField, hamiltonian)\n",
    "\n",
    "N_atom = 100\n",
    "v_final = np.zeros((N_atom,))\n",
    "#num_of_scatters = np.zeros((N_atom,), dtype='int')\n",
    "#num_of_steps = np.zeros((N_atom,), dtype='int')\n",
    "\n",
    "fig, ax = plt.subplots(1, 1)\n",
    "sols = []\n",
    "progress = progressBar()\n",
    "for ii in range(N_atom):\n",
    "    eqn.set_initial_position_and_velocity(np.array([0., 0., 0.]), np.array([0., 0., 0.]))\n",
    "    if isinstance(eqn, pylcp.rateeq):\n",
    "        eqn.set_initial_pop_from_equilibrium()\n",
    "    elif isinstance(eqn, pylcp.obe):\n",
    "        eqn.set_initial_rho_from_rateeq()\n",
    "\n",
    "    eqn.evolve_motion([0., 1000.], random_force=True,\n",
    "                      max_scatter_probability=0.25,\n",
    "                      freeze_axis=[False, True, True])\n",
    "    progress.update((ii+1.)/N_atom)\n",
    "\n",
    "    if ii<10:\n",
    "        ax.plot(eqn.sol.t, eqn.sol.v[0])\n",
    "\n",
    "    v_final[ii] = eqn.sol.v[0, -1]\n",
    "\n",
    "    sols.append(eqn.sol)\n",
    "    #num_of_scatters[ii] = sum(eqn.sol.n_random)\n",
    "    #num_of_steps[ii] = len(eqn.sol.t)\n",
    "\n",
    "ax.set_xlabel('$\\Gamma t$')\n",
    "ax.set_ylabel('$v/(\\Gamma/k)$')"
   ]
  },
  {
   "cell_type": "markdown",
   "metadata": {},
   "source": [
    "### Now, let's bin the final data and fit it up!"
   ]
  },
  {
   "cell_type": "code",
   "execution_count": null,
   "metadata": {},
   "outputs": [],
   "source": [
    "print(2*np.std(v_final)**2*mass)\n",
    "xb = np.arange(-1., 1.1, 0.05)\n",
    "fig, ax = plt.subplots(1, 1)\n",
    "ax.hist(v_final, bins=xb)\n",
    "x = xb[:-1] + np.diff(xb)/2\n",
    "y = np.histogram(v_final, bins=xb)[0]\n",
    "\n",
    "model = lmfit.models.GaussianModel()\n",
    "result = model.fit(y, x=x)\n",
    "\n",
    "x_fit = np.linspace(-1., 1., 51)\n",
    "ax.plot(x_fit, result.eval(x=x_fit))"
   ]
  },
  {
   "cell_type": "markdown",
   "metadata": {},
   "source": [
    "## Now, let's now vary the detuning and the intensity\n",
    "\n",
    "And calculate the resulting temperature.  We can again compare to the Lett formula."
   ]
  },
  {
   "cell_type": "code",
   "execution_count": null,
   "metadata": {},
   "outputs": [],
   "source": [
    "deltas = np.array([-3, -2., -1., -0.5, -0.375, -0.25, -0.125, 0.])\n",
    "betas = np.array([0.3, 1, 3])\n",
    "\n",
    "t0 = 500 # Evolution time at delta=-1 detuning, beta=1\n",
    "Deltas, Betas = np.meshgrid(deltas, betas)\n",
    "\n",
    "it = np.nditer([Deltas, Betas, None, None])\n",
    "for (delta, beta, sigma, delta_sigma) in it:\n",
    "    print('Working on delta=%.1f and beta=%.1f'%(delta, beta))\n",
    "    # First, generate the new laser beams and hamiltonian:\n",
    "    laserBeams = return_lasers(delta, beta)\n",
    "    hamiltonian = return_hamiltonian(0.)\n",
    "\n",
    "    # Next, generate the OBE, rate equations or heuristic eqn:\n",
    "    #eqn = pylcp.heuristiceq(laserBeams, magField, mass=mass)\n",
    "    eqn = pylcp.rateeq(laserBeams, magField, hamiltonian, include_mag_forces=False)\n",
    "\n",
    "    # Now, evolve however many times:\n",
    "    progress = progressBar()\n",
    "    for ii in range(N_atom):\n",
    "        eqn.set_initial_position_and_velocity(np.array([0., 0., 0.]),\n",
    "                                              np.array([0., 0., 0.]))\n",
    "        if isinstance(eqn, pylcp.rateeq):\n",
    "            eqn.set_initial_pop_from_equilibrium()\n",
    "        elif isinstance(eqn, pylcp.obe):\n",
    "            eqn.set_initial_rho_from_rateeq()\n",
    "\n",
    "        eqn.evolve_motion([0., t0*(1+2*beta+4*np.abs(delta)**2)/7/beta],\n",
    "                          random_recoil=True,\n",
    "                          max_scatter_probability=0.1,\n",
    "                          freeze_axis=[False, True, True])\n",
    "\n",
    "        v_final[ii] = eqn.sol.v[0, -1]\n",
    "        progress.update((ii+1.)/N_atom)\n",
    "\n",
    "    # Now bin and fit:\n",
    "    xb = np.arange(-1., 1.1, 0.05)\n",
    "    x = xb[:-1] + np.diff(xb)/2\n",
    "    y = np.histogram(v_final, bins=xb)[0]\n",
    "\n",
    "    model = lmfit.models.GaussianModel()\n",
    "    result = model.fit(y, x=x)\n",
    "\n",
    "    sigma[...] = result.best_values['sigma']\n",
    "    delta_sigma[...] = result.params['sigma'].stderr\n",
    "\n",
    "    print('Got %.4f +/- %.4f'%(sigma, delta_sigma))"
   ]
  },
  {
   "cell_type": "markdown",
   "metadata": {},
   "source": [
    "Plot up the results"
   ]
  },
  {
   "cell_type": "code",
   "execution_count": null,
   "metadata": {},
   "outputs": [],
   "source": [
    "# %%\n",
    "def lett_function(beta, delta):\n",
    "    return 0.5*(1+2*beta+4*delta **2)/2/np.abs(delta)\n",
    "\n",
    "deltas_thr = np.linspace(-3, -0.125, 51)\n",
    "fig, ax = plt.subplots(1, 1)\n",
    "for ii, (beta, sigmas, err) in enumerate(zip(betas, it.operands[2], it.operands[3])):\n",
    "    plt.errorbar(deltas, 2*sigmas**2*mass, 2*sigmas*err*mass, fmt='.', color='C%d'%ii)\n",
    "    plt.plot(deltas_thr, lett_function(beta, deltas_thr), linewidth=0.75, color='C%d'%ii)\n",
    "ax.set_xlabel('$\\Delta/\\Gamma$')\n",
    "ax.set_ylabel('$T/T_D$')\n",
    "ax.set_ylim((1, 5))\n",
    "if savefigs:\n",
    "    fig.savefig('final_temperature_two_level_1D_molasses_rate_eqn.pdf')"
   ]
  },
  {
   "cell_type": "code",
   "execution_count": null,
   "metadata": {},
   "outputs": [],
   "source": []
  }
 ],
 "metadata": {
  "kernelspec": {
   "display_name": "Python 3",
   "language": "python",
   "name": "python3"
  },
  "language_info": {
   "codemirror_mode": {
    "name": "ipython",
    "version": 3
   },
   "file_extension": ".py",
   "mimetype": "text/x-python",
   "name": "python",
   "nbconvert_exporter": "python",
   "pygments_lexer": "ipython3",
   "version": "3.7.6"
  }
 },
 "nbformat": 4,
 "nbformat_minor": 4
}
