{
 "cells": [
  {
   "cell_type": "markdown",
   "metadata": {},
   "source": [
    "author: @SteveEckel\n",
    "\n",
    "This example covers calculating the forces in a one-dimensional optical molasses\n",
    "using the optical bloch equations.  It attempts to reproduce several figures \n",
    "from Ungar, P. J., Weiss,\n",
    "D. S., Riis, E., & Chu, S. \"Optical molasses and multilevel atoms:\n",
    "theory.\" *Journal of the Optical Society of America B*, **6** 2058 (1989).\n",
    "http://doi.org/10.1364/JOSAB.6.002058"
   ]
  },
  {
   "cell_type": "code",
   "execution_count": 1,
   "metadata": {},
   "outputs": [],
   "source": [
    "import numpy as np\n",
    "import matplotlib.pyplot as plt\n",
    "import pylcp\n",
    "import scipy.constants as cts\n",
    "import lmfit\n",
    "savefigs = True"
   ]
  },
  {
   "cell_type": "markdown",
   "metadata": {},
   "source": [
    "### Put infrastructure in place:"
   ]
  },
  {
   "cell_type": "markdown",
   "metadata": {},
   "source": [
    "First, the reference is for sodium, so let's get the mass parameter for $^{23}$Na:"
   ]
  },
  {
   "cell_type": "code",
   "execution_count": 2,
   "metadata": {},
   "outputs": [
    {
     "name": "stdout",
     "output_type": "stream",
     "text": [
      "195.87538720801354\n"
     ]
    }
   ],
   "source": [
    "atom = pylcp.atom('23Na')\n",
    "mass = (atom.state[2].gamma*atom.mass)/(cts.hbar*(100*2*np.pi*atom.transition[1].k)**2)\n",
    "print(mass)"
   ]
  },
  {
   "cell_type": "code",
   "execution_count": 3,
   "metadata": {},
   "outputs": [],
   "source": [
    "def return_hamiltonian(Fl, Delta):\n",
    "    Hg, Bgq = pylcp.hamiltonians.singleF(F=Fl, gF=0, muB=1)\n",
    "    He, Beq = pylcp.hamiltonians.singleF(F=Fl+1, gF=1/(Fl+1), muB=1)\n",
    "    dijq = pylcp.hamiltonians.dqij_two_bare_hyperfine(Fl, (Fl+1))\n",
    "    hamiltonian = pylcp.hamiltonian(Hg, -Delta*np.eye(He.shape[0])+He, Bgq, Beq, dijq, mass=mass)\n",
    "    \n",
    "    return hamiltonian\n",
    "\n",
    "# Now, make 1D laser beams:\n",
    "def return_lasers(delta, beta, pol):\n",
    "    if pol[0][2]>0 or pol[0][1]>0:\n",
    "        pol_coord = 'spherical'\n",
    "    else:\n",
    "        pol_coord = 'cartesian'\n",
    "\n",
    "    return pylcp.laserBeams([\n",
    "        {'kvec':np.array([0., 0., 1.]), 'pol':pol[0],\n",
    "         'pol_coord':pol_coord, 'delta':delta, 'beta':beta},\n",
    "        {'kvec':np.array([0., 0., -1.]), 'pol':pol[1],\n",
    "         'pol_coord':pol_coord, 'delta':delta, 'beta':beta},\n",
    "        ], beam_type=pylcp.infinitePlaneWaveBeam)\n",
    "\n",
    "# Now make a bunch of polarization keys:\n",
    "pols = {'$\\\\sigma^+\\\\sigma^-$':[np.array([0., 0., 1.]), np.array([1., 0., 0.])],\n",
    "        '$\\\\sigma^+\\\\sigma^+$':[np.array([0., 0., 1.]), np.array([0., 0., 1.])]}\n",
    "    \n",
    "phi = [0, np.pi/2]\n",
    "phi_keys = ['$\\phi=0$', '$\\phi=\\pi/2$']\n",
    "for phi_i, key_beam in zip(phi, phi_keys):\n",
    "        pols[key_beam] = [np.array([1., 0., 0.]), np.array([np.cos(phi_i), np.sin(phi_i), 0.])]"
   ]
  },
  {
   "cell_type": "markdown",
   "metadata": {},
   "source": [
    "## Let's make a basic force profile\n",
    "\n",
    "This is not contained in the reference, but let's do it anyway.  We start\n",
    "by creating, using our special functions defined above, a set of lasers, \n",
    "a magnetic field, a Hamiltonian, and then the set of optical Bloch equations."
   ]
  },
  {
   "cell_type": "code",
   "execution_count": 4,
   "metadata": {},
   "outputs": [],
   "source": [
    "det = -2.0\n",
    "beta = 0.5\n",
    "\n",
    "laserBeams = return_lasers(0., beta, pol=pols['$\\\\sigma^+\\\\sigma^-$'])\n",
    "\n",
    "magField = pylcp.constantMagneticField(np.array([0., 0., 0.]))\n",
    "\n",
    "hamiltonian = return_hamiltonian(2, det)\n",
    "\n",
    "obe = pylcp.obe(laserBeams, magField, hamiltonian,\n",
    "                include_mag_forces=False, transform_into_re_im=True)"
   ]
  },
  {
   "cell_type": "markdown",
   "metadata": {},
   "source": [
    "Next, we run the force profile:"
   ]
  },
  {
   "cell_type": "code",
   "execution_count": 5,
   "metadata": {},
   "outputs": [
    {
     "name": "stdout",
     "output_type": "stream",
     "text": [
      "Completed in 1:19.                                                  \n"
     ]
    }
   ],
   "source": [
    "v = np.concatenate((np.arange(0.0, 0.1, 0.01),\n",
    "                    np.arange(0.1, 5.1, 0.1)))\n",
    "\n",
    "obe.generate_force_profile(\n",
    "    [np.zeros(v.shape), np.zeros(v.shape), np.zeros(v.shape)],\n",
    "    [np.zeros(v.shape), np.zeros(v.shape), v],\n",
    "     name='molasses', deltat_tmax=2*np.pi*100, deltat_v=4, itermax=1000,\n",
    "     progress_bar=True,\n",
    ")"
   ]
  },
  {
   "cell_type": "markdown",
   "metadata": {},
   "source": [
    "Finally, we plot it up:"
   ]
  },
  {
   "cell_type": "code",
   "execution_count": 6,
   "metadata": {},
   "outputs": [
    {
     "data": {
      "image/png": "[encoded data removed]",
      "text/plain": [
       "<Figure size 487.5x412.5 with 1 Axes>"
      ]
     },
     "metadata": {
      "needs_background": "light"
     },
     "output_type": "display_data"
    }
   ],
   "source": [
    "fig, ax = plt.subplots(1, 1)\n",
    "ax.plot(np.concatenate((-v[::-1], v)),\n",
    "         np.concatenate((-obe.profile['molasses'].F[2][::-1],\n",
    "                        obe.profile['molasses'].F[2]))\n",
    "        )\n",
    "ax.set_xlabel('$v/(\\Gamma/k)$')\n",
    "ax.set_ylabel('$F/(\\hbar k \\Gamma)$')\n",
    "\n",
    "if savefigs:\n",
    "    fig.savefig('')"
   ]
  },
  {
   "cell_type": "markdown",
   "metadata": {},
   "source": [
    "## Next, let's reproduce Figure 6\n",
    "\n",
    "This force compares the various polarizations.  To make it, we first make each OBE individually, and save the resulting forces.\n",
    "Note that in Ungar, they define their velocity scale through $m v_0^2 = \\hbar\\Gamma$, resulting in forces in terms of $M v_0 \\Gamma$.  Compared \n",
    "to us, they measure their velocities in terms of\n",
    "\n",
    "$$\n",
    "\\frac{v_0}{k/\\Gamma} = \\sqrt{\\frac{\\hbar\\Gamma}{m}}\\frac{k}{\\Gamma} =  \\sqrt{\\frac{\\hbar k^2}{\\Gamma m}} = \\sqrt{\\bar{m}}\n",
    "$$\n",
    "\n",
    "Likewise, the force ratio,\n",
    "\n",
    "$$\n",
    "\\frac{M v_0 \\Gamma}{\\hbar k \\Gamma} = \\frac{M\\sqrt{\\hbar\\Gamma}}{\\hbar k} = \\sqrt{\\frac{M\\Gamma}{\\hbar k^2}} = \\sqrt{\\bar{m}}\n",
    "$$"
   ]
  },
  {
   "cell_type": "code",
   "execution_count": 7,
   "metadata": {},
   "outputs": [
    {
     "name": "stdout",
     "output_type": "stream",
     "text": [
      "Completed in 6:37.                                                  \n",
      "Completed in 3:43.                                                  \n",
      "Completed in 7:26.                                                  \n",
      "Completed in 7:59.                                                  \n"
     ]
    }
   ],
   "source": [
    "det = -2.73\n",
    "beta = 1.25\n",
    "\n",
    "v = np.concatenate((np.array([0.0]), np.logspace(-2, np.log10(4), 20)))/np.sqrt(mass)\n",
    "\n",
    "keys_of_interest = ['$\\\\sigma^+\\\\sigma^+$', '$\\\\sigma^+\\\\sigma^-$',\n",
    "                    '$\\phi=0$', '$\\phi=\\pi/2$']\n",
    "\n",
    "F = {}\n",
    "for key in keys_of_interest:\n",
    "    laserBeams = return_lasers(0., beta, pol=pols[key])\n",
    "    hamiltonian = return_hamiltonian(2, det)\n",
    "\n",
    "    obe = pylcp.obe(laserBeams, magField, hamiltonian,\n",
    "                    transform_into_re_im=True)\n",
    "\n",
    "    obe.generate_force_profile(\n",
    "        [np.zeros(v.shape), np.zeros(v.shape), np.zeros(v.shape)],\n",
    "        [np.zeros(v.shape), np.zeros(v.shape), v],\n",
    "        name='molasses', deltat_tmax=2*np.pi*1000, deltat_v=4, itermax=10,\n",
    "        progress_bar=True\n",
    "    )\n",
    "    \n",
    "    F[key] = obe.profile['molasses'].F[2]"
   ]
  },
  {
   "cell_type": "markdown",
   "metadata": {},
   "source": [
    "Plot it up."
   ]
  },
  {
   "cell_type": "code",
   "execution_count": 8,
   "metadata": {},
   "outputs": [
    {
     "name": "stderr",
     "output_type": "stream",
     "text": [
      "Substituting with a symbol from Computer Modern.\n",
      "Substituting with a symbol from Computer Modern.\n",
      "Substituting with a symbol from Computer Modern.\n",
      "Substituting with a symbol from Computer Modern.\n"
     ]
    },
    {
     "data": {
      "image/png": "[encoded data removed]",
      "text/plain": [
       "<Figure size 487.5x412.5 with 1 Axes>"
      ]
     },
     "metadata": {
      "needs_background": "light"
     },
     "output_type": "display_data"
    }
   ],
   "source": [
    "fig, ax = plt.subplots(1, 1, num=\"Forces; F=2 to F=3\")\n",
    "for key in keys_of_interest:\n",
    "    ax.plot(v*np.sqrt(mass), -1e3*F[key]/np.sqrt(mass), label=key)\n",
    "ax.set_xlabel('$v/\\sqrt{\\hbar\\Gamma/m}$')\n",
    "ax.set_ylabel('$F/\\sqrt{\\hbar m \\Gamma^3}$')\n",
    "ax.legend(fontsize=8)\n",
    "ax.set_xlim((0, 4.))\n",
    "ax.set_ylim((0, 2.))\n",
    "\n",
    "if savefigs:\n",
    "    fig.savefig('ungar_fig_6.pdf')"
   ]
  },
  {
   "cell_type": "markdown",
   "metadata": {},
   "source": [
    "## Figure 7\n",
    "\n",
    "Compare the two-level vs. the corkscrew at large velocities."
   ]
  },
  {
   "cell_type": "code",
   "execution_count": null,
   "metadata": {},
   "outputs": [
    {
     "name": "stdout",
     "output_type": "stream",
     "text": [
      "Progress: |█████-------------------------| 19.0%; time left: 10:11 \r"
     ]
    }
   ],
   "source": [
    "v = np.concatenate((np.arange(0, 1.5, 0.2),\n",
    "                    np.arange(0.2, 50., 1.5)))/np.sqrt(mass)\n",
    "\n",
    "beta = 1.25\n",
    "det = -2.73\n",
    "\n",
    "keys_of_interest = ['$\\\\sigma^+\\\\sigma^+$', '$\\\\sigma^+\\\\sigma^-$']\n",
    "\n",
    "F = {}\n",
    "for key in keys_of_interest:\n",
    "    laserBeams = return_lasers(0., beta, pol=pols[key])\n",
    "    hamiltonian = return_hamiltonian(2, det)\n",
    "    \n",
    "    obe = pylcp.obe(laserBeams, magField, hamiltonian,\n",
    "                    transform_into_re_im=True)\n",
    "\n",
    "    obe.generate_force_profile(\n",
    "        [np.zeros(v.shape), np.zeros(v.shape), np.zeros(v.shape)],\n",
    "        [np.zeros(v.shape), np.zeros(v.shape), v],\n",
    "        name='molasses', deltat_tmax=2*np.pi*100, deltat_v=4, itermax=1000,\n",
    "        progress_bar=True\n",
    "    )\n",
    "    \n",
    "    F[key] = obe.profile['molasses'].F[2]"
   ]
  },
  {
   "cell_type": "markdown",
   "metadata": {},
   "source": [
    "Plot it up"
   ]
  },
  {
   "cell_type": "code",
   "execution_count": null,
   "metadata": {},
   "outputs": [],
   "source": [
    "fig, ax = plt.subplots(1, 1)\n",
    "for key in keys_of_interest:\n",
    "    ax.plot(v*np.sqrt(mass), -1e3*F[key]/np.sqrt(mass), label=key)\n",
    "ax.set_xlabel('$v/\\sqrt{\\hbar\\Gamma/m}$')\n",
    "ax.set_ylabel('$F/\\sqrt{\\hbar m \\Gamma^3}$')\n",
    "ax.set_ylim((0, 25))\n",
    "ax.set_xlim((0, 50))\n",
    "ax.legend(fontsize=8)\n",
    "\n",
    "if savefigs:\n",
    "    fig.savefig('ungar_fig_7.pdf')"
   ]
  },
  {
   "cell_type": "markdown",
   "metadata": {},
   "source": [
    "## Figure 8\n",
    "\n",
    "We run the detuning and saturation parameter for the corkscrew model."
   ]
  },
  {
   "cell_type": "code",
   "execution_count": null,
   "metadata": {},
   "outputs": [],
   "source": [
    "dets = [-1.0, -1.37, -2.73]\n",
    "betas = [0.5, 1.25, 2.5]\n",
    "key = '$\\\\sigma^+\\\\sigma^-$'\n",
    "\n",
    "v = np.arange(0.0, 1.025, 0.025)/np.sqrt(mass)\n",
    "F_dets = [None]*3\n",
    "for ii, det in enumerate(dets):\n",
    "    laserBeams = return_lasers(0., betas[1], pol=pols[key])\n",
    "    hamiltonian = return_hamiltonian(2, det)\n",
    "\n",
    "    obe = pylcp.obe(laserBeams, magField, hamiltonian)\n",
    "\n",
    "    obe.generate_force_profile(\n",
    "        [np.zeros(v.shape), np.zeros(v.shape), np.zeros(v.shape)],\n",
    "        [np.zeros(v.shape), np.zeros(v.shape), v],\n",
    "        name='molasses', deltat_tmax=2*np.pi*100, deltat_v=4, itermax=1000,\n",
    "        progress_bar=True\n",
    "    )\n",
    "    \n",
    "    F_dets[ii] = obe.profile['molasses'].F[2]\n",
    "\n",
    "F_betas = [None]*3\n",
    "for ii, beta in enumerate(betas):\n",
    "    laserBeams = return_lasers(0., beta, pol=pols[key])\n",
    "    hamiltonian = return_hamiltonian(2, dets[-1])\n",
    "\n",
    "    obe = pylcp.obe(laserBeams, magField, hamiltonian)\n",
    "\n",
    "    obe.generate_force_profile(\n",
    "        [np.zeros(v.shape), np.zeros(v.shape), np.zeros(v.shape)],\n",
    "        [np.zeros(v.shape), np.zeros(v.shape), v],\n",
    "        name='molasses', deltat_tmax=2*np.pi*100, deltat_v=4, itermax=1000,\n",
    "        progress_bar=True\n",
    "    )\n",
    "\n",
    "    F_betas[ii] = obe.profile['molasses'].F[2]"
   ]
  },
  {
   "cell_type": "markdown",
   "metadata": {},
   "source": [
    "Plot it up:"
   ]
  },
  {
   "cell_type": "code",
   "execution_count": null,
   "metadata": {},
   "outputs": [],
   "source": [
    "fig, ax = plt.subplots(2, 1, figsize=(3.25, 2*2.75))\n",
    "for (F, det) in zip(F_dets, dets):\n",
    "    ax[0].plot(v*np.sqrt(mass), -1e3*F/np.sqrt(mass), label='$\\delta = %f' % det)\n",
    "for (F, beta) in zip(F_betas, betas):\n",
    "    ax[1].plot(v*np.sqrt(mass), -1e3*F/np.sqrt(mass), label='$\\beta = %f' % beta)\n",
    "ax[1].set_xlabel('$v/\\sqrt{\\hbar\\Gamma/m}$')\n",
    "ax[0].set_ylabel('$F/\\sqrt{\\hbar m \\Gamma^3}$')\n",
    "ax[0].set_ylim((0, 6))\n",
    "ax[0].set_xlim((0, 1))\n",
    "ax[1].set_ylabel('$F/\\sqrt{\\hbar m \\Gamma^3}$')\n",
    "ax[1].set_ylim((0, 2))\n",
    "ax[1].set_xlim((0, 1))\n",
    "\n",
    "ax[0].xaxis.set_ticklabels('')\n",
    "\n",
    "fig.subplots_adjust(bottom=0.01, hspace=0.05)\n",
    "\n",
    "if savefigs:\n",
    "    fig.savefig('ungar_fig_8.pdf')"
   ]
  },
  {
   "cell_type": "markdown",
   "metadata": {},
   "source": [
    "## Now, let's run a simulation of many atoms and find the temperature:\n",
    "\n",
    "We start with just a single atom just to make sure everything is OK."
   ]
  },
  {
   "cell_type": "code",
   "execution_count": null,
   "metadata": {},
   "outputs": [],
   "source": [
    "tmax = 1e4\n",
    "det = -2.73\n",
    "beta = 1.25\n",
    "key =  '$\\\\sigma^+\\\\sigma^-$'\n",
    "\n",
    "laserBeams = return_lasers(0., beta, pol=pols[key])\n",
    "hamiltonian = return_hamiltonian(2, det)\n",
    "\n",
    "obe = pylcp.obe(laserBeams, magField, hamiltonian,\n",
    "                include_mag_forces=False)\n",
    "    \n",
    "obe.set_initial_position(np.array([0., 0., 0.]))\n",
    "obe.set_initial_velocity(np.array([0., 0., 0.]))\n",
    "obe.set_initial_rho_equally()\n",
    "\n",
    "obe.evolve_motion(\n",
    "    [0, tmax],\n",
    "    t_eval=np.linspace(0, tmax, 501),\n",
    "    random_recoil=True,\n",
    "    progress_bar=True,\n",
    "    max_scatter_probability=0.5,\n",
    "    record_force=True,\n",
    "    freeze_axis=[True, True, False]\n",
    ")"
   ]
  },
  {
   "cell_type": "markdown",
   "metadata": {},
   "source": [
    "Plot up the test simulation:"
   ]
  },
  {
   "cell_type": "code",
   "execution_count": null,
   "metadata": {},
   "outputs": [],
   "source": [
    "fig, ax = plt.subplots(1, 2, figsize=(6.5, 2.75))\n",
    "ll = 0\n",
    "styles = ['-', '--', '-.']\n",
    "for jj in range(3):\n",
    "    ax[0].plot(obe.sol.t/1e3,\n",
    "               obe.sol.v[jj], styles[jj],\n",
    "               color='C%d'%ll, linewidth=0.75)\n",
    "    ax[1].plot(obe.sol.t/1e3,\n",
    "               obe.sol.r[jj],\n",
    "               styles[jj], color='C%d'%ll, linewidth=0.75)\n",
    "\n",
    "#ax[1].set_ylim(-5., 5.)\n",
    "ax[0].set_ylabel('$v_i/(\\Gamma/k)$')\n",
    "ax[1].set_ylabel('$k r_i$')\n",
    "ax[0].set_xlabel('$10^{3} \\Gamma t$')\n",
    "ax[1].set_xlabel('$10^{3} \\Gamma t$')\n",
    "fig.subplots_adjust(left=0.1, wspace=0.22)"
   ]
  },
  {
   "cell_type": "markdown",
   "metadata": {},
   "source": [
    "Plot up the force experienced by the atom during this short duration of time."
   ]
  },
  {
   "cell_type": "markdown",
   "metadata": {},
   "source": [
    "### Now run a big yuge sim:"
   ]
  },
  {
   "cell_type": "markdown",
   "metadata": {},
   "source": [
    "Non-parallel version:\n",
    "    \n",
    "```\n",
    "sols = []\n",
    "for jj in range(Natoms):\n",
    "    trap.set_initial_position(np.array([0., 0., 100.]))\n",
    "    trap.set_initial_velocity(0.0*np.random.randn(3))\n",
    "    \n",
    "    trap.evolve_motion([0, 3e2], \n",
    "                       t_eval=np.linspace(0, 1e2, 1001),\n",
    "                       random_recoil=True,\n",
    "                       recoil_velocity=v_R,\n",
    "                       progress_bar=True,\n",
    "                       max_scatter_probability=0.5,\n",
    "                       record_force=True)\n",
    "    \n",
    "    sols.append(copy.copy(trap.sol))\n",
    "```"
   ]
  },
  {
   "cell_type": "code",
   "execution_count": null,
   "metadata": {},
   "outputs": [],
   "source": [
    "import pathos, time\n",
    "from pylcp.common import progressBar\n",
    "if hasattr(obe, 'sol'):\n",
    "    del obe.sol\n",
    "    \n",
    "t_eval = np.linspace(0, tmax, 5001)\n",
    "\n",
    "def generate_random_solution(x, tmax=1e4):\n",
    "    # We need to generate random numbers to prevent solutions from being seeded\n",
    "    # with the same random number.\n",
    "    np.random.rand(256*x)\n",
    "    obe.set_initial_position(np.array([0., 0., 0.]))\n",
    "    obe.set_initial_velocity(np.array([0., 0., 0.]))\n",
    "    obe.set_initial_rho_equally()\n",
    "    obe.evolve_motion(\n",
    "        [0, tmax],\n",
    "        t_eval=t_eval,\n",
    "        random_recoil=True,\n",
    "        max_scatter_probability=0.5,\n",
    "        record_force=True,\n",
    "        freeze_axis=[True, True, False]\n",
    "    )\n",
    "    \n",
    "    return obe.sol\n",
    "\n",
    "Natoms = 96\n",
    "chunksize = 4\n",
    "sols = []\n",
    "progress = progressBar()\n",
    "for jj in range(int(Natoms/chunksize)):\n",
    "    with pathos.pools.ProcessPool(nodes=4) as pool:\n",
    "        sols += pool.map(generate_random_solution, range(chunksize))\n",
    "    progress.update((jj+1)/int(Natoms/chunksize))"
   ]
  },
  {
   "cell_type": "markdown",
   "metadata": {},
   "source": [
    "Now, plot 'er up:"
   ]
  },
  {
   "cell_type": "code",
   "execution_count": null,
   "metadata": {},
   "outputs": [],
   "source": [
    "fig, ax = plt.subplots(1, 2, figsize=(6.25, 2.75))\n",
    "\n",
    "for sol in sols:\n",
    "    ax[0].plot(sol.t*atom.state[1].tau*1e3,\n",
    "               sol.v[2], linewidth=0.25)\n",
    "    ax[1].plot(sol.t*atom.state[1].tau*1e3,\n",
    "               sol.r[2]/(2*np.pi*0.1*atom.transition[1].k), linewidth=0.25)\n",
    "\n",
    "for ax_i in ax:\n",
    "    ax_i.set_xlabel('$t$ (ms)')\n",
    "ax[0].set_ylabel('$v_z/(\\Gamma/k)$')\n",
    "ax[1].set_ylabel('$z$ (mm)')\n",
    "    \n",
    "fig.subplots_adjust(left=0.1, bottom=0.08, wspace=0.25)\n",
    "if savefigs:\n",
    "    fig.savefig('random_dynamics_F2_to_F3_molasses.pdf')"
   ]
  },
  {
   "cell_type": "markdown",
   "metadata": {},
   "source": [
    "One interesting result from the Unager paper is to look at the average force as a function of position and velocity for the random particles."
   ]
  },
  {
   "cell_type": "code",
   "execution_count": null,
   "metadata": {},
   "outputs": [],
   "source": [
    "allv = np.concatenate([sol.v.T for sol in sols]).T\n",
    "allF = np.concatenate([sol.F.T for sol in sols]).T\n",
    "\n",
    "v = np.arange(-.003, 0.003, 0.0001)\n",
    "vc = v[:-1]+np.mean(np.diff(v))/2\n",
    "\n",
    "avgFv = np.zeros((3, 3, vc.size))\n",
    "stdFv = np.zeros((3, 3, vc.size))\n",
    "\n",
    "for jj in range(3):\n",
    "    for ii, (v_l, v_r) in enumerate(zip(v[:-1],v[1:])):\n",
    "        inds = np.bitwise_and(allv[jj] <= v_r, allv[jj] > v_l)\n",
    "        if np.sum(inds)>0:\n",
    "            for kk in range(3):\n",
    "                avgFv[kk, jj, ii] = np.mean(allF[kk, inds])\n",
    "                stdFv[kk, jj, ii] = np.std(allF[kk, inds])\n",
    "        else:\n",
    "            avgFv[:, jj, ii] = np.nan\n",
    "            avgFv[:, jj, ii] = np.nan\n",
    "                          \n",
    "fig, ax = plt.subplots(1, 1)\n",
    "ax.plot(vc, 1e3*avgFv[2, 2], linewidth=0.75)\n",
    "ax.set_xlabel('$v_z$')\n",
    "ax.set_ylabel('$F/(\\hbar k \\Gamma)$')\n",
    "\n",
    "if savefigs:\n",
    "    fig.savefig('forces_experienced_random_evolution_F1_to_F2_obe.pdf')"
   ]
  },
  {
   "cell_type": "markdown",
   "metadata": {},
   "source": [
    "Let's evaluate the temperature as a function of time:"
   ]
  },
  {
   "cell_type": "code",
   "execution_count": null,
   "metadata": {},
   "outputs": [],
   "source": [
    "vs = np.nan*np.zeros((3, len(sols), len(t_eval)))\n",
    "for ii, sol in enumerate(sols):\n",
    "    vs[:, ii, :] = sol.v\n",
    "    \n",
    "sigma_v = np.std(vs[2], axis=0)\n",
    "\n",
    "fig, ax = plt.subplots(1, 1)\n",
    "ax.plot(t_eval*atom.state[1].tau*1e3, 2*sigma_v.T**2*hamiltonian.mass)\n",
    "ax.axhline(1, color='k', linestyle='--')\n",
    "ax.set_ylabel('$T/T_D$')\n",
    "ax.set_xlabel('$t$ (ms)')\n",
    "\n",
    "print('Temperature %.2f uK' % (np.mean(2*sigma_v[-1000:]**2*hamiltonian.mass)*cts.hbar*atom.state[2].gamma/2/cts.k*1e6))"
   ]
  }
 ],
 "metadata": {
  "kernelspec": {
   "display_name": "Python 3",
   "language": "python",
   "name": "python3"
  },
  "language_info": {
   "codemirror_mode": {
    "name": "ipython",
    "version": 3
   },
   "file_extension": ".py",
   "mimetype": "text/x-python",
   "name": "python",
   "nbconvert_exporter": "python",
   "pygments_lexer": "ipython3",
   "version": "3.7.6"
  }
 },
 "nbformat": 4,
 "nbformat_minor": 4
}
