{
 "cells": [
  {
   "cell_type": "code",
   "execution_count": 1,
   "metadata": {},
   "outputs": [],
   "source": [
    "import numpy as np\n",
    "import matplotlib.pyplot as plt\n",
    "import pylcp\n",
    "import time\n",
    "import scipy.constants as cts\n",
    "from pylcp.fields import conventional3DMOTBeams"
   ]
  },
  {
   "cell_type": "code",
   "execution_count": 2,
   "metadata": {},
   "outputs": [],
   "source": [
    "# x is length unit\n",
    "# k is wavenumber which relates to wavelength\n",
    "x0 = 0.1 # cm\n",
    "k = 2*np.pi/461E-7 # cm^{-1}\n",
    "kbar = k*x0\n",
    "\n",
    "# D source for position\n",
    "d = np.array([0., -8.839, -8.839])\n",
    "\n",
    "# Gamma is decay rate\n",
    "# t0 is normalized time units of decary\n",
    "# wb is width factor\n",
    "gamma = 2*np.pi*30e6\n",
    "t0 = 1e-5 # s\n",
    "gammabar = gamma*t0\n",
    "alpha = 2*np.pi*cts.value('Bohr magneton in Hz/T')*50*1e-4*x0*t0\n",
    "\n",
    "mbar = 87.9056122571*cts.value('atomic mass constant')*(x0*1e-2)**2/(cts.hbar*t0)\n",
    "\n",
    "wb = 4.7 # mm"
   ]
  },
  {
   "cell_type": "code",
   "execution_count": 3,
   "metadata": {},
   "outputs": [],
   "source": [
    "# laser_det = 0\n",
    "# ham_det = -2.5\n",
    "# beta = 1.\n",
    "# transform = True\n",
    "\n",
    "class aPHIMOT(pylcp.laserBeams):\n",
    "     def __init__(self, *args, **kwargs):\n",
    "        super().__init__()\n",
    "    \n",
    "        beam_type = kwargs.pop('beam_type', pylcp.laserBeam)\n",
    "        pol = kwargs.pop('pol', +1)\n",
    "        kmag = kwargs.pop('k', 1.)\n",
    "        \n",
    "        self.add_laser(beam_type(kmag*(np.array([0., 0.,  17.678])/(np.linalg.norm(np.array([0., 0.,  17.678])))), +pol, *args, **kwargs))\n",
    "        self.add_laser(beam_type(kmag*(np.array([0., 0.,  -17.678])/(np.linalg.norm(np.array([0., 0.,  -17.678])))), +pol, *args, **kwargs))\n",
    "        self.add_laser(beam_type(kmag*(np.array([10.825, -13.258, 4.419])/(np.linalg.norm(np.array([10.825, -13.258, 4.419])))), -pol, *args, **kwargs))\n",
    "        self.add_laser(beam_type(kmag*(np.array([10.825, 13.258, -4.419])/(np.linalg.norm(np.array([10.825, 13.258, -4.419])))), -pol, *args, **kwargs))\n",
    "        self.add_laser(beam_type(kmag*(np.array([-10.825, -13.258, 4.419])/(np.linalg.norm(np.array([-10.825, -13.258, 4.419])))), -pol, *args, **kwargs))\n",
    "        self.add_laser(beam_type(kmag*(np.array([-10.825, 13.258, -4.419])/(np.linalg.norm(np.array([-10.825, 13.258, -4.419])))), -pol, *args, **kwargs))\n",
    "        \n",
    "class rotDivGauss(pylcp.laserBeams):\n",
    "     def __init__(self, *args, **kwargs):\n",
    "        super().__init__()\n",
    "    \n",
    "        beam_type = kwargs.pop('beam_type', pylcp.laserBeam)\n",
    "        pol = kwargs.pop('pol', +1)\n",
    "        kmag = kwargs.pop('k', 1.)\n",
    "        beta = kwargs.pop('beta', 1.0)\n",
    "        delta = kwargs.pop('delta', -1.5*gammabar)\n",
    "        \n",
    "        self.add_laser(pylcp.gaussianBeam(kvec=kmag*np.array([0., 0., -1.]), \\\n",
    "                       pol=np.array([1., -1.j, 0])/np.sqrt(2), beta=1.0*beta, delta=delta, wb=4.65, r0=np.array([0., 0., 0.]), **kwargs))\n",
    "        self.add_laser(pylcp.gaussianBeam(kvec=kmag*np.array([0.612, 0.75, -0.25]), \\\n",
    "                       pol=np.array([1., 1.j, 0])/np.sqrt(2), beta=1.0*beta, delta=delta, wb=4.65, r0=np.array([0., 0., 0.]), **kwargs))\n",
    "        self.add_laser(pylcp.gaussianBeam(kvec=kmag*np.array([-0.612, 0.75, -0.25]), \\\n",
    "                       pol=np.array([1., 1.j, 0])/np.sqrt(2), beta=1.0*beta, delta=delta, wb=4.65, r0=np.array([0., 0., 0.]), **kwargs))\n",
    "        self.add_laser(pylcp.gaussianBeam(kvec=kmag*np.array([0., 0., 1.]), \\\n",
    "                      pol=np.array([1., -1.j, 0])/np.sqrt(2), beta=6.261e7*beta, delta=delta, wb=5.744e-4, r0=np.array([0., 0., -17.788]), **kwargs))\n",
    "        self.add_laser(pylcp.gaussianBeam(kvec=kmag*np.array([-0.612, -0.75, 0.25]), \\\n",
    "                       pol=np.array([1., 1.j, 0])/np.sqrt(2), beta=6.261e7*beta, delta=delta, wb=5.744e-4, r0=np.array([10.893, 13.341, -4.447]),**kwargs))\n",
    "        self.add_laser(pylcp.gaussianBeam(kvec=kmag*np.array([0.612, -0.75, 0.25]), \\\n",
    "                       pol=np.array([1., 1.j, 0])/np.sqrt(2), beta=6.261e7*beta, delta=delta, wb=5.744e-4, r0=np.array([-10.893, 13.341, -4.447]), **kwargs))\n",
    "    \n",
    "\n",
    "# Set up the laser beams with their appropriate characteristics\n",
    "# det is detuning of frequency\n",
    "# alpha relates to magnetic field gradient\n",
    "# beta is normalized intensity\n",
    "det = -1.5*gammabar\n",
    "beta = 1.0\n",
    "\n",
    "#beam_to_sim = pylcp.infinitePlaneWaveBeam\n",
    "beam_to_sim = pylcp.gaussianBeam\n",
    "#beam_to_sim = pylcp.collimatedGaussianBeam\n",
    "\n",
    "MOT_to_sim = conventional3DMOTBeams\n",
    "#MOT_to_sim = aPHIMOT\n",
    "#MOT_to_sim = rotDivGauss\n",
    "\n",
    "MOT_to_sim_kwargs = {'rotation_angles':[np.pi/4, 0., 0.]} # Extra arguments for conventional3DMOTBeams\n",
    "#MOT_to_sim_kwargs = {} # Extra arguments for aPHIMOT/rotDivGauss\n",
    "\n",
    "#laser_kwargs = {} # Use for rotDivGauss\n",
    "laser_kwargs = {'wb':wb} # Extra arguments for GaussianBeam\n",
    "#laser_kwargs = {'wb':1000*wb, 'rs':wb} # Extra arguments for clippedGaussianBeam\n",
    "\n",
    "laserBeams = MOT_to_sim(beta=beta, delta=det, beam_type=beam_to_sim, k=kbar, **laser_kwargs, **MOT_to_sim_kwargs) # kbar\n",
    "\n",
    "#print(laserBeams.pol())\n",
    "\n",
    "if (np.sum(np.isnan(laserBeams.pol()), axis=(0, 1)) > 0):\n",
    "    del laserBeams\n",
    "    laserBeams = MOT_to_sim(beta=beta, delta=det, beam_type=beam_to_sim, k=kbar, **laser_kwargs, **MOT_to_sim_kwargs)\n",
    "\n",
    "magField = pylcp.quadrupoleMagneticField(alpha)"
   ]
  },
  {
   "cell_type": "code",
   "execution_count": 4,
   "metadata": {},
   "outputs": [
    {
     "name": "stdout",
     "output_type": "stream",
     "text": [
      "Completed in 2.44 s.                                               \n"
     ]
    }
   ],
   "source": [
    "z = np.arange(-100, 100.01, 0.25)\n",
    "\n",
    "heuristic = pylcp.heuristiceq(laserBeams, magField, gamma=gammabar, mass=mbar)\n",
    "heuristic.generate_force_profile([np.zeros(z.shape), np.zeros(z.shape), z], np.zeros((3,) + z.shape), name='Fz', progress_bar=True)"
   ]
  },
  {
   "cell_type": "code",
   "execution_count": 5,
   "metadata": {},
   "outputs": [
    {
     "data": {
      "image/png": "[encoded data removed]",
      "text/plain": [
       "<Figure size 288x198 with 1 Axes>"
      ]
     },
     "metadata": {
      "needs_background": "light"
     },
     "output_type": "display_data"
    }
   ],
   "source": [
    "fig, ax = plt.subplots(1, 1, figsize=(4, 2.75))\n",
    "\n",
    "ax.plot(heuristic.profile['Fz'].R[2],\n",
    "           heuristic.profile['Fz'].F[2]/kbar/gammabar,\n",
    "           label='heuristic', linewidth=0.75)\n",
    "ax.set_ylabel('$F$')\n",
    "plt.show()"
   ]
  },
  {
   "cell_type": "code",
   "execution_count": 6,
   "metadata": {},
   "outputs": [
    {
     "data": {
      "text/plain": [
       "array([9.63749010e+03, 9.63749010e+03, 8.34564292e-13])"
      ]
     },
     "execution_count": 6,
     "metadata": {},
     "output_type": "execute_result"
    }
   ],
   "source": [
    "#laserBeams.beam_vector[0].kvec()"
   ]
  },
  {
   "cell_type": "code",
   "execution_count": null,
   "metadata": {},
   "outputs": [],
   "source": []
  }
 ],
 "metadata": {
  "kernelspec": {
   "display_name": "Python 3",
   "language": "python",
   "name": "python3"
  },
  "language_info": {
   "codemirror_mode": {
    "name": "ipython",
    "version": 3
   },
   "file_extension": ".py",
   "mimetype": "text/x-python",
   "name": "python",
   "nbconvert_exporter": "python",
   "pygments_lexer": "ipython3",
   "version": "3.7.6"
  }
 },
 "nbformat": 4,
 "nbformat_minor": 4
}
