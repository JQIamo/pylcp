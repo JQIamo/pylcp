{
 "cells": [
  {
   "cell_type": "code",
   "execution_count": 1,
   "metadata": {},
   "outputs": [],
   "source": [
    "import numpy as np\n",
    "import matplotlib.pyplot as plt\n",
    "import pylcp.fields as fields\n",
    "from scipy.spatial.transform import Rotation"
   ]
  },
  {
   "cell_type": "code",
   "execution_count": 2,
   "metadata": {},
   "outputs": [
    {
     "name": "stdout",
     "output_type": "stream",
     "text": [
      "[-0. -0.  0.]\n",
      "[[-0.5  0.   0. ]\n",
      " [ 0.  -0.5  0. ]\n",
      " [ 0.   0.   1. ]]\n"
     ]
    }
   ],
   "source": [
    "test_field = fields.magField(lambda R: np.array([-0.5*R[0], -0.5*R[1], 1*R[2]]))\n",
    "\n",
    "print(test_field.Field())\n",
    "print(test_field.gradField(np.array([5., 2., 1.])))"
   ]
  },
  {
   "cell_type": "code",
   "execution_count": 3,
   "metadata": {},
   "outputs": [
    {
     "name": "stdout",
     "output_type": "stream",
     "text": [
      "[-0.70710678+0.j          0.        +0.70710678j]\n",
      "[[ 0.  0.  1.]\n",
      " [ 0.  0. -1.]]\n",
      "[[0.+0.j 0.+0.j 1.+0.j]\n",
      " [0.+0.j 0.+0.j 1.+0.j]]\n",
      "[1. 1.]\n",
      "[[[ 0.        +0.j          0.        +0.j\n",
      "    0.        +0.j        ]\n",
      "  [ 0.        +0.j          0.        +0.j\n",
      "    0.        +0.j        ]\n",
      "  [ 0.        +0.j          0.        +0.j\n",
      "   -1.19001968-0.76410285j]]\n",
      "\n",
      " [[ 0.        +0.j          0.        +0.j\n",
      "    0.        +0.j        ]\n",
      "  [ 0.        +0.j          0.        +0.j\n",
      "    0.        +0.j        ]\n",
      "  [ 0.        +0.j          0.        +0.j\n",
      "    1.19001968+0.76410285j]]]\n"
     ]
    }
   ],
   "source": [
    "example_beams = fields.laserBeams([\n",
    "    {'kvec':np.array([0., 0., 1.]), 'pol':np.array([0., 0., 1.]),\n",
    "     'pol_coord':'spherical', 'delta':-2, 'beta': 1.},\n",
    "    {'kvec':np.array([0., 0., -1.]), 'pol':np.array([0., 0., 1.]),\n",
    "     'pol_coord':'spherical', 'delta':-2, 'beta': 1.},\n",
    "    ])\n",
    "\n",
    "print(example_beams.beam_vector[0].jones_vector(np.array([1., 0., 0.]), np.array([0., 1., 0.])))\n",
    "\n",
    "print(example_beams.kvec())\n",
    "print(example_beams.pol())\n",
    "print(example_beams.beta())\n",
    "print(example_beams.electric_field_gradient(np.array([0., 0., 0.]), 0.5))"
   ]
  },
  {
   "cell_type": "code",
   "execution_count": 4,
   "metadata": {},
   "outputs": [
    {
     "name": "stdout",
     "output_type": "stream",
     "text": [
      "[[[ 0.        +0.j          0.        +0.j\n",
      "    0.        +0.j        ]\n",
      "  [ 0.        +0.j          0.        +0.j\n",
      "    0.        +0.j        ]\n",
      "  [ 0.        +0.j          0.        +0.j\n",
      "   -1.19001968-0.76410285j]]\n",
      "\n",
      " [[ 0.        +0.j          0.        +0.j\n",
      "    0.        +0.j        ]\n",
      "  [ 0.        +0.j          0.        +0.j\n",
      "    0.        +0.j        ]\n",
      "  [ 0.        +0.j          0.        +0.j\n",
      "    1.19001968+0.76410285j]]]\n"
     ]
    }
   ],
   "source": [
    "example_beams_2 = fields.laserBeams([\n",
    "    {'kvec':np.array([0., 0., 1.]), 'pol':np.array([0., 0., 1.]),\n",
    "     'pol_coord':'spherical', 'delta':-2, 'beta': lambda R: 1.},\n",
    "    {'kvec':np.array([0., 0., -1.]), 'pol':np.array([0., 0., 1.]),\n",
    "     'pol_coord':'spherical', 'delta':-2, 'beta': lambda R: 1.},\n",
    "    ])\n",
    "\n",
    "print(example_beams_2.electric_field_gradient(np.array([0., 0., 0.]), 0.5))"
   ]
  },
  {
   "cell_type": "code",
   "execution_count": 5,
   "metadata": {},
   "outputs": [
    {
     "name": "stdout",
     "output_type": "stream",
     "text": [
      "162 µs ± 303 ns per loop (mean ± std. dev. of 7 runs, 10000 loops each)\n",
      "104 µs ± 100 ns per loop (mean ± std. dev. of 7 runs, 10000 loops each)\n"
     ]
    }
   ],
   "source": [
    "# test implementations of rho squared for gaussian Beams.\n",
    "rvals = np.random.rand(3)\n",
    "mat = np.random.rand(3,100,100)\n",
    "Rtest = np.array([mat, mat, mat])\n",
    "%timeit sum((rvals[jj]*Rtest[jj])**2 for jj in range(len(Rtest)))\n",
    "%timeit np.einsum('i,i...->...',rvals**2, Rtest**2)"
   ]
  },
  {
   "cell_type": "code",
   "execution_count": 6,
   "metadata": {},
   "outputs": [
    {
     "data": {
      "image/png": "[encoded data removed]",
      "text/plain": [
       "<Figure size 234x180 with 1 Axes>"
      ]
     },
     "metadata": {
      "needs_background": "light"
     },
     "output_type": "display_data"
    },
    {
     "data": {
      "image/png": "[encoded data removed]",
      "text/plain": [
       "<Figure size 234x180 with 1 Axes>"
      ]
     },
     "metadata": {
      "needs_background": "light"
     },
     "output_type": "display_data"
    }
   ],
   "source": [
    "example_beam = fields.gaussianBeam(kvec=np.array([0., 0., 1.]), pol=+1, beta=5, delta=-2, wb=1)\n",
    "\n",
    "X, Y = np.meshgrid(np.linspace(-2, 2, 101),\n",
    "                   np.linspace(-2, 2, 101))\n",
    "Rt=np.array([X, Y, np.zeros(X.shape)])\n",
    "tt=np.zeros(X.shape)\n",
    "\n",
    "plt.figure(\"Gaussian Beam\", figsize=(3.25, 2.5))\n",
    "plt.clf()\n",
    "plt.imshow(example_beam.beta(R=Rt,t=tt),\n",
    "           origin='lower',\n",
    "           extent=(-2, 2,\n",
    "                   -2, 2))\n",
    "plt.clim((0, 5))\n",
    "plt.set_cmap('viridis')\n",
    "\n",
    "example_beam = fields.clippedGaussianBeam(kvec=np.array([0., 0., 1.]),\n",
    "                                          pol=np.array([-1/np.sqrt(2), 1j/np.sqrt(2), 0]),\n",
    "                                          pol_coord='cartesian',\n",
    "                                          beta=5, delta=-2, wb=1, rs=0.75)\n",
    "\n",
    "plt.figure(\"clipped Gaussian Beam\", figsize=(3.25, 2.5))\n",
    "plt.clf()\n",
    "plt.imshow(example_beam.beta(R=Rt,t=tt),\n",
    "           origin='lower',\n",
    "           extent=(-2, 2,\n",
    "                   -2, 2))\n",
    "plt.clim((0, 5))\n",
    "plt.set_cmap('viridis')"
   ]
  },
  {
   "cell_type": "code",
   "execution_count": 9,
   "metadata": {},
   "outputs": [
    {
     "name": "stdout",
     "output_type": "stream",
     "text": [
      "[[0.-1.58113883j 0.-2.23606798j 0.-1.58113883j]\n",
      " [0.+0.j         0.+0.j         0.+0.j        ]\n",
      " [0.+0.j         0.+0.j         0.+0.j        ]]\n",
      "(3, 3, 101)\n"
     ]
    },
    {
     "data": {
      "image/png": "[encoded data removed]",
      "text/plain": [
       "<Figure size 234x180 with 1 Axes>"
      ]
     },
     "metadata": {
      "needs_background": "light"
     },
     "output_type": "display_data"
    }
   ],
   "source": [
    "example_beam = fields.infinitePlaneWaveBeam(np.array([1., 0., 0.]), +1, 5, -2)\n",
    "print(example_beam.electric_field_gradient(np.array([0., 0., 0.]), 0.))\n",
    "\n",
    "R = np.random.rand(3, 101)\n",
    "t = np.linspace(0, 10, 101)\n",
    "print(example_beam.electric_field_gradient(R, t).shape)\n",
    "\n",
    "MOT_beams = fields.conventional3DMOTBeams(delta=-2, beta=1, beam_type=fields.gaussianBeam, wb=1,\n",
    "                                          rotation_angles=[np.pi/4, np.pi/8, np.pi/8])\n",
    "MOT_beams.beam_vector[1].kvec()\n",
    "\n",
    "X, Y = np.meshgrid(np.linspace(-2, 2, 101),\n",
    "                   np.linspace(-2, 2, 101))\n",
    "Rt=np.array([X, Y, np.zeros(X.shape)])\n",
    "tt=np.zeros(X.shape)\n",
    "plt.figure(\"3D-MOT Beams\", figsize=(3.25, 2.5))\n",
    "plt.clf()\n",
    "plt.imshow(np.sum(MOT_beams.beta(R=Rt,t=tt),axis=0),\n",
    "           origin='lower',\n",
    "           extent=(-2, 2,\n",
    "                   -2, 2))\n",
    "plt.clim((0, 6))\n",
    "plt.set_cmap('viridis')"
   ]
  },
  {
   "cell_type": "code",
   "execution_count": null,
   "metadata": {},
   "outputs": [],
   "source": []
  }
 ],
 "metadata": {
  "kernelspec": {
   "display_name": "Python 3",
   "language": "python",
   "name": "python3"
  },
  "language_info": {
   "codemirror_mode": {
    "name": "ipython",
    "version": 3
   },
   "file_extension": ".py",
   "mimetype": "text/x-python",
   "name": "python",
   "nbconvert_exporter": "python",
   "pygments_lexer": "ipython3",
   "version": "3.7.6"
  }
 },
 "nbformat": 4,
 "nbformat_minor": 4
}
