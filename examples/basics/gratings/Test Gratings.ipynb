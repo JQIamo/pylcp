{
 "cells": [
  {
   "cell_type": "code",
   "execution_count": 43,
   "metadata": {},
   "outputs": [],
   "source": [
    "import numpy as np\n",
    "#import matplotlib\n",
    "#%matplotlib notebook\n",
    "import matplotlib.pyplot as plt\n",
    "from pylcp.gratings import (maskedGaussianGratingMOTBeams,\n",
    "                            infiniteGratingMOTBeams)\n",
    "import cProfile, pstats, io"
   ]
  },
  {
   "cell_type": "markdown",
   "metadata": {},
   "source": [
    "### Let's plot up the intensity profiles at various z:"
   ]
  },
  {
   "cell_type": "code",
   "execution_count": 44,
   "metadata": {},
   "outputs": [
    {
     "data": {
      "image/png": "[encoded data removed]",
      "text/plain": [
       "<Figure size 288x324 with 12 Axes>"
      ]
     },
     "metadata": {
      "needs_background": "light"
     },
     "output_type": "display_data"
    }
   ],
   "source": [
    "zchip = 1.0\n",
    "nr=3\n",
    "testBeams = maskedGaussianGratingMOTBeams(\n",
    "    delta=-1., s=1., nr=nr, thd=np.pi/4,\n",
    "    pol=np.array([-1/np.sqrt(2), 1j/np.sqrt(2), 0]),\n",
    "    reflected_pol=np.array([np.pi, 0]),\n",
    "    reflected_pol_basis='poincare', eta=None, eta0=None,\n",
    "    wb=21.0, rs=13.0, center_hole=1.5,\n",
    "    outer_radius=11.0, zgrating=zchip, grating_angle=0\n",
    ")\n",
    "\n",
    "# Trigger numba to compile the beta code:\n",
    "testBeams.beam_vector[0].beta()\n",
    "testBeams.beam_vector[1].beta()\n",
    "\n",
    "x_beta = 15\n",
    "X, Y = np.meshgrid(np.linspace(-x_beta, x_beta, 101),\n",
    "                   np.linspace(-x_beta, x_beta, 101))\n",
    "z_tests = [zchip-5, zchip-1e-9, zchip+5]\n",
    "\n",
    "plt.figure(\"Laser Beams\", figsize=(4, 1.5*nr))\n",
    "plt.clf()\n",
    "pr = cProfile.Profile()\n",
    "\n",
    "for jj, laserBeam in enumerate(testBeams.beam_vector):\n",
    "    for ii, z_test in enumerate(z_tests):\n",
    "        Z = z_test*np.ones(X.shape)\n",
    "        it = np.nditer([X, Y, Z, None])\n",
    "        Rt=np.array([X, Y, Z])\n",
    "\n",
    "        \"\"\"pr.enable()\n",
    "        for (x, y, z, beta) in it:\n",
    "            beta[...] = laserBeam.beta(np.array([x, y, z]), 0.)\n",
    "        pr.disable()\n",
    "        \n",
    "        BETA = it.operands[3]\"\"\"\n",
    "        \n",
    "        pr.enable()\n",
    "        BETA = laserBeam.beta(Rt)\n",
    "        pr.disable()\n",
    "        \n",
    "        plt.subplot(len(testBeams.beam_vector), len(z_tests), jj*len(z_tests)+ii+1)\n",
    "        plt.imshow(BETA, origin='lower',\n",
    "                   extent=(-x_beta, x_beta,\n",
    "                           -x_beta, x_beta))\n",
    "        plt.clim((0, 1))\n",
    "        plt.set_cmap('jet')\n",
    "        # Make a cross-hair:\n",
    "        plt.plot([0, 0], [-x_beta, x_beta],\n",
    "                 'w-', linewidth=0.25)\n",
    "        plt.plot([-x_beta, x_beta], [0, 0],\n",
    "                 'w-', linewidth=0.25)"
   ]
  },
  {
   "cell_type": "markdown",
   "metadata": {},
   "source": [
    "Print out performance specs:"
   ]
  },
  {
   "cell_type": "code",
   "execution_count": 45,
   "metadata": {},
   "outputs": [
    {
     "name": "stdout",
     "output_type": "stream",
     "text": [
      "         126 function calls in 0.006 seconds\n",
      "\n",
      "   Ordered by: cumulative time\n",
      "\n",
      "   ncalls  tottime  percall  cumtime  percall filename:lineno(function)\n",
      "        9    0.001    0.000    0.005    0.001 /Users/steve/GitHub/packages/pylcp/gratings.py:402(beta)\n",
      "        9    0.003    0.000    0.003    0.000 /Users/steve/GitHub/packages/pylcp/gratings.py:365(mask)\n",
      "        3    0.001    0.000    0.001    0.000 /Users/steve/GitHub/packages/pylcp/gratings.py:276(beta)\n",
      "        9    0.001    0.000    0.001    0.000 /Users/steve/GitHub/packages/pylcp/gratings.py:353(back_project)\n",
      "        9    0.000    0.000    0.000    0.000 {built-in method numpy.array}\n",
      "       12    0.000    0.000    0.000    0.000 {method 'astype' of 'numpy.ndarray' objects}\n",
      "       12    0.000    0.000    0.000    0.000 /Users/steve/opt/anaconda3/lib/python3.7/site-packages/numpy/core/numeric.py:159(ones)\n",
      "       12    0.000    0.000    0.000    0.000 <__array_function__ internals>:2(copyto)\n",
      "       12    0.000    0.000    0.000    0.000 {built-in method numpy.core._multiarray_umath.implement_array_function}\n",
      "       12    0.000    0.000    0.000    0.000 {built-in method numpy.empty}\n",
      "       12    0.000    0.000    0.000    0.000 /Users/steve/opt/anaconda3/lib/python3.7/site-packages/numpy/core/multiarray.py:1043(copyto)\n",
      "        3    0.000    0.000    0.000    0.000 {built-in method builtins.isinstance}\n",
      "       12    0.000    0.000    0.000    0.000 {method 'disable' of '_lsprof.Profiler' objects}\n",
      "\n",
      "\n",
      "\n"
     ]
    }
   ],
   "source": [
    "s = io.StringIO()\n",
    "sortby = 'cumtime'\n",
    "ps = pstats.Stats(pr, stream=s).sort_stats(sortby)\n",
    "ps.print_stats()\n",
    "print(s.getvalue())"
   ]
  },
  {
   "cell_type": "markdown",
   "metadata": {},
   "source": [
    "### Now, let's try to plot it up along one axis:"
   ]
  },
  {
   "cell_type": "code",
   "execution_count": 46,
   "metadata": {},
   "outputs": [
    {
     "data": {
      "text/plain": [
       "[<matplotlib.lines.Line2D at 0x1825cf9390>]"
      ]
     },
     "execution_count": 46,
     "metadata": {},
     "output_type": "execute_result"
    },
    {
     "data": {
      "image/png": "[encoded data removed]",
      "text/plain": [
       "<Figure size 432x288 with 1 Axes>"
      ]
     },
     "metadata": {
      "needs_background": "light"
     },
     "output_type": "display_data"
    }
   ],
   "source": [
    "x = np.linspace(-20, 20, 101)\n",
    "y = np.zeros(x.shape)\n",
    "z = (zchip - 5.)*np.ones(x.shape)\n",
    "\n",
    "beta = testBeams.beta( np.array([x, y, z]))\n",
    "\n",
    "fig, ax = plt.subplots(1, 1)\n",
    "ax.plot(x, beta.T)\n",
    "ax.plot(x, np.exp(-2*x**2/21**2), 'k--', linewidth=0.75)\n",
    "#ax.plot(x, 0.33/np.cos(np.pi/4)*np.exp(-2*(x-5.*np.sin(np.pi/3))**2/21**2), '--')\n",
    "ax.plot(x, 1./3./np.cos(np.pi/4)*np.exp(-2*(x+5.)**2/21**2), 'k--', linewidth=0.75)"
   ]
  },
  {
   "cell_type": "code",
   "execution_count": 38,
   "metadata": {},
   "outputs": [
    {
     "name": "stdout",
     "output_type": "stream",
     "text": [
      "[0. 0. 1.]\n",
      "[-0.70710678 -0.         -0.70710678]\n",
      "[ 0.35355339 -0.61237244 -0.70710678]\n",
      "[ 0.35355339  0.61237244 -0.70710678]\n"
     ]
    },
    {
     "data": {
      "image/png": "[encoded data removed]",
      "text/plain": [
       "<Figure size 288x324 with 4 Axes>"
      ]
     },
     "metadata": {
      "needs_background": "light"
     },
     "output_type": "display_data"
    }
   ],
   "source": [
    "nr=3\n",
    "testBeams = infiniteGratingMOTBeams(delta=-1., s=1., nr=nr, thd=np.pi/4,\n",
    "                                    pol=np.array([-1/np.sqrt(2), 1j/np.sqrt(2), 0]),\n",
    "                                    reflected_pol=np.array([np.pi, 0]),\n",
    "                                    reflected_pol_basis='poincare',\n",
    "                                    eta=None,\n",
    "                                    grating_angle=0)\n",
    "x_beta = 2\n",
    "X, Y = np.meshgrid(np.linspace(-x_beta, x_beta, 101),\n",
    "                   np.linspace(-x_beta, x_beta, 101))\n",
    "z_tests = [0]\n",
    "\n",
    "plt.figure(\"Infinite Beams\", figsize=(4, 1.5*nr))\n",
    "plt.clf()\n",
    "for jj, laserBeam in enumerate(testBeams.beam_vector):\n",
    "    for ii, z_test in enumerate(z_tests):\n",
    "        plt.subplot(len(testBeams.beam_vector), len(z_tests), jj*len(z_tests)+ii+1)\n",
    "        Rt=np.array([X, Y, z_test*np.ones(X.shape)])\n",
    "        tt=np.zeros(X.shape)\n",
    "        print(laserBeam.kvec())\n",
    "        plt.imshow(laserBeam.beta(R=Rt,t=tt),\n",
    "                   origin='lower',\n",
    "                   extent=(-x_beta, x_beta,\n",
    "                           -x_beta, x_beta))\n",
    "        plt.clim((0, 1))\n",
    "        plt.set_cmap('jet')\n",
    "        # Make a cross-hair:\n",
    "        plt.plot([0, 0], [-x_beta, x_beta],\n",
    "                 'w-', linewidth=0.25)\n",
    "        plt.plot([-x_beta, x_beta], [0, 0],\n",
    "                 'w-', linewidth=0.25)"
   ]
  },
  {
   "cell_type": "code",
   "execution_count": 41,
   "metadata": {},
   "outputs": [
    {
     "name": "stdout",
     "output_type": "stream",
     "text": [
      "[1.         0.47140452 0.47140452 0.47140452] 0.4714045207910316\n"
     ]
    }
   ],
   "source": [
    "print(testBeams.beta(), 1/3/np.cos(np.pi/4))"
   ]
  },
  {
   "cell_type": "code",
   "execution_count": null,
   "metadata": {},
   "outputs": [],
   "source": []
  }
 ],
 "metadata": {
  "kernelspec": {
   "display_name": "Python 3",
   "language": "python",
   "name": "python3"
  },
  "language_info": {
   "codemirror_mode": {
    "name": "ipython",
    "version": 3
   },
   "file_extension": ".py",
   "mimetype": "text/x-python",
   "name": "python",
   "nbconvert_exporter": "python",
   "pygments_lexer": "ipython3",
   "version": "3.7.6"
  }
 },
 "nbformat": 4,
 "nbformat_minor": 4
}
