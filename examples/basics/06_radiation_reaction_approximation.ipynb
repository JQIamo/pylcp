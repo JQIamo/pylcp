{
 "cells": [
  {
   "cell_type": "markdown",
   "metadata": {},
   "source": [
    "author: @SteveEckel\n",
    "\n",
    "A simple script to test the creation of the radiation reaction approximation"
   ]
  },
  {
   "cell_type": "code",
   "execution_count": 11,
   "metadata": {},
   "outputs": [],
   "source": [
    "import numpy as np\n",
    "import matplotlib.pyplot as plt\n",
    "import pylcp\n",
    "from pylcp.common import spherical2cart\n",
    "from scipy.integrate import solve_ivp\n",
    "import time\n",
    "plt.style.use('paper')"
   ]
  },
  {
   "cell_type": "markdown",
   "metadata": {},
   "source": [
    "Define a really, really, simple problem:"
   ]
  },
  {
   "cell_type": "code",
   "execution_count": 16,
   "metadata": {},
   "outputs": [
    {
     "name": "stdout",
     "output_type": "stream",
     "text": [
      "[[((<g|H_0|g> 1x1), (<g|mu_q|g> 1x1)) (<g|d_q|e> 1x1)]\n",
      " [(<e|d_q|g> 1x1) ((<e|H_0|e> 1x1), (<e|mu_q|e> 1x1))]]\n"
     ]
    }
   ],
   "source": [
    "laserBeams = pylcp.laserBeams([\n",
    "    {'kvec': np.array([1., 0., 0.]), 'pol':np.array([0., 1., 0.]), 'delta':0., 'beta':2.0}\n",
    "    ])\n",
    "\n",
    "# Then the magnetic field:\n",
    "magField = lambda R: np.zeros(R.shape)\n",
    "\n",
    "# %%\n",
    "# Now define the extremely simple Hamiltonian:\n",
    "Hg = np.array([[0.]])\n",
    "mugq = np.array([[[0.]], [[0.]], [[0.]]])\n",
    "He = np.array([[0.]])\n",
    "mueq = np.array([[[0.]], [[0.]], [[0.]]])\n",
    "dijq = np.array([[[0.]], [[1.]], [[0.]]])\n",
    "\n",
    "hamiltonian = pylcp.hamiltonian(Hg, He, mugq, mueq, dijq)\n",
    "hamiltonian.print_structure()\n",
    "\n",
    "H_g, muq_g = pylcp.hamiltonians.singleF(F=0, gF=1, muB=1)\n",
    "H_e, mue_q = pylcp.hamiltonians.singleF(F=1, gF=1, muB=1)\n",
    "d_q = pylcp.hamiltonians.dqij_two_bare_hyperfine(0, 1)\n",
    "hamiltonian = pylcp.hamiltonian()\n",
    "hamiltonian.add_H_0_block('g', H_g)\n",
    "hamiltonian.add_H_0_block('e', H_e-0.*np.eye(H_e.shape[0]))\n",
    "hamiltonian.add_d_q_block('g', 'e', d_q, gamma=1.)"
   ]
  },
  {
   "cell_type": "markdown",
   "metadata": {},
   "source": [
    "Define a function for applying the radiation reaction approximation:"
   ]
  },
  {
   "cell_type": "code",
   "execution_count": 21,
   "metadata": {},
   "outputs": [
    {
     "name": "stdout",
     "output_type": "stream",
     "text": [
      "[[ 0.+0.j  0.+0.j  0.+0.j  0.+0.j  0.+0.j  2.+0.j  0.+0.j  0.+0.j  0.+0.j\n",
      "   0.+0.j  2.+0.j  0.+0.j  0.+0.j  0.+0.j  0.+0.j  2.+0.j]\n",
      " [ 0.+0.j -1.+0.j  0.+0.j  0.+0.j  0.+0.j  0.+0.j  0.+0.j  0.+0.j  0.+0.j\n",
      "   0.+0.j  0.+0.j  0.+0.j  0.+0.j  0.+0.j  0.+0.j  0.+0.j]\n",
      " [ 0.+0.j  0.+0.j -1.+0.j  0.+0.j  0.+0.j  0.+0.j  0.+0.j  0.+0.j  0.+0.j\n",
      "   0.+0.j  0.+0.j  0.+0.j  0.+0.j  0.+0.j  0.+0.j  0.+0.j]\n",
      " [ 0.+0.j  0.+0.j  0.+0.j -1.+0.j  0.+0.j  0.+0.j  0.+0.j  0.+0.j  0.+0.j\n",
      "   0.+0.j  0.+0.j  0.+0.j  0.+0.j  0.+0.j  0.+0.j  0.+0.j]\n",
      " [ 0.+0.j  0.+0.j  0.+0.j  0.+0.j -1.+0.j  0.+0.j  0.+0.j  0.+0.j  0.+0.j\n",
      "   0.+0.j  0.+0.j  0.+0.j  0.+0.j  0.+0.j  0.+0.j  0.+0.j]\n",
      " [ 0.+0.j  0.+0.j  0.+0.j  0.+0.j  0.+0.j -2.+0.j  0.+0.j  0.+0.j  0.+0.j\n",
      "   0.+0.j  0.+0.j  0.+0.j  0.+0.j  0.+0.j  0.+0.j  0.+0.j]\n",
      " [ 0.+0.j  0.+0.j  0.+0.j  0.+0.j  0.+0.j  0.+0.j -2.+0.j  0.+0.j  0.+0.j\n",
      "   0.+0.j  0.+0.j  0.+0.j  0.+0.j  0.+0.j  0.+0.j  0.+0.j]\n",
      " [ 0.+0.j  0.+0.j  0.+0.j  0.+0.j  0.+0.j  0.+0.j  0.+0.j -2.+0.j  0.+0.j\n",
      "   0.+0.j  0.+0.j  0.+0.j  0.+0.j  0.+0.j  0.+0.j  0.+0.j]\n",
      " [ 0.+0.j  0.+0.j  0.+0.j  0.+0.j  0.+0.j  0.+0.j  0.+0.j  0.+0.j -1.+0.j\n",
      "   0.+0.j  0.+0.j  0.+0.j  0.+0.j  0.+0.j  0.+0.j  0.+0.j]\n",
      " [ 0.+0.j  0.+0.j  0.+0.j  0.+0.j  0.+0.j  0.+0.j  0.+0.j  0.+0.j  0.+0.j\n",
      "  -2.+0.j  0.+0.j  0.+0.j  0.+0.j  0.+0.j  0.+0.j  0.+0.j]\n",
      " [ 0.+0.j  0.+0.j  0.+0.j  0.+0.j  0.+0.j  0.+0.j  0.+0.j  0.+0.j  0.+0.j\n",
      "   0.+0.j -2.+0.j  0.+0.j  0.+0.j  0.+0.j  0.+0.j  0.+0.j]\n",
      " [ 0.+0.j  0.+0.j  0.+0.j  0.+0.j  0.+0.j  0.+0.j  0.+0.j  0.+0.j  0.+0.j\n",
      "   0.+0.j  0.+0.j -2.+0.j  0.+0.j  0.+0.j  0.+0.j  0.+0.j]\n",
      " [ 0.+0.j  0.+0.j  0.+0.j  0.+0.j  0.+0.j  0.+0.j  0.+0.j  0.+0.j  0.+0.j\n",
      "   0.+0.j  0.+0.j  0.+0.j -1.+0.j  0.+0.j  0.+0.j  0.+0.j]\n",
      " [ 0.+0.j  0.+0.j  0.+0.j  0.+0.j  0.+0.j  0.+0.j  0.+0.j  0.+0.j  0.+0.j\n",
      "   0.+0.j  0.+0.j  0.+0.j  0.+0.j -2.+0.j  0.+0.j  0.+0.j]\n",
      " [ 0.+0.j  0.+0.j  0.+0.j  0.+0.j  0.+0.j  0.+0.j  0.+0.j  0.+0.j  0.+0.j\n",
      "   0.+0.j  0.+0.j  0.+0.j  0.+0.j  0.+0.j -2.+0.j  0.+0.j]\n",
      " [ 0.+0.j  0.+0.j  0.+0.j  0.+0.j  0.+0.j  0.+0.j  0.+0.j  0.+0.j  0.+0.j\n",
      "   0.+0.j  0.+0.j  0.+0.j  0.+0.j  0.+0.j  0.+0.j -2.+0.j]]\n",
      "[[ 0. +0.j  0. +0.j  0. +0.j  0. +0.j  0. +0.j  1. +0.j  0. +0.j  0. +0.j\n",
      "   0. +0.j  0. +0.j  1. +0.j  0. +0.j  0. +0.j  0. +0.j  0. +0.j  1. +0.j]\n",
      " [ 0. +0.j -0.5+0.j  0. +0.j  0. +0.j  0. +0.j  0. +0.j  0. +0.j  0. +0.j\n",
      "   0. +0.j  0. +0.j  0. +0.j  0. +0.j  0. +0.j  0. +0.j  0. +0.j  0. +0.j]\n",
      " [ 0. +0.j  0. +0.j -0.5+0.j  0. +0.j  0. +0.j  0. +0.j  0. +0.j  0. +0.j\n",
      "   0. +0.j  0. +0.j  0. +0.j  0. +0.j  0. +0.j  0. +0.j  0. +0.j  0. +0.j]\n",
      " [ 0. +0.j  0. +0.j  0. +0.j -0.5+0.j  0. +0.j  0. +0.j  0. +0.j  0. +0.j\n",
      "   0. +0.j  0. +0.j  0. +0.j  0. +0.j  0. +0.j  0. +0.j  0. +0.j  0. +0.j]\n",
      " [ 0. +0.j  0. +0.j  0. +0.j  0. +0.j -0.5+0.j  0. +0.j  0. +0.j  0. +0.j\n",
      "   0. +0.j  0. +0.j  0. +0.j  0. +0.j  0. +0.j  0. +0.j  0. +0.j  0. +0.j]\n",
      " [ 0. +0.j  0. +0.j  0. +0.j  0. +0.j  0. +0.j -1. +0.j  0. +0.j  0. +0.j\n",
      "   0. +0.j  0. +0.j  0. +0.j  0. +0.j  0. +0.j  0. +0.j  0. +0.j  0. +0.j]\n",
      " [ 0. +0.j  0. +0.j  0. +0.j  0. +0.j  0. +0.j  0. +0.j -1. +0.j  0. +0.j\n",
      "   0. +0.j  0. +0.j  0. +0.j  0. +0.j  0. +0.j  0. +0.j  0. +0.j  0. +0.j]\n",
      " [ 0. +0.j  0. +0.j  0. +0.j  0. +0.j  0. +0.j  0. +0.j  0. +0.j -1. +0.j\n",
      "   0. +0.j  0. +0.j  0. +0.j  0. +0.j  0. +0.j  0. +0.j  0. +0.j  0. +0.j]\n",
      " [ 0. +0.j  0. +0.j  0. +0.j  0. +0.j  0. +0.j  0. +0.j  0. +0.j  0. +0.j\n",
      "  -0.5+0.j  0. +0.j  0. +0.j  0. +0.j  0. +0.j  0. +0.j  0. +0.j  0. +0.j]\n",
      " [ 0. +0.j  0. +0.j  0. +0.j  0. +0.j  0. +0.j  0. +0.j  0. +0.j  0. +0.j\n",
      "   0. +0.j -1. +0.j  0. +0.j  0. +0.j  0. +0.j  0. +0.j  0. +0.j  0. +0.j]\n",
      " [ 0. +0.j  0. +0.j  0. +0.j  0. +0.j  0. +0.j  0. +0.j  0. +0.j  0. +0.j\n",
      "   0. +0.j  0. +0.j -1. +0.j  0. +0.j  0. +0.j  0. +0.j  0. +0.j  0. +0.j]\n",
      " [ 0. +0.j  0. +0.j  0. +0.j  0. +0.j  0. +0.j  0. +0.j  0. +0.j  0. +0.j\n",
      "   0. +0.j  0. +0.j  0. +0.j -1. +0.j  0. +0.j  0. +0.j  0. +0.j  0. +0.j]\n",
      " [ 0. +0.j  0. +0.j  0. +0.j  0. +0.j  0. +0.j  0. +0.j  0. +0.j  0. +0.j\n",
      "   0. +0.j  0. +0.j  0. +0.j  0. +0.j -0.5+0.j  0. +0.j  0. +0.j  0. +0.j]\n",
      " [ 0. +0.j  0. +0.j  0. +0.j  0. +0.j  0. +0.j  0. +0.j  0. +0.j  0. +0.j\n",
      "   0. +0.j  0. +0.j  0. +0.j  0. +0.j  0. +0.j -1. +0.j  0. +0.j  0. +0.j]\n",
      " [ 0. +0.j  0. +0.j  0. +0.j  0. +0.j  0. +0.j  0. +0.j  0. +0.j  0. +0.j\n",
      "   0. +0.j  0. +0.j  0. +0.j  0. +0.j  0. +0.j  0. +0.j -1. +0.j  0. +0.j]\n",
      " [ 0. +0.j  0. +0.j  0. +0.j  0. +0.j  0. +0.j  0. +0.j  0. +0.j  0. +0.j\n",
      "   0. +0.j  0. +0.j  0. +0.j  0. +0.j  0. +0.j  0. +0.j  0. +0.j -1. +0.j]]\n",
      "True\n"
     ]
    }
   ],
   "source": [
    "obe = pylcp.obe(laserBeams, magField, hamiltonian)\n",
    "\n",
    "def build_decay_ev(self):\n",
    "    \"\"\"\n",
    "    This method constructs the decay portion of the OBE using the radiation\n",
    "    reaction approximation.\n",
    "    \"\"\"\n",
    "    d_q_bare = self.hamiltonian.d_q_bare\n",
    "    d_q_star = self.hamiltonian.d_q_star\n",
    "\n",
    "    ev_mat = np.zeros((self.hamiltonian.n**2, self.hamiltonian.n**2),\n",
    "                       dtype='complex128')\n",
    "\n",
    "    for key in d_q_bare:\n",
    "        d_q = d_q_bare[key] + d_q_star[key]\n",
    "        # The first index we want to capture:\n",
    "        for ii in range(self.hamiltonian.n):\n",
    "            # The second index we want to capture:\n",
    "            for jj in range(self.hamiltonian.n):\n",
    "                # The first sum index:\n",
    "                for kk in range(self.hamiltonian.n):\n",
    "                    # The second sum index:\n",
    "                    for ll in range(self.hamiltonian.n):\n",
    "                        for mm, q in enumerate(np.arange(-1., 2., 1)):\n",
    "                            # first term in the commutator, first part:\n",
    "                            ev_mat[self._obe__density_index(ii, jj),\n",
    "                                   self._obe__density_index(ll, jj)] -= \\\n",
    "                            d_q_star[key][mm, ll, kk]*d_q_bare[key][mm, kk, ii]\n",
    "                            # first term in the commutator, second part:\n",
    "                            ev_mat[self._obe__density_index(ii, jj),\n",
    "                                   self._obe__density_index(kk, ll)] += \\\n",
    "                            d_q_star[key][mm, kk, ii]*d_q_bare[key][mm, jj, ll]\n",
    "\n",
    "                            # second term in the commutator, first part:\n",
    "                            ev_mat[self._obe__density_index(ii, jj),\n",
    "                                   self._obe__density_index(ll, kk)] += \\\n",
    "                            d_q_star[key][mm, ll, ii]*d_q_bare[key][mm, jj, kk]\n",
    "                            # second term in the commutator, second part:\n",
    "                            ev_mat[self._obe__density_index(ii, jj),\n",
    "                                   self._obe__density_index(ii, ll)] -= \\\n",
    "                            d_q_star[key][mm, jj, kk]*d_q_bare[key][mm, kk, ll]\n",
    "    return ev_mat\n",
    "\n",
    "ev_mat = build_decay_ev(obe)\n",
    "print(ev_mat)\n",
    "print(obe.ev_mat['decay'])\n",
    "print(np.allclose(ev_mat/2, obe.ev_mat['decay']))"
   ]
  },
  {
   "cell_type": "code",
   "execution_count": null,
   "metadata": {},
   "outputs": [],
   "source": []
  }
 ],
 "metadata": {
  "kernelspec": {
   "display_name": "Python 3",
   "language": "python",
   "name": "python3"
  },
  "language_info": {
   "codemirror_mode": {
    "name": "ipython",
    "version": 3
   },
   "file_extension": ".py",
   "mimetype": "text/x-python",
   "name": "python",
   "nbconvert_exporter": "python",
   "pygments_lexer": "ipython3",
   "version": "3.7.6"
  }
 },
 "nbformat": 4,
 "nbformat_minor": 4
}
