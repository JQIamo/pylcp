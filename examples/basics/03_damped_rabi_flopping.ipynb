{
 "cells": [
  {
   "cell_type": "markdown",
   "metadata": {},
   "source": [
    "author: @SteveEckel\n",
    "\n",
    "This little script tests damped Rabi flopping as calculated with the optical\n",
    "Bloch equations."
   ]
  },
  {
   "cell_type": "code",
   "execution_count": 19,
   "metadata": {},
   "outputs": [],
   "source": [
    "import numpy as np\n",
    "import matplotlib.pyplot as plt\n",
    "import pylcp\n",
    "import pylcp.rateeq\n",
    "import pylcp.obe\n",
    "from scipy.integrate import solve_ivp\n",
    "plt.style.use('paper')"
   ]
  },
  {
   "cell_type": "markdown",
   "metadata": {},
   "source": [
    "### Define the problem to start:"
   ]
  },
  {
   "cell_type": "code",
   "execution_count": 37,
   "metadata": {},
   "outputs": [
    {
     "name": "stdout",
     "output_type": "stream",
     "text": [
      "[[((<g|H_0|g> 1x1), (<g|mu_q|g> 1x1)) (<g|d_q|e> 1x1)]\n",
      " [(<e|d_q|g> 1x1) ((<e|H_0|e> 1x1), (<e|mu_q|e> 1x1))]]\n"
     ]
    }
   ],
   "source": [
    "ham_det = -2.\n",
    "laser_det = -2.\n",
    "\n",
    "laserBeams = []\n",
    "laserBeams.append(pylcp.laserBeam(np.array([1., 0., 0.]),\n",
    "                                  pol=np.array([0., 0., 1.]),\n",
    "                                  pol_coord='cartesian',\n",
    "                                  delta=laser_det, beta=20.))\n",
    "\"\"\"laserBeams.append(pylcp.laserBeam(np.array([1., 0., 0.]),\n",
    "                                  pol=np.array([0., 0., 1.]),\n",
    "                                  delta=0, beta=lambda R, k: 3))\"\"\"\n",
    "magField = lambda R: np.zeros(R.shape)\n",
    "\n",
    "# Now define the extremely simple Hamiltonian:\n",
    "Hg = np.array([[0.]])\n",
    "mugq = np.array([[[0.]], [[0.]], [[0.]]])\n",
    "He = np.array([[-ham_det]])\n",
    "mueq = np.array([[[0.]], [[0.]], [[0.]]])\n",
    "dijq = np.array([[[0.]], [[1.]], [[0.]]])\n",
    "\n",
    "gamma = 1.\n",
    "\n",
    "hamiltonian = pylcp.hamiltonian()\n",
    "hamiltonian.add_H_0_block('g', Hg)\n",
    "hamiltonian.add_mu_q_block('g', mugq)\n",
    "hamiltonian.add_H_0_block('e', He)\n",
    "hamiltonian.add_mu_q_block('e', mugq)\n",
    "hamiltonian.add_d_q_block('g', 'e', dijq, gamma=gamma)\n",
    "\n",
    "hamiltonian.print_structure()"
   ]
  },
  {
   "cell_type": "markdown",
   "metadata": {},
   "source": [
    "### Create the equations:"
   ]
  },
  {
   "cell_type": "code",
   "execution_count": 38,
   "metadata": {},
   "outputs": [
    {
     "name": "stdout",
     "output_type": "stream",
     "text": [
      "[[ 0. +0.j  0. +0.j  0. +0.j  1. +0.j]\n",
      " [ 0. +0.j -0.5+0.j  0. +0.j  0. +0.j]\n",
      " [ 0. +0.j  0. +0.j -0.5+0.j  0. +0.j]\n",
      " [ 0. +0.j  0. +0.j  0. +0.j -1. +0.j]]\n",
      "[[0.+0.j   0.-0.25j 0.+0.25j 0.+0.j  ]\n",
      " [0.-0.25j 0.-2.j   0.+0.j   0.+0.25j]\n",
      " [0.+0.25j 0.+0.j   0.+2.j   0.-0.25j]\n",
      " [0.+0.j   0.+0.25j 0.-0.25j 0.+0.j  ]]\n",
      "{'g->e': array([ 0.+0.j, -1.+0.j])}\n"
     ]
    }
   ],
   "source": [
    "# First the OBE:\n",
    "obe = pylcp.obe(laserBeams, magField, hamiltonian,\n",
    "                     transform_into_re_im=False)\n",
    "rateeq = pylcp.rateeq(laserBeams, magField, hamiltonian)\n",
    "print(obe.ev_mat['decay'])\n",
    "#obe.ev_mat['decay'][:] = 0.\n",
    "print(obe.ev_mat['d_q']['g->e'][1] + obe.ev_mat['d_q*']['g->e'][1] + obe.ev_mat['H0'])\n",
    "print(obe.decay_rates)"
   ]
  },
  {
   "cell_type": "markdown",
   "metadata": {},
   "source": [
    "### Now, evolve it!"
   ]
  },
  {
   "cell_type": "code",
   "execution_count": 39,
   "metadata": {},
   "outputs": [],
   "source": [
    "t_eval = np.linspace(0, 4*np.pi/gamma, 100)\n",
    "rho0 = np.zeros((hamiltonian.n**2,), dtype='complex128')\n",
    "rho0[0] = 1.\n",
    "obe.set_initial_rho(rho0)\n",
    "obe.evolve_density([t_eval[0], t_eval[-1]], t_eval=t_eval)\n",
    "\n",
    "N0 = np.zeros((rateeq.hamiltonian.n,))\n",
    "N0[0] = 1\n",
    "rateeq.set_initial_pop(N0)\n",
    "rateeq.evolve_populations([t_eval[0], t_eval[-1]], t_eval=t_eval)"
   ]
  },
  {
   "cell_type": "markdown",
   "metadata": {},
   "source": [
    "### Plot it all up:"
   ]
  },
  {
   "cell_type": "code",
   "execution_count": 40,
   "metadata": {},
   "outputs": [
    {
     "data": {
      "text/plain": [
       "Text(0, 0.5, '$\\\\rho_{ii}$')"
      ]
     },
     "execution_count": 40,
     "metadata": {},
     "output_type": "execute_result"
    },
    {
     "data": {
      "image/png": "[encoded data removed]",
      "text/plain": [
       "<Figure size 487.5x412.5 with 1 Axes>"
      ]
     },
     "metadata": {
      "needs_background": "light"
     },
     "output_type": "display_data"
    }
   ],
   "source": [
    "def final_value(s, det):\n",
    "    return s/2/(1+s+4*det**2)\n",
    "\n",
    "fig, ax = plt.subplots(1, 1, num='evolution')\n",
    "ax.plot(obe.sol.t*gamma/2/np.pi, np.abs(obe.sol.rho[0, 0, :]), linewidth=0.5,\n",
    "         label='$\\\\rho_{00}$')\n",
    "ax.plot(obe.sol.t*gamma/2/np.pi, np.abs(obe.sol.rho[1, 1, :]), linewidth=0.5,\n",
    "         label='$\\\\rho_{11}$')\n",
    "ax.plot(rateeq.sol.t*gamma/2/np.pi, np.abs(rateeq.sol.y[0, :]), linewidth=0.5,\n",
    "         label='$\\\\rho_{00}$ (rate eq.)')\n",
    "ax.plot(rateeq.sol.t*gamma/2/np.pi, np.abs(rateeq.sol.y[-1, :]), linewidth=0.5,\n",
    "         label='$\\\\rho_{11}$ (rate eq.)')\n",
    "ax.plot(obe.sol.t[-1]*gamma/2/np.pi,\n",
    "         final_value(len(laserBeams)*laserBeams[0].beta(np.array([0., 0., 0.])),\n",
    "                     ham_det+laser_det) ,'o')\n",
    "ax.legend(fontsize=6)\n",
    "ax.set_xlabel('$t/2\\pi\\Gamma$')\n",
    "ax.set_ylabel('$\\\\rho_{ii}$')"
   ]
  },
  {
   "cell_type": "code",
   "execution_count": null,
   "metadata": {},
   "outputs": [],
   "source": []
  }
 ],
 "metadata": {
  "kernelspec": {
   "display_name": "Python 3",
   "language": "python",
   "name": "python3"
  },
  "language_info": {
   "codemirror_mode": {
    "name": "ipython",
    "version": 3
   },
   "file_extension": ".py",
   "mimetype": "text/x-python",
   "name": "python",
   "nbconvert_exporter": "python",
   "pygments_lexer": "ipython3",
   "version": "3.7.6"
  }
 },
 "nbformat": 4,
 "nbformat_minor": 4
}
