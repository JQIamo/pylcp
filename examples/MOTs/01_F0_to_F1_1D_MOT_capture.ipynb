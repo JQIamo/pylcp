{
 "cells": [
  {
   "cell_type": "markdown",
   "metadata": {},
   "source": [
    "author: @SteveEckel\n",
    "\n",
    "This script shows examples about how to solve for the dynamics of a 1D MOT and\n",
    "calculate things like the capture velocity.  We will deal specifically with a 1D MOT.\n",
    "We can compare results to those of 1 D. Haubrich, A. Höpe, and D. Meschede, “A simple model for optical capture of atoms in strong magnetic quadrupole fields” _Optics Communications_ __102__, 225 (1993).  http://dx.doi.org/10.1016/0030-4018(93)90387-K\n",
    "\n",
    "In this example, we will mostly focus on the heuristic force equation for an $F=0\\rightarrow F'=1$ atom in a magnetic field:\n",
    "\n",
    "$$\n",
    "F = \\frac{\\hbar k \\Gamma}{2}\\sum_{q,i} \\frac{\\beta_i (\\epsilon_q \\cdot \\hat{B}(r))^2}{1+\\sum_j\\beta_j + 4[\\Delta - \\mathbf{k}_i\\cdot \\mathbf{v} - q \\mu_B B(r)/\\hbar]^2/\\Gamma^2}\n",
    "$$\n",
    "\n",
    "where $F$ is the force, $\\Gamma$ is the decay, $q=-1,0,1$, $\\beta_i$ and $\\mathbf{k}_i$ are the intensity and wavevector of the $i$th laser beam (which can depend on time $t$ and position $\\mathbf{r}$.  This equation is encoded in `pylcp.heuristiceq`.  Of course, one can also switch to the rate equations by loading `pylcp.rateeq`.\n",
    "\n",
    "We'll use the standard 3D MOT quadrupole field,\n",
    "\n",
    "$$\n",
    "\\mathbf{B} = B'\\left(-\\frac{1}{2}(x\\hat{x} + y\\hat{y})+z\\hat{z}\\right)\n",
    "$$\n",
    "\n",
    "where $B'$ is the magnetic field gradient."
   ]
  },
  {
   "cell_type": "code",
   "execution_count": 1,
   "metadata": {},
   "outputs": [],
   "source": [
    "import numpy as np\n",
    "import matplotlib.pyplot as plt\n",
    "import scipy.constants as cts\n",
    "import pylcp\n",
    "import pylcp.atom as atom\n",
    "from pylcp.common import bisectFindChangeValue, progressBar"
   ]
  },
  {
   "cell_type": "markdown",
   "metadata": {},
   "source": [
    "### Let's now set up the units:\n",
    "As with any problem in `pylcp`, the units that one chooses are arbitrary.  For this example, we are going to get fancy and use a special unit system that is only possible with the heuristic equation or, when magnetic forces are not included, the rate equations.  As in the documentation, we will denote all explicit units with a subscript and all quantities where we have removed the units with an overbar, e.g. $\\bar{x} = x/x_0$.  Let's choose units where the heuristic force is given by (along the $\\hat{z}$ axis):\n",
    "\n",
    "$$\n",
    "\\bar{\\mathbf{F}} = \\frac{\\hat{\\mathbf{k}}}{2}\\sum_{q,i}\\frac{\\beta_i (\\epsilon_q \\cdot \\hat{B}(r))^2}{1+\\sum_j\\beta_j + 4(\\delta - \\hat{\\mathbf{k}}_i\\cdot \\mathbf{\\bar{v}} - q \\bar{z})^2}\n",
    "$$\n",
    "\n",
    "where $\\delta = \\Delta/\\Gamma$.  This is equivalent the above equation by setting $k/\\Gamma=1$ and $\\mu_B B'/(\\hbar \\Gamma)=1$.  Or, in other words, we want a unit system that measures velocities in terms of $\\Gamma/k$, positions in terms of $\\hbar \\Gamma/\\mu_B B'$, and forces in terms of $\\hbar k \\Gamma$.\n",
    "\n",
    "Programmatically, it allows us to just specify the _unit_ vector for $\\mathbf{k}$ when we program `laserBeams`, set the magnetic field gradient parameter $\\alpha=1$, and set $\\Gamma=1$ ($\\hbar=1$ by default).\n",
    "\n",
    "So what are the length and time units of this system?  Well, the length unit is given by $x_0 = \\hbar \\Gamma/\\mu_B B'$ and $t_0$ is defined such that\n",
    "\n",
    "$$\n",
    "\\bar{v} = \\frac{k v}{\\Gamma}  = k \\frac{x_0}{\\Gamma t_0}\\bar{v}\n",
    "$$\n",
    "\n",
    "implying that\n",
    "\n",
    "$$\n",
    "t_0 = \\frac{k x_0}{\\Gamma}\n",
    "$$\n",
    "\n",
    "Finally, we need the mass, which is defined through the prefactor to the force equation.  We'll factor out the magnitude of the $\\mathbf{k}$ vector because :\n",
    "\n",
    "$$\n",
    "\\ddot{\\mathbf{r}} = \\frac{\\mathbf{F}}{m} = \\frac{\\hbar k \\Gamma}{m}\\hat{\\mathbf{k}}\n",
    "$$\n",
    "\n",
    "Note that I neglected the sum, since that is dimensionless already.  I can now put in the units explicitly:\n",
    "\n",
    "$$\n",
    "\\frac{x_0}{t_0^2} \\ddot{\\bar{\\mathbf{r}}} = \\frac{\\hbar k \\Gamma }{m}\\hat{\\mathbf{k}}\n",
    "$$\n",
    "\n",
    "Rearranging,\n",
    "\n",
    "$$\n",
    "\\ddot{\\bar{\\mathbf{r}}} = \\frac{\\hbar k \\Gamma t_0^2}{m x_0} \\hat{\\mathbf{k}} = \\frac{\\hbar k^2 t_0}{m}\\hat{\\mathbf{k}} = \\frac{\\bar{\\mathbf{F}}}{\\bar{m}}\n",
    "$$\n",
    "\n",
    "where $\\bar{m} = m/(\\hbar k^2 t_0)$.\n",
    "\n",
    "Note again that this unit system is effectively measuring lengths in two different ways - one in terms of $k$ and the other in terms of the magnetic field.  This works because we have the mass term which we can adjust.  However, if you wanted to include magnetic forces, or use the optical Bloch equations, this unit system will not work as the forces calculated in those schemes have quite a different constant.\n",
    "\n",
    "Plugging in the numbers, we find:"
   ]
  },
  {
   "cell_type": "code",
   "execution_count": 2,
   "metadata": {},
   "outputs": [
    {
     "name": "stdout",
     "output_type": "stream",
     "text": [
      "0.2857142857142857 80553.65778435367 23015.33079552962 2.6525823848649224e-08 0.0006105006105006105\n",
      "0.03454474231473474\n"
     ]
    }
   ],
   "source": [
    "x0 = (6/1.4/15) # cm\n",
    "k = 2*np.pi/780E-7 # cm^{-1}\n",
    "kbar = k*x0\n",
    "\n",
    "gamma = 2*np.pi*6e6\n",
    "t0 = k*x0/gamma\n",
    "print(x0, k, kbar, 1/gamma, t0)\n",
    "\n",
    "mass = 86.909180527*cts.value('atomic mass constant')/(cts.hbar*(k*1e2)**2*t0)\n",
    "print(mass)"
   ]
  },
  {
   "cell_type": "markdown",
   "metadata": {},
   "source": [
    "### First, we define the problem:"
   ]
  },
  {
   "cell_type": "code",
   "execution_count": 3,
   "metadata": {},
   "outputs": [],
   "source": [
    "det = -1.5\n",
    "alpha = 1.0\n",
    "beta = 1.0\n",
    "\n",
    "laserBeams = pylcp.laserBeams([\n",
    "    {'kvec':np.array([0., 0., 1.]), 'pol':np.array([0., 0., 1.]), 'beta':beta, 'delta':det},\n",
    "    {'kvec':np.array([0., 0., -1.]), 'pol':np.array([1., 0., 0.]), 'beta':beta, 'delta':det}],\n",
    "    beam_type=pylcp.infinitePlaneWaveBeam\n",
    ")\n",
    "\n",
    "magField = pylcp.quadrupoleMagneticField(alpha)\n",
    "\n",
    "# Use the heuristic equation (or comment it out):\n",
    "#eqn = pylcp.heuristiceq(laserBeams, magField, gamma=1, mass=mass)\n",
    "\n",
    "# Define the atomic Hamiltonian:\n",
    "Hg, muqg = pylcp.hamiltonians.singleF(F=0, muB=1)\n",
    "He, muqe = pylcp.hamiltonians.singleF(F=1, muB=1)\n",
    "\n",
    "dq = pylcp.hamiltonians.dqij_two_bare_hyperfine(0, 1)\n",
    "\n",
    "hamiltonian = pylcp.hamiltonian(Hg, He, muqg, muqe, dq, mass=mass)\n",
    "\n",
    "eqn = pylcp.rateeq(laserBeams, magField, hamiltonian, include_mag_forces=False)"
   ]
  },
  {
   "cell_type": "markdown",
   "metadata": {},
   "source": [
    "### Now compute the background force profile:"
   ]
  },
  {
   "cell_type": "code",
   "execution_count": 4,
   "metadata": {},
   "outputs": [
    {
     "name": "stdout",
     "output_type": "stream",
     "text": [
      "Completed in 1:34.                                                  \n"
     ]
    }
   ],
   "source": [
    "dz = 0.1\n",
    "dv = 0.1\n",
    "z = np.arange(-20, 20+dz, dz)\n",
    "v = np.arange(-20, 20+dv, dv)\n",
    "\n",
    "Z, V = np.meshgrid(z, v)\n",
    "\n",
    "Rfull = np.array([np.zeros(Z.shape), np.zeros(Z.shape), Z])\n",
    "Vfull = np.array([np.zeros(Z.shape), np.zeros(Z.shape), V])\n",
    "\n",
    "eqn.generate_force_profile([np.zeros(Z.shape), np.zeros(Z.shape), Z],\n",
    "                           [np.zeros(V.shape), np.zeros(V.shape), V],\n",
    "                           name='Fz', progress_bar=True)"
   ]
  },
  {
   "cell_type": "markdown",
   "metadata": {},
   "source": [
    "Plot 'er up:"
   ]
  },
  {
   "cell_type": "code",
   "execution_count": 5,
   "metadata": {},
   "outputs": [
    {
     "name": "stderr",
     "output_type": "stream",
     "text": [
      "Substituting with a symbol from Computer Modern.\n",
      "Substituting with a symbol from Computer Modern.\n",
      "Substituting with a symbol from Computer Modern.\n",
      "Substituting with a symbol from Computer Modern.\n"
     ]
    },
    {
     "data": {
      "image/png": "[encoded data removed]",
      "text/plain": [
       "<Figure size 600x412.5 with 2 Axes>"
      ]
     },
     "metadata": {
      "needs_background": "light"
     },
     "output_type": "display_data"
    }
   ],
   "source": [
    "fig, ax = plt.subplots(1, 1, figsize=(4, 2.75))\n",
    "plt.imshow(eqn.profile['Fz'].F[2], origin='bottom',\n",
    "           extent=(np.amin(z)-dz/2, np.amax(z)-dz/2,\n",
    "                   np.amin(v)-dv/2, np.amax(v)-dv/2))\n",
    "cb1 = plt.colorbar()\n",
    "cb1.set_label('$F/(\\hbar k \\Gamma)$')\n",
    "ax.set_xlabel('$x/(\\hbar \\Gamma/\\mu_B B\\')$')\n",
    "ax.set_ylabel('$v/(\\Gamma/k)$')\n",
    "fig.subplots_adjust(left=0.12,right=0.9)"
   ]
  },
  {
   "cell_type": "markdown",
   "metadata": {},
   "source": [
    "### Now, let's add in trajectories in phase space:\n",
    "\n",
    "The first thing to do is define a stop condition, when the velocity of the atom gets to be too small."
   ]
  },
  {
   "cell_type": "code",
   "execution_count": 6,
   "metadata": {},
   "outputs": [],
   "source": [
    "v0s = np.arange(1, 15.5, 1)\n",
    "\n",
    "# See solve_ivp documentation for event function discussion:\n",
    "def captured_condition(t, y, threshold=1e-5):\n",
    "    if(y[-4]<threshold and y[-1]<1e-3):\n",
    "        val = -1.\n",
    "    else:\n",
    "        val = 1.\n",
    "    \n",
    "    return val\n",
    "\n",
    "def lost_condition(t, y, threshold=1e-5):\n",
    "    if y[-1]>20.:\n",
    "        val = -1.\n",
    "    else:\n",
    "        val = 1.\n",
    "    \n",
    "    return val\n",
    "\n",
    "captured_condition.terminal=True\n",
    "lost_condition.terminal=True\n",
    "\n",
    "sols = []\n",
    "for v0 in v0s:\n",
    "    eqn.set_initial_position_and_velocity(np.array([0., 0., z[0]]),\n",
    "                                          np.array([0., 0., v0]))\n",
    "    if isinstance(eqn, pylcp.rateeq):\n",
    "        eqn.set_initial_pop(np.array([1., 0., 0., 0.]))\n",
    "\n",
    "    eqn.evolve_motion([0., 100.], events=[captured_condition, lost_condition], max_step=0.1)\n",
    "    \n",
    "    sols.append(eqn.sol)"
   ]
  },
  {
   "cell_type": "markdown",
   "metadata": {},
   "source": [
    "Now, plot it up:"
   ]
  },
  {
   "cell_type": "code",
   "execution_count": 7,
   "metadata": {},
   "outputs": [
    {
     "data": {
      "text/plain": [
       "(-20, 20)"
      ]
     },
     "execution_count": 7,
     "metadata": {},
     "output_type": "execute_result"
    },
    {
     "name": "stderr",
     "output_type": "stream",
     "text": [
      "Substituting with a symbol from Computer Modern.\n",
      "Substituting with a symbol from Computer Modern.\n",
      "Substituting with a symbol from Computer Modern.\n",
      "Substituting with a symbol from Computer Modern.\n"
     ]
    },
    {
     "data": {
      "image/png": "[encoded data removed]",
      "text/plain": [
       "<Figure size 600x412.5 with 2 Axes>"
      ]
     },
     "metadata": {
      "needs_background": "light"
     },
     "output_type": "display_data"
    }
   ],
   "source": [
    "fig, ax = plt.subplots(1, 1, figsize=(4, 2.75))\n",
    "plt.imshow(eqn.profile['Fz'].F[2], origin='bottom',\n",
    "           extent=(np.amin(z)-dz/2, np.amax(z)-dz/2,\n",
    "                   np.amin(v)-dv/2, np.amax(v)-dv/2))\n",
    "cb1 = plt.colorbar()\n",
    "cb1.set_label('$F/(\\hbar k \\Gamma)$')\n",
    "ax.set_xlabel('$x/(\\hbar \\Gamma/\\mu_B B\\')$')\n",
    "ax.set_ylabel('$v/(\\Gamma/k)$')\n",
    "fig.subplots_adjust(left=0.12,right=0.9)\n",
    "\n",
    "for sol in sols:\n",
    "    ax.plot(sol.r[2], sol.v[2], 'w-', linewidth=0.375)\n",
    "\n",
    "# Display the figure at the end of the thing.\n",
    "ax.set_xlim((-20, 20))\n",
    "ax.set_xlim((-20, 20))"
   ]
  },
  {
   "cell_type": "markdown",
   "metadata": {},
   "source": [
    "By having two conditions, we can tell if the atom was lost or captured:"
   ]
  },
  {
   "cell_type": "code",
   "execution_count": 8,
   "metadata": {},
   "outputs": [
    {
     "name": "stdout",
     "output_type": "stream",
     "text": [
      "captured\n",
      "captured\n",
      "captured\n",
      "captured\n",
      "captured\n",
      "captured\n",
      "captured\n",
      "captured\n",
      "captured\n",
      "captured\n",
      "captured\n",
      "captured\n",
      "captured\n",
      "lost\n",
      "lost\n"
     ]
    }
   ],
   "source": [
    "for sol in sols:\n",
    "    if len(sol.t_events[0]) == 1:\n",
    "        print('captured')\n",
    "    elif len(sol.t_events[1]) == 1:\n",
    "        print('lost')"
   ]
  },
  {
   "cell_type": "markdown",
   "metadata": {},
   "source": [
    "### Now, let's get even more fancy:\n",
    "\n",
    "Let's define a function that figures out if we were captured or not, then use that to find the capture velocity:"
   ]
  },
  {
   "cell_type": "code",
   "execution_count": 9,
   "metadata": {},
   "outputs": [
    {
     "data": {
      "text/plain": [
       "True"
      ]
     },
     "execution_count": 9,
     "metadata": {},
     "output_type": "execute_result"
    }
   ],
   "source": [
    "def iscaptured(v0, z0, eqn, captured_condition, lost_condition, tmax=1000, **kwargs):\n",
    "    eqn.set_initial_position_and_velocity(np.array([0., 0., z0]),\n",
    "                                          np.array([0., 0., v0]))\n",
    "    eqn.evolve_motion([0., tmax], events=[captured_condition, lost_condition],\n",
    "                      **kwargs)\n",
    "    \n",
    "    return len(eqn.sol.t_events[0]) == 1\n",
    "\n",
    "iscaptured(6.1, -20., eqn, captured_condition, lost_condition, tmax=1000, max_step=0.1)"
   ]
  },
  {
   "cell_type": "markdown",
   "metadata": {},
   "source": [
    "See if we can find out where it changes:"
   ]
  },
  {
   "cell_type": "code",
   "execution_count": 10,
   "metadata": {},
   "outputs": [
    {
     "data": {
      "text/plain": [
       "(13.751266479492188, 20)"
      ]
     },
     "execution_count": 10,
     "metadata": {},
     "output_type": "execute_result"
    }
   ],
   "source": [
    "bisectFindChangeValue(iscaptured, 6.0,\n",
    "                      args=(z[0], eqn, captured_condition, lost_condition),\n",
    "                      kwargs={'tmax':1000, 'max_step':0.1},\n",
    "                      tol=1e-5\n",
    "                     )"
   ]
  },
  {
   "cell_type": "markdown",
   "metadata": {},
   "source": [
    "### Let's run the detuning and intensity:\n",
    "\n",
    "We will figure out how the capture velocity depends on and compare to this equation from the paper in the introduction:\n",
    "\n",
    "$$\n",
    "v_c = \\left(\\frac{a_0^2\\beta^2\\kappa}{(1+\\beta)^{3/2}}\\right)^{1/3}\\left(\\frac{8\\pi\\delta^2}{1+\\beta+4\\delta^2}\\right)^{1/3}\\zeta^{-2/3}\n",
    "$$\n",
    "\n",
    "where $a_0 = \\hbar k \\Gamma/(2 m)$, $\\zeta = \\mu_B B'/(\\hbar\\Gamma)$, and $\\kappa = 2\\pi/(\\lambda \\Gamma)=k/\\Gamma$ .  To compare, we need to express it in a way which connects with our formulae above.  The first thing to note is that $\\zeta = 1/x_0$.  We also need to multiple both sides by $k/\\Gamma$, so that we have $v_c/(\\Gamma/k)$ on the left side, which is our observable.  Then, we realize that\n",
    "\n",
    "$$\n",
    "\\frac{\\hbar k\\Gamma}{2m} = \\frac{1}{2\\bar{m}}\\frac{x_0}{t_0^2}~~~~~\\text{and}~~~~~\\frac{k}{\\Gamma} = \\frac{t_0}{x_0} \n",
    "$$\n",
    "\n",
    "Putting it all together:\n",
    "\n",
    "$$\n",
    "\\frac{v_c}{\\Gamma/k} = \\frac{t_0}{x_0}\\left(\\frac{1}{2\\bar{m}}\\right)^{2/3} \\frac{x_0^{2/3}}{t_0^{4/3}}\\frac{t_0^{1/3}}{x_0^{1/3}} x_0^{2/3}\\left(\\frac{\\beta^2}{(1+\\beta)^{3/2}}\\right)^{1/3}\\left(\\frac{8\\pi\\delta^2}{1+\\beta+4\\delta^2}\\right)^{1/3} = \\left(\\frac{1}{2\\bar{m}}\\right)^{2/3}\\left(\\frac{\\beta^2}{(1+\\beta)^{3/2}}\\right)^{1/3}\\left(\\frac{8\\pi\\delta^2}{1+\\beta+4\\delta^2}\\right)^{1/3}\n",
    "$$"
   ]
  },
  {
   "cell_type": "code",
   "execution_count": null,
   "metadata": {},
   "outputs": [
    {
     "name": "stdout",
     "output_type": "stream",
     "text": [
      "Progress: |█████████---------------------| 30.0%; time left: 26:20\r"
     ]
    },
    {
     "name": "stderr",
     "output_type": "stream",
     "text": [
      "/Users/steve/opt/anaconda3/lib/python3.7/site-packages/numpy/core/fromnumeric.py:3335: RuntimeWarning: Mean of empty slice.\n",
      "  out=out, **kwargs)\n",
      "/Users/steve/opt/anaconda3/lib/python3.7/site-packages/numpy/core/_methods.py:161: RuntimeWarning: invalid value encountered in double_scalars\n",
      "  ret = ret.dtype.type(ret / rcount)\n"
     ]
    },
    {
     "name": "stdout",
     "output_type": "stream",
     "text": [
      "Progress: |██████████████████------------| 62.2%; time left: 12:56\r"
     ]
    }
   ],
   "source": [
    "dets = -np.logspace(-1, np.log10(5), 30)[::-1]\n",
    "betas = np.array([0.3, 1., 3.])\n",
    "\n",
    "DETS, BETAS = np.meshgrid(dets, betas)\n",
    "\n",
    "it = np.nditer([DETS, BETAS, None, None])\n",
    "\n",
    "progress = progressBar()\n",
    "for (det, beta, vc, iterations) in it:\n",
    "    laserBeams = pylcp.laserBeams([\n",
    "        {'kvec':np.array([0., 0., 1.]), 'pol':np.array([0., 0., 1.]), 'beta':beta, 'delta':det},\n",
    "        {'kvec':np.array([0., 0., -1.]), 'pol':np.array([1., 0., 0.]), 'beta':beta, 'delta':det}],\n",
    "        beam_type=pylcp.infinitePlaneWaveBeam\n",
    "    )\n",
    "\n",
    "    # Heuristic equation or rate equation?\n",
    "    eqn = pylcp.heuristiceq(laserBeams, magField, gamma=1, mass=mass)\n",
    "    #eqn = pylcp.rateeq(laserBeams, magField, hamiltonian, include_mag_forces=False)\n",
    "    \n",
    "    if isinstance(eqn, pylcp.rateeq):\n",
    "        eqn.set_initial_pop(np.array([1., 0., 0., 0.]))\n",
    "        \n",
    "    vc[...], iterations[...] = bisectFindChangeValue(\n",
    "        iscaptured, 5.0,\n",
    "        args=(z[0], eqn, captured_condition, lost_condition),\n",
    "        kwargs={'tmax':1000, 'max_step':0.1},\n",
    "        tol=1e-5\n",
    "    )\n",
    "\n",
    "    progress.update((it.iterindex+1)/it.itersize)"
   ]
  },
  {
   "cell_type": "code",
   "execution_count": null,
   "metadata": {},
   "outputs": [],
   "source": [
    "def vc_from_paper(delta, beta, mbar):\n",
    "    return 1/(2*mbar)**(2./3.)*(beta**2/(1+beta)**(3./2.))**(1./3.)*(8*np.pi*delta**2/(1+beta+4*delta**2))**(1./3.)"
   ]
  },
  {
   "cell_type": "code",
   "execution_count": null,
   "metadata": {},
   "outputs": [],
   "source": [
    "dets_thr = -np.logspace(-1, np.log10(5), 51)[::-1]\n",
    "fig, ax = plt.subplots(1, 1, figsize=(3.25, 2))\n",
    "for ii, (beta, vc_vs_det) in enumerate(zip(betas, it.operands[2])):\n",
    "    ax.plot(dets, vc_vs_det, label='$\\\\beta=%.1f$' % beta,\n",
    "            color='C%d'%ii, linewidth=0.75)\n",
    "    ax.plot(dets_thr, vc_from_paper(dets_thr, beta, mass), '--',\n",
    "            color='C%d'%ii, linewidth=0.5)\n",
    "\n",
    "#ax.legend(fontsize=8)\n",
    "ax.set_xlabel('$\\Delta/\\Gamma$')\n",
    "ax.set_ylabel('$v_c/(\\Gamma/k)$')\n",
    "\n",
    "fig.subplots_adjust(bottom=0.2)"
   ]
  }
 ],
 "metadata": {
  "kernelspec": {
   "display_name": "Python 3",
   "language": "python",
   "name": "python3"
  },
  "language_info": {
   "codemirror_mode": {
    "name": "ipython",
    "version": 3
   },
   "file_extension": ".py",
   "mimetype": "text/x-python",
   "name": "python",
   "nbconvert_exporter": "python",
   "pygments_lexer": "ipython3",
   "version": "3.7.6"
  }
 },
 "nbformat": 4,
 "nbformat_minor": 4
}
