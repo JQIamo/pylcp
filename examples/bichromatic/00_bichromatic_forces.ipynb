{
 "cells": [
  {
   "cell_type": "markdown",
   "metadata": {},
   "source": [
    "@author: SteveEckel\n",
    "\n",
    "This example covers calculating the example of .\n",
    "\n",
    "There are three different governing equations that we can use for this example: the `heuristic` equation, the `rateeq` or the `obe`.  In this example, we'll calculate using all three and compare."
   ]
  },
  {
   "cell_type": "code",
   "execution_count": 1,
   "metadata": {},
   "outputs": [],
   "source": [
    "import numpy as np\n",
    "import matplotlib.pyplot as plt\n",
    "import pylcp"
   ]
  },
  {
   "cell_type": "markdown",
   "metadata": {},
   "source": [
    "### Let's start by defining the lasers, magnetic field, and Hamiltonian:\n",
    "\n",
    "Because we are dealing with a two state system, we keep the Hamiltonian and the geometry relatively simple.  Note that because we are also using the heuristic equation, we want to make sure that the detuning is not on the Hamiltonian, but on the lasers."
   ]
  },
  {
   "cell_type": "code",
   "execution_count": 6,
   "metadata": {},
   "outputs": [],
   "source": [
    "# Make a method to return the lasers:\n",
    "def return_lasers(delta, beta):\n",
    "    return pylcp.laserBeams([\n",
    "        {'kvec':np.array([1., 0., 0.]), 'pol':np.array([0., 1., 0.]),\n",
    "         'pol_coord':'spherical', 'delta':delta, 'beta':beta},\n",
    "        {'kvec':np.array([-1., 0., 0.]), 'pol':np.array([0., 1., 0.]),\n",
    "         'pol_coord':'spherical', 'delta':delta, 'beta':beta},\n",
    "        {'kvec':np.array([1., 0., 0.]), 'pol':np.array([0., 1., 0.]),\n",
    "         'pol_coord':'spherical', 'delta':-delta, 'beta':beta, 'phase':np.pi/2},\n",
    "        {'kvec':np.array([-1., 0., 0.]), 'pol':np.array([0., 1., 0.]),\n",
    "         'pol_coord':'spherical', 'delta':-delta, 'beta':beta, 'phase':np.pi/2},\n",
    "        ], beam_type=pylcp.infinitePlaneWaveBeam)\n",
    "\n",
    "# Now define a two level Hamiltonian, connected using pi-light.\n",
    "def return_hamiltonian(delta):\n",
    "    Hg = np.array([[0.]])\n",
    "    He = np.array([[-delta]])\n",
    "    mu_q = np.zeros((3, 1, 1))\n",
    "    d_q = np.zeros((3, 1, 1))\n",
    "    d_q[1, 0, 0] = 1.\n",
    "\n",
    "    return pylcp.hamiltonian(Hg, He, mu_q, mu_q, d_q)\n",
    "\n",
    "hamiltonian = return_hamiltonian(0.)\n",
    "\n",
    "magField = lambda R: np.zeros(R.shape)"
   ]
  },
  {
   "cell_type": "markdown",
   "metadata": {},
   "source": [
    "### Generate the force profile:"
   ]
  },
  {
   "cell_type": "code",
   "execution_count": null,
   "metadata": {},
   "outputs": [
    {
     "name": "stdout",
     "output_type": "stream",
     "text": [
      "Progress: |█████████████████-------------| 58.4%; time left: 6:46 \r"
     ]
    }
   ],
   "source": [
    "delta = 39\n",
    "betas = [2*39**2, 2*43**2, 2*47**2]\n",
    "\n",
    "hamiltonian = return_hamiltonian(0.)\n",
    "\n",
    "v = np.arange(-30., 30.1, 0.1)\n",
    "\n",
    "obe ={}\n",
    "for beta in betas:\n",
    "    laserBeams = return_lasers(delta, beta)\n",
    "    \n",
    "    obe[beta] = pylcp.obe(laserBeams, magField, hamiltonian)\n",
    "    obe[beta].generate_force_profile(\n",
    "        np.zeros((3,) + v.shape),\n",
    "        [v, np.zeros(v.shape), np.zeros(v.shape)],\n",
    "        name='molasses', progress_bar=True, deltat_tmax=2*np.pi*10/np.sqrt(beta/2),\n",
    "        deltat_v=np.inf, itermax=10, rel=1e-4, abs=1e-6\n",
    "    )"
   ]
  },
  {
   "cell_type": "code",
   "execution_count": null,
   "metadata": {},
   "outputs": [],
   "source": []
  }
 ],
 "metadata": {
  "kernelspec": {
   "display_name": "Python 3",
   "language": "python",
   "name": "python3"
  },
  "language_info": {
   "codemirror_mode": {
    "name": "ipython",
    "version": 3
   },
   "file_extension": ".py",
   "mimetype": "text/x-python",
   "name": "python",
   "nbconvert_exporter": "python",
   "pygments_lexer": "ipython3",
   "version": "3.7.6"
  }
 },
 "nbformat": 4,
 "nbformat_minor": 4
}
