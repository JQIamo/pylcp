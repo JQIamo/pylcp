{
 "cells": [
  {
   "cell_type": "markdown",
   "metadata": {},
   "source": [
    "author: @SteveEckel\n",
    "\n",
    "Thus script calculates the transition rates between basic F sublevels and for\n",
    "the entire Na D2 manifold as shown in Fig. 4 of Ungar, P. J., Weiss, D. S.,\n",
    "Riis, E., & Chu, S. \"Optical molasses and multilevel atoms: theory.\"\n",
    "*Journal of the Optical Society of America B*, **6**, 2058 (1989).\n",
    "http://doi.org/10.1364/JOSAB.6.002058"
   ]
  },
  {
   "cell_type": "code",
   "execution_count": 1,
   "metadata": {},
   "outputs": [],
   "source": [
    "import numpy as np\n",
    "import matplotlib.pyplot as plt\n",
    "import scipy.constants as cts\n",
    "from pylcp import hamiltonians\n",
    "from pylcp.atom import atom\n",
    "plt.style.use('paper')"
   ]
  },
  {
   "cell_type": "markdown",
   "metadata": {},
   "source": [
    "Make the simple $F=0 \\rightarrow F'=1$:"
   ]
  },
  {
   "cell_type": "code",
   "execution_count": 2,
   "metadata": {},
   "outputs": [
    {
     "name": "stdout",
     "output_type": "stream",
     "text": [
      "dij^{-1} =  [[0.         0.         0.57735027]] ;   dij^{0} =  [[ 0.         -0.57735027  0.        ]] ; dij^{1} =  [[0.57735027 0.         0.        ]]\n",
      "dij^{-1} =  [[0. 0. 1.]] ;   dij^{0} =  [[ 0. -1.  0.]] ; dij^{1} =  [[1. 0. 0.]]\n"
     ]
    }
   ],
   "source": [
    "dijq_nonnorm = hamiltonians.dqij_two_bare_hyperfine(0, 1, normalize=False)\n",
    "dijq_norm = hamiltonians.dqij_two_bare_hyperfine(0, 1)\n",
    "\n",
    "print('dij^{-1} = ', dijq_nonnorm[0], '; ', ' dij^{0} = ', dijq_nonnorm[1],\n",
    "      ';', 'dij^{1} = ', dijq_nonnorm[2])\n",
    "print('dij^{-1} = ', dijq_norm[0], '; ', ' dij^{0} = ', dijq_norm[1],\n",
    "      ';', 'dij^{1} = ', dijq_norm[2])"
   ]
  },
  {
   "cell_type": "markdown",
   "metadata": {},
   "source": [
    "Make the simple $F=1 \\rightarrow F'=1$:"
   ]
  },
  {
   "cell_type": "code",
   "execution_count": 3,
   "metadata": {},
   "outputs": [
    {
     "name": "stdout",
     "output_type": "stream",
     "text": [
      "dij^{-1} =  [[0.         0.40824829 0.        ]\n",
      " [0.         0.         0.40824829]\n",
      " [0.         0.         0.        ]] ;   dij^{0} =  [[-0.40824829  0.          0.        ]\n",
      " [ 0.         -0.          0.        ]\n",
      " [ 0.          0.          0.40824829]] ; dij^{1} =  [[ 0.          0.          0.        ]\n",
      " [-0.40824829  0.          0.        ]\n",
      " [ 0.         -0.40824829  0.        ]]\n",
      "dij^{-1} =  [[0.         0.70710678 0.        ]\n",
      " [0.         0.         0.70710678]\n",
      " [0.         0.         0.        ]] ;   dij^{0} =  [[-0.70710678  0.          0.        ]\n",
      " [ 0.         -0.          0.        ]\n",
      " [ 0.          0.          0.70710678]] ; dij^{1} =  [[ 0.          0.          0.        ]\n",
      " [-0.70710678  0.          0.        ]\n",
      " [ 0.         -0.70710678  0.        ]]\n"
     ]
    }
   ],
   "source": [
    "dijq_nonnorm = hamiltonians.dqij_two_bare_hyperfine(1, 1, normalize=False)\n",
    "dijq_norm = hamiltonians.dqij_two_bare_hyperfine(1, 1)\n",
    "\n",
    "print('dij^{-1} = ', dijq_nonnorm[0], '; ', ' dij^{0} = ', dijq_nonnorm[1],\n",
    "      ';', 'dij^{1} = ', dijq_nonnorm[2])\n",
    "print('dij^{-1} = ', dijq_norm[0], '; ', ' dij^{0} = ', dijq_norm[1],\n",
    "      ';', 'dij^{1} = ', dijq_norm[2])"
   ]
  },
  {
   "cell_type": "markdown",
   "metadata": {},
   "source": [
    "Make the $F=1 \\rightarrow F'=2$:"
   ]
  },
  {
   "cell_type": "code",
   "execution_count": 4,
   "metadata": {},
   "outputs": [
    {
     "name": "stdout",
     "output_type": "stream",
     "text": [
      "dij^{-1} =  [[0.         0.         0.18257419 0.         0.        ]\n",
      " [0.         0.         0.         0.31622777 0.        ]\n",
      " [0.         0.         0.         0.         0.4472136 ]] ;   dij^{0} =  [[ 0.         -0.31622777  0.          0.          0.        ]\n",
      " [ 0.          0.         -0.36514837  0.          0.        ]\n",
      " [ 0.          0.          0.         -0.31622777  0.        ]] ; dij^{1} =  [[0.4472136  0.         0.         0.         0.        ]\n",
      " [0.         0.31622777 0.         0.         0.        ]\n",
      " [0.         0.         0.18257419 0.         0.        ]]\n",
      "dij^{-1} =  [[0.         0.         0.40824829 0.         0.        ]\n",
      " [0.         0.         0.         0.70710678 0.        ]\n",
      " [0.         0.         0.         0.         1.        ]] ;   dij^{0} =  [[ 0.         -0.70710678  0.          0.          0.        ]\n",
      " [ 0.          0.         -0.81649658  0.          0.        ]\n",
      " [ 0.          0.          0.         -0.70710678  0.        ]] ; dij^{1} =  [[1.         0.         0.         0.         0.        ]\n",
      " [0.         0.70710678 0.         0.         0.        ]\n",
      " [0.         0.         0.40824829 0.         0.        ]]\n"
     ]
    }
   ],
   "source": [
    "# %% Make the simple F->1 to F'->2\n",
    "dijq_nonnorm = hamiltonians.dqij_two_bare_hyperfine(1, 2, normalize=False)\n",
    "dijq_norm = hamiltonians.dqij_two_bare_hyperfine(1, 2)\n",
    "\n",
    "print('dij^{-1} = ', dijq_nonnorm[0], '; ', ' dij^{0} = ', dijq_nonnorm[1],\n",
    "      ';', 'dij^{1} = ', dijq_nonnorm[2])\n",
    "print('dij^{-1} = ', dijq_norm[0], '; ', ' dij^{0} = ', dijq_norm[1],\n",
    "      ';', 'dij^{1} = ', dijq_norm[2])"
   ]
  },
  {
   "cell_type": "markdown",
   "metadata": {},
   "source": [
    "Now do the whole D$_2$ manifold:"
   ]
  },
  {
   "cell_type": "code",
   "execution_count": 5,
   "metadata": {},
   "outputs": [
    {
     "name": "stdout",
     "output_type": "stream",
     "text": [
      "[ 1. -1.] [ 0. -0.] 20\n",
      "[ 1. -1.] [ 1. -1.] 25\n",
      "[ 1. -1.] [1. 0.] 25\n",
      "[ 1. -1.] [ 2. -2.] 30\n",
      "[ 1. -1.] [ 2. -1.] 15\n",
      "[ 1. -1.] [2. 0.] 5\n",
      "[1. 0.] [ 0. -0.] 20\n",
      "[1. 0.] [ 1. -1.] 25\n",
      "[1. 0.] [1. 1.] 25\n",
      "[1. 0.] [ 2. -1.] 15\n",
      "[1. 0.] [2. 0.] 20\n",
      "[1. 0.] [2. 1.] 15\n",
      "[1. 1.] [ 0. -0.] 20\n",
      "[1. 1.] [1. 0.] 25\n",
      "[1. 1.] [1. 1.] 25\n",
      "[1. 1.] [2. 0.] 5\n",
      "[1. 1.] [2. 1.] 15\n",
      "[1. 1.] [2. 2.] 30\n",
      "[ 2. -2.] [ 1. -1.] 6\n",
      "[ 2. -2.] [ 2. -2.] 20\n",
      "[ 2. -2.] [ 2. -1.] 10\n",
      "[ 2. -2.] [ 3. -3.] 60\n",
      "[ 2. -2.] [ 3. -2.] 20\n",
      "[ 2. -2.] [ 3. -1.] 4\n",
      "[ 2. -1.] [ 1. -1.] 3\n",
      "[ 2. -1.] [1. 0.] 3\n",
      "[ 2. -1.] [ 2. -2.] 10\n",
      "[ 2. -1.] [ 2. -1.] 5\n",
      "[ 2. -1.] [2. 0.] 15\n",
      "[ 2. -1.] [ 3. -2.] 40\n",
      "[ 2. -1.] [ 3. -1.] 32\n",
      "[ 2. -1.] [3. 0.] 12\n",
      "[2. 0.] [ 1. -1.] 1\n",
      "[2. 0.] [1. 0.] 4\n",
      "[2. 0.] [1. 1.] 1\n",
      "[2. 0.] [ 2. -1.] 15\n",
      "[2. 0.] [2. 1.] 15\n",
      "[2. 0.] [ 3. -1.] 24\n",
      "[2. 0.] [3. 0.] 36\n",
      "[2. 0.] [3. 1.] 24\n",
      "[2. 1.] [1. 0.] 3\n",
      "[2. 1.] [1. 1.] 3\n",
      "[2. 1.] [2. 0.] 15\n",
      "[2. 1.] [2. 1.] 5\n",
      "[2. 1.] [2. 2.] 10\n",
      "[2. 1.] [3. 0.] 12\n",
      "[2. 1.] [3. 1.] 32\n",
      "[2. 1.] [3. 2.] 40\n",
      "[2. 2.] [1. 1.] 6\n",
      "[2. 2.] [2. 1.] 10\n",
      "[2. 2.] [2. 2.] 20\n",
      "[2. 2.] [3. 1.] 4\n",
      "[2. 2.] [3. 2.] 20\n",
      "[2. 2.] [3. 3.] 60\n"
     ]
    }
   ],
   "source": [
    "dijq, basis_g, basis_e = hamiltonians.dqij_two_hyperfine_manifolds(\n",
    "    1/2, 3/2, 3/2, normalize=True, return_basis=True\n",
    "    )\n",
    "\n",
    "for jj in range(dijq.shape[1]):\n",
    "    for kk in range(dijq.shape[2]):\n",
    "        for ii in range(dijq.shape[0]):\n",
    "            if np.abs(dijq[ii, jj, kk])>0:\n",
    "                print(basis_g[jj,:], basis_e[kk,:],\n",
    "                      int(np.round(60*dijq[ii, jj, kk]**2)))"
   ]
  }
 ],
 "metadata": {
  "kernelspec": {
   "display_name": "Python 3",
   "language": "python",
   "name": "python3"
  },
  "language_info": {
   "codemirror_mode": {
    "name": "ipython",
    "version": 3
   },
   "file_extension": ".py",
   "mimetype": "text/x-python",
   "name": "python",
   "nbconvert_exporter": "python",
   "pygments_lexer": "ipython3",
   "version": "3.7.6"
  }
 },
 "nbformat": 4,
 "nbformat_minor": 4
}
