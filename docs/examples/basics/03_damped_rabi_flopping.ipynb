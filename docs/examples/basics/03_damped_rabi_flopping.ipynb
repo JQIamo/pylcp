{
 "cells": [
  {
   "cell_type": "markdown",
   "metadata": {},
   "source": [
    "# Damped Rabi Flopping\n",
    "\n",
    "This example covers damped Rabi flopping as calculated with the optical Bloch equations."
   ]
  },
  {
   "cell_type": "code",
   "execution_count": 2,
   "metadata": {},
   "outputs": [],
   "source": [
    "import numpy as np\n",
    "import matplotlib.pyplot as plt\n",
    "import pylcp"
   ]
  },
  {
   "cell_type": "markdown",
   "metadata": {},
   "source": [
    "### Define the problem\n",
    "\n",
    "As always, we must define the laser beams, magnetic field, and Hamiltonian.  Here, we will make a two-state system that is magnetic field insensitive and connected only by $\\pi$ light.  In this particular case, we show how we can define the rotating frame such that the excited state of the Hamiltonian can rotate and the laser beams can rotate, or some combination of the two.  The total detuning is the sum of `ham_det` and `laser_det`."
   ]
  },
  {
   "cell_type": "code",
   "execution_count": 3,
   "metadata": {},
   "outputs": [
    {
     "name": "stdout",
     "output_type": "stream",
     "text": [
      "[[((<g|H_0|g> 1x1), (<g|mu_q|g> 1x1)) (<g|d_q|e> 1x1)]\n",
      " [(<e|d_q|g> 1x1) ((<e|H_0|e> 1x1), (<e|mu_q|e> 1x1))]]\n"
     ]
    }
   ],
   "source": [
    "ham_det = -2.\n",
    "laser_det = -2.\n",
    "\n",
    "laserBeams = pylcp.laserBeams(\n",
    "    [{'kvec':np.array([1., 0., 0.]), 'pol':np.array([0., 0., 1.]),\n",
    "      'pol_coord':'cartesian', 'delta':laser_det, 's':20.}]\n",
    ")\n",
    "\n",
    "magField = lambda R: np.zeros(R.shape)\n",
    "\n",
    "# Now define the extremely simple Hamiltonian:\n",
    "Hg = np.array([[0.]])\n",
    "mugq = np.array([[[0.]], [[0.]], [[0.]]])\n",
    "He = np.array([[-ham_det]])\n",
    "mueq = np.array([[[0.]], [[0.]], [[0.]]])\n",
    "dijq = np.array([[[0.]], [[1.]], [[0.]]])\n",
    "\n",
    "gamma = 1\n",
    "\n",
    "hamiltonian = pylcp.hamiltonian(Hg, He, mugq, mugq, dijq, gamma=gamma)\n",
    "hamiltonian.print_structure()"
   ]
  },
  {
   "cell_type": "markdown",
   "metadata": {},
   "source": [
    "### Create the governing equation\n",
    "\n",
    "In this example, we create both the rate equations and optical Bloch equations to compare.  We also print out the decay rates given the chosen $\\Gamma$ to ensure the decay matrix evolution is being constructed properly for a two-level system."
   ]
  },
  {
   "cell_type": "code",
   "execution_count": 4,
   "metadata": {},
   "outputs": [
    {
     "name": "stdout",
     "output_type": "stream",
     "text": [
      "[[ 0. +0.j  0. +0.j  0. +0.j  1. +0.j]\n",
      " [ 0. +0.j -0.5+0.j  0. +0.j  0. +0.j]\n",
      " [ 0. +0.j  0. +0.j -0.5+0.j  0. +0.j]\n",
      " [ 0. +0.j  0. +0.j  0. +0.j -1. +0.j]]\n"
     ]
    }
   ],
   "source": [
    "# First the OBE:\n",
    "obe = pylcp.obe(laserBeams, magField, hamiltonian,\n",
    "                     transform_into_re_im=False)\n",
    "rateeq = pylcp.rateeq(laserBeams, magField, hamiltonian)\n",
    "print(obe.ev_mat['decay'])"
   ]
  },
  {
   "cell_type": "markdown",
   "metadata": {},
   "source": [
    "### Evolve the state\n",
    "\n",
    "We are going to evolve for $T=4\\pi/\\Gamma$, to see multiple oscillations."
   ]
  },
  {
   "cell_type": "code",
   "execution_count": 5,
   "metadata": {},
   "outputs": [],
   "source": [
    "t_eval = np.linspace(0, 4*np.pi/gamma, 501)\n",
    "rho0 = np.zeros((hamiltonian.n**2,), dtype='complex128')\n",
    "rho0[0] = 1.\n",
    "obe.set_initial_rho(rho0)\n",
    "obe.evolve_density([t_eval[0], t_eval[-1]], t_eval=t_eval)\n",
    "\n",
    "N0 = np.zeros((rateeq.hamiltonian.n,))\n",
    "N0[0] = 1\n",
    "rateeq.set_initial_pop(N0)\n",
    "rateeq.evolve_populations([t_eval[0], t_eval[-1]], t_eval=t_eval)"
   ]
  },
  {
   "cell_type": "markdown",
   "metadata": {},
   "source": [
    "Plot it all up:"
   ]
  },
  {
   "cell_type": "code",
   "execution_count": 6,
   "metadata": {},
   "outputs": [
    {
     "data": {
      "image/png": "[encoded data removed]",
      "text/plain": [
       "<Figure size 487.5x300 with 1 Axes>"
      ]
     },
     "metadata": {
      "needs_background": "light"
     },
     "output_type": "display_data"
    }
   ],
   "source": [
    "def final_value(s, det):\n",
    "    return s/2/(1+s+4*det**2)\n",
    "\n",
    "fig, ax = plt.subplots(1, 1, num='evolution', figsize=(3.25, 2.))\n",
    "ax.plot(obe.sol.t*gamma/2/np.pi, np.abs(obe.sol.rho[0, 0, :]), linewidth=0.75,\n",
    "         label='$\\\\rho_{00}$')\n",
    "ax.plot(obe.sol.t*gamma/2/np.pi, np.abs(obe.sol.rho[1, 1, :]), linewidth=0.75,\n",
    "         label='$\\\\rho_{11}$')\n",
    "ax.plot(rateeq.sol.t*gamma/2/np.pi, np.abs(rateeq.sol.y[0, :]), linewidth=0.75,\n",
    "         label='$\\\\rho_{00}$ (rate eq.)', color='C0', linestyle='--')\n",
    "ax.plot(rateeq.sol.t*gamma/2/np.pi, np.abs(rateeq.sol.y[-1, :]), linewidth=0.75,\n",
    "         label='$\\\\rho_{11}$ (rate eq.)', color='C1', linestyle='--')\n",
    "# ax.plot(obe.sol.t[-1]*gamma/2/np.pi,\n",
    "#          final_value(len(laserBeams)*laserBeams[0].beta(np.array([0., 0., 0.])),\n",
    "#                      ham_det+laser_det) ,'o')\n",
    "# ax.legend(fontsize=6)\n",
    "ax.set_xlabel('$t/2\\pi\\Gamma$')\n",
    "ax.set_ylabel('$\\\\rho_{ii}$')\n",
    "ax.set_xlim((0., 2))\n",
    "ax.set_ylim((0., 1))\n",
    "fig.subplots_adjust(bottom=0.2)"
   ]
  }
 ],
 "metadata": {
  "kernelspec": {
   "display_name": "Python 3",
   "language": "python",
   "name": "python3"
  },
  "language_info": {
   "codemirror_mode": {
    "name": "ipython",
    "version": 3
   },
   "file_extension": ".py",
   "mimetype": "text/x-python",
   "name": "python",
   "nbconvert_exporter": "python",
   "pygments_lexer": "ipython3",
   "version": "3.7.6"
  }
 },
 "nbformat": 4,
 "nbformat_minor": 4
}
